{
 "cells": [
  {
   "cell_type": "code",
   "execution_count": 1,
   "metadata": {},
   "outputs": [],
   "source": [
    "%load_ext autoreload\n",
    "%autoreload 2\n",
    "%matplotlib inline"
   ]
  },
  {
   "cell_type": "code",
   "execution_count": 136,
   "metadata": {},
   "outputs": [],
   "source": [
    "import glob\n",
    "import os\n",
    "from os.path import expanduser\n",
    "import re\n",
    "\n",
    "import numpy as np \n",
    "import pandas as pd\n",
    "\n",
    "import matplotlib.pyplot as plt\n",
    "import seaborn as sns \n",
    "\n",
    "from regression_utils import add_datepart\n",
    "\n",
    "sns.set();"
   ]
  },
  {
   "cell_type": "code",
   "execution_count": 137,
   "metadata": {},
   "outputs": [],
   "source": [
    "home = expanduser(\"~\")\n",
    "path2data = home + '/.kaggle/competitions/recruit-restaurant-visitor-forecasting/'"
   ]
  },
  {
   "cell_type": "code",
   "execution_count": 138,
   "metadata": {},
   "outputs": [],
   "source": [
    "# folder to save figures\n",
    "path2figures = 'figures/'\n",
    "if  not os.path.exists(path2figures): os.mkdir(path2figures)"
   ]
  },
  {
   "cell_type": "markdown",
   "metadata": {
    "heading_collapsed": true
   },
   "source": [
    "## Download Dataset"
   ]
  },
  {
   "cell_type": "code",
   "execution_count": 139,
   "metadata": {
    "hidden": true,
    "scrolled": true
   },
   "outputs": [
    {
     "name": "stdout",
     "output_type": "stream",
     "text": [
      "Dataset already downloaded!\n"
     ]
    }
   ],
   "source": [
    "if  not os.path.exists(path2data):\n",
    "    !pip install kaggle\n",
    "    !kaggle competitions download -c recruit-restaurant-visitor-forecasting -p ~/.kaggle/competitions/recruit-restaurant-visitor-forecasting\n",
    "    !cd ~/.kaggle/competitions/recruit-restaurant-visitor-forecasting && ls && unzip \"*.zip\"\n",
    "else:\n",
    "    print('Dataset already downloaded!')"
   ]
  },
  {
   "cell_type": "code",
   "execution_count": 140,
   "metadata": {
    "hidden": true
   },
   "outputs": [
    {
     "name": "stdout",
     "output_type": "stream",
     "text": [
      "air_reserve.csv\t\tdate_info.csv\t\tsample_submission.csv\r\n",
      "air_reserve.csv.zip\tdate_info.csv.zip\tsample_submission.csv.zip\r\n",
      "air_store_info.csv\thpg_reserve.csv\t\tstore_id_relation.csv\r\n",
      "air_store_info.csv.zip\thpg_reserve.csv.zip\tstore_id_relation.csv.zip\r\n",
      "air_visit_data.csv\thpg_store_info.csv\r\n",
      "air_visit_data.csv.zip\thpg_store_info.csv.zip\r\n"
     ]
    }
   ],
   "source": [
    "!ls {path2data}"
   ]
  },
  {
   "cell_type": "markdown",
   "metadata": {},
   "source": [
    "## Data Loading"
   ]
  },
  {
   "cell_type": "code",
   "execution_count": 141,
   "metadata": {},
   "outputs": [],
   "source": [
    "dfs = { re.search('/([^/\\.]*)\\.csv', fn).group(1):\n",
    "    pd.read_csv(fn)for fn in glob.glob( path2data +'*.csv')}\n",
    "for k, v in dfs.items(): locals()[k] = v"
   ]
  },
  {
   "cell_type": "markdown",
   "metadata": {},
   "source": [
    "- **air_store_info** contains information about select air restaurants.\n",
    "\n",
    "- **air_visit_data** contains historical visit data for the air restaurants. It has basicaly the id of the reservation using the air system, visit_date and the number of visitors. In order to combine the provided informations with the new feature we have created a new structure **visitors**. \n",
    "\n",
    "- **hpg_store_info** contains information about select hpg restaurants.\n",
    "\n",
    "- **hpg_reserve** contains informations abourt reservation made using hpg. \n",
    "\n",
    "- **air_reserve** contains informations abourt reservation made using air. "
   ]
  },
  {
   "cell_type": "code",
   "execution_count": 142,
   "metadata": {},
   "outputs": [
    {
     "name": "stdout",
     "output_type": "stream",
     "text": [
      "date_info\n",
      "sample_submission\n",
      "air_store_info\n",
      "air_reserve\n",
      "hpg_store_info\n",
      "air_visit_data\n",
      "store_id_relation\n",
      "hpg_reserve\n"
     ]
    }
   ],
   "source": [
    "for k,v in  dfs.items(): print(k)"
   ]
  },
  {
   "cell_type": "code",
   "execution_count": 143,
   "metadata": {},
   "outputs": [],
   "source": [
    "# Now that we created the local dataframes we don't need the dictionary\n",
    "del dfs"
   ]
  },
  {
   "cell_type": "code",
   "execution_count": 144,
   "metadata": {},
   "outputs": [
    {
     "name": "stdout",
     "output_type": "stream",
     "text": [
      "air visit data shape: (252108, 3)\n",
      "sample_submission shape: (32019, 2)\n"
     ]
    }
   ],
   "source": [
    "print('air visit data shape: {}'.format(air_visit_data.shape))\n",
    "print('sample_submission shape: {}'.format(sample_submission.shape))"
   ]
  },
  {
   "cell_type": "code",
   "execution_count": 145,
   "metadata": {},
   "outputs": [],
   "source": [
    "data = air_visit_data.copy()"
   ]
  },
  {
   "cell_type": "code",
   "execution_count": 146,
   "metadata": {},
   "outputs": [],
   "source": [
    "data['visit_date']= pd.to_datetime(data['visit_date'])\n",
    "add_datepart(data,'visit_date',drop=False)\n",
    "\n",
    "data = data.rename(columns={'visit_Dayofweek': 'dow'})\n",
    "data['visit_date']= data['visit_date'].dt.date"
   ]
  },
  {
   "cell_type": "code",
   "execution_count": 147,
   "metadata": {},
   "outputs": [],
   "source": [
    "sample_submission['air_store_id'] = sample_submission.id.map(lambda x: '_'.join(x.split('_')[:-1]))\n",
    "sample_submission['visit_date'] = sample_submission.id.map(lambda x: x.split('_')[2])\n",
    "\n",
    "sample_submission['visit_date'] = pd.to_datetime(sample_submission['visit_date'])\n",
    "add_datepart(sample_submission,'visit_date',drop=False)\n",
    "sample_submission = sample_submission.rename(columns={'visit_Dayofweek': 'dow'})\n",
    "sample_submission['visit_date'] = sample_submission['visit_date'].dt.date\n",
    "\n",
    "#sample_submission = sample_submission.drop('id', axis='columns')"
   ]
  },
  {
   "cell_type": "code",
   "execution_count": 148,
   "metadata": {},
   "outputs": [
    {
     "data": {
      "text/html": [
       "<div>\n",
       "<style scoped>\n",
       "    .dataframe tbody tr th:only-of-type {\n",
       "        vertical-align: middle;\n",
       "    }\n",
       "\n",
       "    .dataframe tbody tr th {\n",
       "        vertical-align: top;\n",
       "    }\n",
       "\n",
       "    .dataframe thead th {\n",
       "        text-align: right;\n",
       "    }\n",
       "</style>\n",
       "<table border=\"1\" class=\"dataframe\">\n",
       "  <thead>\n",
       "    <tr style=\"text-align: right;\">\n",
       "      <th></th>\n",
       "      <th>id</th>\n",
       "      <th>visitors</th>\n",
       "      <th>air_store_id</th>\n",
       "      <th>visit_date</th>\n",
       "      <th>visit_Year</th>\n",
       "      <th>visit_Month</th>\n",
       "      <th>visit_Week</th>\n",
       "      <th>visit_Day</th>\n",
       "      <th>dow</th>\n",
       "      <th>visit_Dayofyear</th>\n",
       "      <th>visit_Is_month_end</th>\n",
       "      <th>visit_Is_month_start</th>\n",
       "      <th>visit_Is_quarter_end</th>\n",
       "      <th>visit_Is_quarter_start</th>\n",
       "      <th>visit_Is_year_end</th>\n",
       "      <th>visit_Is_year_start</th>\n",
       "      <th>visit_Elapsed</th>\n",
       "    </tr>\n",
       "  </thead>\n",
       "  <tbody>\n",
       "    <tr>\n",
       "      <th>0</th>\n",
       "      <td>air_00a91d42b08b08d9_2017-04-23</td>\n",
       "      <td>0</td>\n",
       "      <td>air_00a91d42b08b08d9</td>\n",
       "      <td>2017-04-23</td>\n",
       "      <td>2017</td>\n",
       "      <td>4</td>\n",
       "      <td>16</td>\n",
       "      <td>23</td>\n",
       "      <td>6</td>\n",
       "      <td>113</td>\n",
       "      <td>False</td>\n",
       "      <td>False</td>\n",
       "      <td>False</td>\n",
       "      <td>False</td>\n",
       "      <td>False</td>\n",
       "      <td>False</td>\n",
       "      <td>1492905600</td>\n",
       "    </tr>\n",
       "    <tr>\n",
       "      <th>1</th>\n",
       "      <td>air_00a91d42b08b08d9_2017-04-24</td>\n",
       "      <td>0</td>\n",
       "      <td>air_00a91d42b08b08d9</td>\n",
       "      <td>2017-04-24</td>\n",
       "      <td>2017</td>\n",
       "      <td>4</td>\n",
       "      <td>17</td>\n",
       "      <td>24</td>\n",
       "      <td>0</td>\n",
       "      <td>114</td>\n",
       "      <td>False</td>\n",
       "      <td>False</td>\n",
       "      <td>False</td>\n",
       "      <td>False</td>\n",
       "      <td>False</td>\n",
       "      <td>False</td>\n",
       "      <td>1492992000</td>\n",
       "    </tr>\n",
       "    <tr>\n",
       "      <th>2</th>\n",
       "      <td>air_00a91d42b08b08d9_2017-04-25</td>\n",
       "      <td>0</td>\n",
       "      <td>air_00a91d42b08b08d9</td>\n",
       "      <td>2017-04-25</td>\n",
       "      <td>2017</td>\n",
       "      <td>4</td>\n",
       "      <td>17</td>\n",
       "      <td>25</td>\n",
       "      <td>1</td>\n",
       "      <td>115</td>\n",
       "      <td>False</td>\n",
       "      <td>False</td>\n",
       "      <td>False</td>\n",
       "      <td>False</td>\n",
       "      <td>False</td>\n",
       "      <td>False</td>\n",
       "      <td>1493078400</td>\n",
       "    </tr>\n",
       "    <tr>\n",
       "      <th>3</th>\n",
       "      <td>air_00a91d42b08b08d9_2017-04-26</td>\n",
       "      <td>0</td>\n",
       "      <td>air_00a91d42b08b08d9</td>\n",
       "      <td>2017-04-26</td>\n",
       "      <td>2017</td>\n",
       "      <td>4</td>\n",
       "      <td>17</td>\n",
       "      <td>26</td>\n",
       "      <td>2</td>\n",
       "      <td>116</td>\n",
       "      <td>False</td>\n",
       "      <td>False</td>\n",
       "      <td>False</td>\n",
       "      <td>False</td>\n",
       "      <td>False</td>\n",
       "      <td>False</td>\n",
       "      <td>1493164800</td>\n",
       "    </tr>\n",
       "    <tr>\n",
       "      <th>4</th>\n",
       "      <td>air_00a91d42b08b08d9_2017-04-27</td>\n",
       "      <td>0</td>\n",
       "      <td>air_00a91d42b08b08d9</td>\n",
       "      <td>2017-04-27</td>\n",
       "      <td>2017</td>\n",
       "      <td>4</td>\n",
       "      <td>17</td>\n",
       "      <td>27</td>\n",
       "      <td>3</td>\n",
       "      <td>117</td>\n",
       "      <td>False</td>\n",
       "      <td>False</td>\n",
       "      <td>False</td>\n",
       "      <td>False</td>\n",
       "      <td>False</td>\n",
       "      <td>False</td>\n",
       "      <td>1493251200</td>\n",
       "    </tr>\n",
       "  </tbody>\n",
       "</table>\n",
       "</div>"
      ],
      "text/plain": [
       "                                id  visitors          air_store_id  \\\n",
       "0  air_00a91d42b08b08d9_2017-04-23         0  air_00a91d42b08b08d9   \n",
       "1  air_00a91d42b08b08d9_2017-04-24         0  air_00a91d42b08b08d9   \n",
       "2  air_00a91d42b08b08d9_2017-04-25         0  air_00a91d42b08b08d9   \n",
       "3  air_00a91d42b08b08d9_2017-04-26         0  air_00a91d42b08b08d9   \n",
       "4  air_00a91d42b08b08d9_2017-04-27         0  air_00a91d42b08b08d9   \n",
       "\n",
       "   visit_date  visit_Year  visit_Month  visit_Week  visit_Day  dow  \\\n",
       "0  2017-04-23        2017            4          16         23    6   \n",
       "1  2017-04-24        2017            4          17         24    0   \n",
       "2  2017-04-25        2017            4          17         25    1   \n",
       "3  2017-04-26        2017            4          17         26    2   \n",
       "4  2017-04-27        2017            4          17         27    3   \n",
       "\n",
       "   visit_Dayofyear  visit_Is_month_end  visit_Is_month_start  \\\n",
       "0              113               False                 False   \n",
       "1              114               False                 False   \n",
       "2              115               False                 False   \n",
       "3              116               False                 False   \n",
       "4              117               False                 False   \n",
       "\n",
       "   visit_Is_quarter_end  visit_Is_quarter_start  visit_Is_year_end  \\\n",
       "0                 False                   False              False   \n",
       "1                 False                   False              False   \n",
       "2                 False                   False              False   \n",
       "3                 False                   False              False   \n",
       "4                 False                   False              False   \n",
       "\n",
       "   visit_Is_year_start  visit_Elapsed  \n",
       "0                False     1492905600  \n",
       "1                False     1492992000  \n",
       "2                False     1493078400  \n",
       "3                False     1493164800  \n",
       "4                False     1493251200  "
      ]
     },
     "execution_count": 148,
     "metadata": {},
     "output_type": "execute_result"
    }
   ],
   "source": [
    "sample_submission.head()"
   ]
  },
  {
   "cell_type": "code",
   "execution_count": 149,
   "metadata": {},
   "outputs": [],
   "source": [
    "unique_stores = sample_submission['air_store_id'].unique()\n",
    "stores = pd.concat([pd.DataFrame({'air_store_id': unique_stores, 'dow': \n",
    "    [i]*len(unique_stores)}) for i in range(7)], axis=0, ignore_index=True).reset_index(drop=True)"
   ]
  },
  {
   "cell_type": "code",
   "execution_count": 150,
   "metadata": {},
   "outputs": [],
   "source": [
    "tmp = data.groupby(['air_store_id','dow']).agg({'visitors' : [np.min,np.mean,np.median,np.max,np.size]}).reset_index()\n",
    "tmp.columns = ['air_store_id', 'dow', 'min_visitors', 'mean_visitors', 'median_visitors','max_visitors','count_observations']\n",
    "stores = pd.merge(stores, tmp, how='left', on=['air_store_id','dow']) "
   ]
  },
  {
   "cell_type": "code",
   "execution_count": 151,
   "metadata": {},
   "outputs": [
    {
     "data": {
      "text/html": [
       "<div>\n",
       "<style scoped>\n",
       "    .dataframe tbody tr th:only-of-type {\n",
       "        vertical-align: middle;\n",
       "    }\n",
       "\n",
       "    .dataframe tbody tr th {\n",
       "        vertical-align: top;\n",
       "    }\n",
       "\n",
       "    .dataframe thead th {\n",
       "        text-align: right;\n",
       "    }\n",
       "</style>\n",
       "<table border=\"1\" class=\"dataframe\">\n",
       "  <thead>\n",
       "    <tr style=\"text-align: right;\">\n",
       "      <th></th>\n",
       "      <th>air_store_id</th>\n",
       "      <th>dow</th>\n",
       "      <th>min_visitors</th>\n",
       "      <th>mean_visitors</th>\n",
       "      <th>median_visitors</th>\n",
       "      <th>max_visitors</th>\n",
       "      <th>count_observations</th>\n",
       "    </tr>\n",
       "  </thead>\n",
       "  <tbody>\n",
       "    <tr>\n",
       "      <th>0</th>\n",
       "      <td>air_00a91d42b08b08d9</td>\n",
       "      <td>0</td>\n",
       "      <td>1.0</td>\n",
       "      <td>22.457143</td>\n",
       "      <td>19.0</td>\n",
       "      <td>47.0</td>\n",
       "      <td>35.0</td>\n",
       "    </tr>\n",
       "    <tr>\n",
       "      <th>1</th>\n",
       "      <td>air_0164b9927d20bcc3</td>\n",
       "      <td>0</td>\n",
       "      <td>2.0</td>\n",
       "      <td>7.500000</td>\n",
       "      <td>6.0</td>\n",
       "      <td>19.0</td>\n",
       "      <td>20.0</td>\n",
       "    </tr>\n",
       "    <tr>\n",
       "      <th>2</th>\n",
       "      <td>air_0241aa3964b7f861</td>\n",
       "      <td>0</td>\n",
       "      <td>2.0</td>\n",
       "      <td>8.920635</td>\n",
       "      <td>8.0</td>\n",
       "      <td>23.0</td>\n",
       "      <td>63.0</td>\n",
       "    </tr>\n",
       "    <tr>\n",
       "      <th>3</th>\n",
       "      <td>air_0328696196e46f18</td>\n",
       "      <td>0</td>\n",
       "      <td>2.0</td>\n",
       "      <td>6.416667</td>\n",
       "      <td>4.0</td>\n",
       "      <td>27.0</td>\n",
       "      <td>12.0</td>\n",
       "    </tr>\n",
       "    <tr>\n",
       "      <th>4</th>\n",
       "      <td>air_034a3d5b40d5b1b1</td>\n",
       "      <td>0</td>\n",
       "      <td>1.0</td>\n",
       "      <td>11.864865</td>\n",
       "      <td>10.0</td>\n",
       "      <td>66.0</td>\n",
       "      <td>37.0</td>\n",
       "    </tr>\n",
       "  </tbody>\n",
       "</table>\n",
       "</div>"
      ],
      "text/plain": [
       "           air_store_id  dow  min_visitors  mean_visitors  median_visitors  \\\n",
       "0  air_00a91d42b08b08d9    0           1.0      22.457143             19.0   \n",
       "1  air_0164b9927d20bcc3    0           2.0       7.500000              6.0   \n",
       "2  air_0241aa3964b7f861    0           2.0       8.920635              8.0   \n",
       "3  air_0328696196e46f18    0           2.0       6.416667              4.0   \n",
       "4  air_034a3d5b40d5b1b1    0           1.0      11.864865             10.0   \n",
       "\n",
       "   max_visitors  count_observations  \n",
       "0          47.0                35.0  \n",
       "1          19.0                20.0  \n",
       "2          23.0                63.0  \n",
       "3          27.0                12.0  \n",
       "4          66.0                37.0  "
      ]
     },
     "execution_count": 151,
     "metadata": {},
     "output_type": "execute_result"
    }
   ],
   "source": [
    "stores.head()"
   ]
  },
  {
   "cell_type": "code",
   "execution_count": 152,
   "metadata": {},
   "outputs": [],
   "source": [
    "stores = pd.merge(stores, air_store_info, how='left', on=['air_store_id']) "
   ]
  },
  {
   "cell_type": "code",
   "execution_count": 153,
   "metadata": {
    "scrolled": true
   },
   "outputs": [
    {
     "data": {
      "text/html": [
       "<div>\n",
       "<style scoped>\n",
       "    .dataframe tbody tr th:only-of-type {\n",
       "        vertical-align: middle;\n",
       "    }\n",
       "\n",
       "    .dataframe tbody tr th {\n",
       "        vertical-align: top;\n",
       "    }\n",
       "\n",
       "    .dataframe thead th {\n",
       "        text-align: right;\n",
       "    }\n",
       "</style>\n",
       "<table border=\"1\" class=\"dataframe\">\n",
       "  <thead>\n",
       "    <tr style=\"text-align: right;\">\n",
       "      <th></th>\n",
       "      <th>air_store_id</th>\n",
       "      <th>dow</th>\n",
       "      <th>min_visitors</th>\n",
       "      <th>mean_visitors</th>\n",
       "      <th>median_visitors</th>\n",
       "      <th>max_visitors</th>\n",
       "      <th>count_observations</th>\n",
       "      <th>air_genre_name</th>\n",
       "      <th>air_area_name</th>\n",
       "      <th>latitude</th>\n",
       "      <th>longitude</th>\n",
       "    </tr>\n",
       "  </thead>\n",
       "  <tbody>\n",
       "    <tr>\n",
       "      <th>0</th>\n",
       "      <td>air_00a91d42b08b08d9</td>\n",
       "      <td>0</td>\n",
       "      <td>1.0</td>\n",
       "      <td>22.457143</td>\n",
       "      <td>19.0</td>\n",
       "      <td>47.0</td>\n",
       "      <td>35.0</td>\n",
       "      <td>Italian/French</td>\n",
       "      <td>Tōkyō-to Chiyoda-ku Kudanminami</td>\n",
       "      <td>35.694003</td>\n",
       "      <td>139.753595</td>\n",
       "    </tr>\n",
       "    <tr>\n",
       "      <th>1</th>\n",
       "      <td>air_0164b9927d20bcc3</td>\n",
       "      <td>0</td>\n",
       "      <td>2.0</td>\n",
       "      <td>7.500000</td>\n",
       "      <td>6.0</td>\n",
       "      <td>19.0</td>\n",
       "      <td>20.0</td>\n",
       "      <td>Italian/French</td>\n",
       "      <td>Tōkyō-to Minato-ku Shibakōen</td>\n",
       "      <td>35.658068</td>\n",
       "      <td>139.751599</td>\n",
       "    </tr>\n",
       "    <tr>\n",
       "      <th>2</th>\n",
       "      <td>air_0241aa3964b7f861</td>\n",
       "      <td>0</td>\n",
       "      <td>2.0</td>\n",
       "      <td>8.920635</td>\n",
       "      <td>8.0</td>\n",
       "      <td>23.0</td>\n",
       "      <td>63.0</td>\n",
       "      <td>Izakaya</td>\n",
       "      <td>Tōkyō-to Taitō-ku Higashiueno</td>\n",
       "      <td>35.712607</td>\n",
       "      <td>139.779996</td>\n",
       "    </tr>\n",
       "    <tr>\n",
       "      <th>3</th>\n",
       "      <td>air_0328696196e46f18</td>\n",
       "      <td>0</td>\n",
       "      <td>2.0</td>\n",
       "      <td>6.416667</td>\n",
       "      <td>4.0</td>\n",
       "      <td>27.0</td>\n",
       "      <td>12.0</td>\n",
       "      <td>Dining bar</td>\n",
       "      <td>Ōsaka-fu Ōsaka-shi Nakanochō</td>\n",
       "      <td>34.701279</td>\n",
       "      <td>135.528090</td>\n",
       "    </tr>\n",
       "    <tr>\n",
       "      <th>4</th>\n",
       "      <td>air_034a3d5b40d5b1b1</td>\n",
       "      <td>0</td>\n",
       "      <td>1.0</td>\n",
       "      <td>11.864865</td>\n",
       "      <td>10.0</td>\n",
       "      <td>66.0</td>\n",
       "      <td>37.0</td>\n",
       "      <td>Cafe/Sweets</td>\n",
       "      <td>Ōsaka-fu Ōsaka-shi Ōhiraki</td>\n",
       "      <td>34.692337</td>\n",
       "      <td>135.472229</td>\n",
       "    </tr>\n",
       "  </tbody>\n",
       "</table>\n",
       "</div>"
      ],
      "text/plain": [
       "           air_store_id  dow  min_visitors  mean_visitors  median_visitors  \\\n",
       "0  air_00a91d42b08b08d9    0           1.0      22.457143             19.0   \n",
       "1  air_0164b9927d20bcc3    0           2.0       7.500000              6.0   \n",
       "2  air_0241aa3964b7f861    0           2.0       8.920635              8.0   \n",
       "3  air_0328696196e46f18    0           2.0       6.416667              4.0   \n",
       "4  air_034a3d5b40d5b1b1    0           1.0      11.864865             10.0   \n",
       "\n",
       "   max_visitors  count_observations  air_genre_name  \\\n",
       "0          47.0                35.0  Italian/French   \n",
       "1          19.0                20.0  Italian/French   \n",
       "2          23.0                63.0         Izakaya   \n",
       "3          27.0                12.0      Dining bar   \n",
       "4          66.0                37.0     Cafe/Sweets   \n",
       "\n",
       "                     air_area_name   latitude   longitude  \n",
       "0  Tōkyō-to Chiyoda-ku Kudanminami  35.694003  139.753595  \n",
       "1     Tōkyō-to Minato-ku Shibakōen  35.658068  139.751599  \n",
       "2    Tōkyō-to Taitō-ku Higashiueno  35.712607  139.779996  \n",
       "3     Ōsaka-fu Ōsaka-shi Nakanochō  34.701279  135.528090  \n",
       "4       Ōsaka-fu Ōsaka-shi Ōhiraki  34.692337  135.472229  "
      ]
     },
     "execution_count": 153,
     "metadata": {},
     "output_type": "execute_result"
    }
   ],
   "source": [
    "stores.head()"
   ]
  },
  {
   "cell_type": "code",
   "execution_count": 154,
   "metadata": {},
   "outputs": [],
   "source": [
    "data = pd.merge(data, stores, how='left', on=['air_store_id','dow']) \n",
    "sample_submission = pd.merge(sample_submission, stores, how='left', on=['air_store_id','dow'])"
   ]
  },
  {
   "cell_type": "markdown",
   "metadata": {},
   "source": [
    "One of the big challenges on dataset is the amount of null values from both systems\n",
    "here it was chose to fill the categorical variables with the most frequent and the continuous values with the median value"
   ]
  },
  {
   "cell_type": "code",
   "execution_count": 155,
   "metadata": {},
   "outputs": [],
   "source": [
    "for col in ['air_genre_name','air_area_name', 'min_visitors', 'mean_visitors', \n",
    "            'mean_visitors', 'median_visitors', 'max_visitors', 'count_observations']:\n",
    "\n",
    "    if data[col].dtype == 'O':\n",
    "        data[col].fillna(data[col].value_counts().index[0],inplace=True)  \n",
    "        sample_submission[col].fillna(sample_submission[col].value_counts().index[0],inplace=True)\n",
    "    else:\n",
    "        data[col].fillna(data[col].median(),inplace=True)  \n",
    "        sample_submission[col].fillna(sample_submission[col].median(),inplace=True)\n"
   ]
  },
  {
   "cell_type": "markdown",
   "metadata": {},
   "source": [
    "Also the latitude and longitude were carefully analyzed to fill the nan values with the same coordination of the area name of the restaurant"
   ]
  },
  {
   "cell_type": "code",
   "execution_count": 156,
   "metadata": {},
   "outputs": [
    {
     "data": {
      "text/plain": [
       "['Fukuoka-ken Fukuoka-shi Daimyō']"
      ]
     },
     "execution_count": 156,
     "metadata": {},
     "output_type": "execute_result"
    }
   ],
   "source": [
    "loc = data[(data['longitude'].isnull())|\n",
    "           (data['latitude'].isnull())].air_area_name.unique().tolist()\n",
    "loc"
   ]
  },
  {
   "cell_type": "code",
   "execution_count": 157,
   "metadata": {},
   "outputs": [
    {
     "data": {
      "text/plain": [
       "latitude     1640\n",
       "longitude    1640\n",
       "dtype: int64"
      ]
     },
     "execution_count": 157,
     "metadata": {},
     "output_type": "execute_result"
    }
   ],
   "source": [
    "coords = ['latitude','longitude']\n",
    "data[coords].isnull().sum()"
   ]
  },
  {
   "cell_type": "code",
   "execution_count": 158,
   "metadata": {},
   "outputs": [
    {
     "data": {
      "text/plain": [
       "latitude     0\n",
       "longitude    0\n",
       "dtype: int64"
      ]
     },
     "execution_count": 158,
     "metadata": {},
     "output_type": "execute_result"
    }
   ],
   "source": [
    "for coord in coords:\n",
    "    mf_val = data[data['air_area_name']==loc[0]][coord].mode()[0]\n",
    "    data[coord].fillna(mf_val,inplace=True)  \n",
    "data[coords].isnull().sum()"
   ]
  },
  {
   "cell_type": "code",
   "execution_count": 159,
   "metadata": {},
   "outputs": [
    {
     "data": {
      "text/plain": [
       "air_store_id              0\n",
       "visit_date                0\n",
       "visitors                  0\n",
       "visit_Year                0\n",
       "visit_Month               0\n",
       "visit_Week                0\n",
       "visit_Day                 0\n",
       "dow                       0\n",
       "visit_Dayofyear           0\n",
       "visit_Is_month_end        0\n",
       "visit_Is_month_start      0\n",
       "visit_Is_quarter_end      0\n",
       "visit_Is_quarter_start    0\n",
       "visit_Is_year_end         0\n",
       "visit_Is_year_start       0\n",
       "visit_Elapsed             0\n",
       "min_visitors              0\n",
       "mean_visitors             0\n",
       "median_visitors           0\n",
       "max_visitors              0\n",
       "count_observations        0\n",
       "air_genre_name            0\n",
       "air_area_name             0\n",
       "latitude                  0\n",
       "longitude                 0\n",
       "dtype: int64"
      ]
     },
     "execution_count": 159,
     "metadata": {},
     "output_type": "execute_result"
    }
   ],
   "source": [
    "data.isnull().sum()"
   ]
  },
  {
   "cell_type": "code",
   "execution_count": 160,
   "metadata": {},
   "outputs": [],
   "source": [
    "date_info = date_info.rename(columns={'calendar_date':'visit_date'})\n",
    "date_info['visit_date'] = pd.to_datetime(date_info['visit_date']).dt.date"
   ]
  },
  {
   "cell_type": "code",
   "execution_count": 161,
   "metadata": {},
   "outputs": [
    {
     "data": {
      "text/html": [
       "<div>\n",
       "<style scoped>\n",
       "    .dataframe tbody tr th:only-of-type {\n",
       "        vertical-align: middle;\n",
       "    }\n",
       "\n",
       "    .dataframe tbody tr th {\n",
       "        vertical-align: top;\n",
       "    }\n",
       "\n",
       "    .dataframe thead th {\n",
       "        text-align: right;\n",
       "    }\n",
       "</style>\n",
       "<table border=\"1\" class=\"dataframe\">\n",
       "  <thead>\n",
       "    <tr style=\"text-align: right;\">\n",
       "      <th></th>\n",
       "      <th>visit_date</th>\n",
       "      <th>day_of_week</th>\n",
       "      <th>holiday_flg</th>\n",
       "    </tr>\n",
       "  </thead>\n",
       "  <tbody>\n",
       "    <tr>\n",
       "      <th>0</th>\n",
       "      <td>2016-01-01</td>\n",
       "      <td>Friday</td>\n",
       "      <td>1</td>\n",
       "    </tr>\n",
       "    <tr>\n",
       "      <th>1</th>\n",
       "      <td>2016-01-02</td>\n",
       "      <td>Saturday</td>\n",
       "      <td>1</td>\n",
       "    </tr>\n",
       "    <tr>\n",
       "      <th>2</th>\n",
       "      <td>2016-01-03</td>\n",
       "      <td>Sunday</td>\n",
       "      <td>1</td>\n",
       "    </tr>\n",
       "    <tr>\n",
       "      <th>3</th>\n",
       "      <td>2016-01-04</td>\n",
       "      <td>Monday</td>\n",
       "      <td>0</td>\n",
       "    </tr>\n",
       "    <tr>\n",
       "      <th>4</th>\n",
       "      <td>2016-01-05</td>\n",
       "      <td>Tuesday</td>\n",
       "      <td>0</td>\n",
       "    </tr>\n",
       "  </tbody>\n",
       "</table>\n",
       "</div>"
      ],
      "text/plain": [
       "   visit_date day_of_week  holiday_flg\n",
       "0  2016-01-01      Friday            1\n",
       "1  2016-01-02    Saturday            1\n",
       "2  2016-01-03      Sunday            1\n",
       "3  2016-01-04      Monday            0\n",
       "4  2016-01-05     Tuesday            0"
      ]
     },
     "execution_count": 161,
     "metadata": {},
     "output_type": "execute_result"
    }
   ],
   "source": [
    "date_info.head()"
   ]
  },
  {
   "cell_type": "code",
   "execution_count": 162,
   "metadata": {},
   "outputs": [],
   "source": [
    "data = data.merge(date_info, on='visit_date', how='left')"
   ]
  },
  {
   "cell_type": "code",
   "execution_count": 163,
   "metadata": {},
   "outputs": [
    {
     "data": {
      "text/plain": [
       "0"
      ]
     },
     "execution_count": 163,
     "metadata": {},
     "output_type": "execute_result"
    }
   ],
   "source": [
    "data.isnull().sum().sum()"
   ]
  },
  {
   "cell_type": "code",
   "execution_count": 164,
   "metadata": {},
   "outputs": [
    {
     "data": {
      "text/plain": [
       "0"
      ]
     },
     "execution_count": 164,
     "metadata": {},
     "output_type": "execute_result"
    }
   ],
   "source": [
    "sample_submission = sample_submission.merge(date_info, on='visit_date', how='left')\n",
    "sample_submission.isnull().sum().sum()"
   ]
  },
  {
   "cell_type": "code",
   "execution_count": 165,
   "metadata": {},
   "outputs": [
    {
     "name": "stdout",
     "output_type": "stream",
     "text": [
      "Features shape: (252108, 27)\n"
     ]
    }
   ],
   "source": [
    "print('Features shape: {}'.format(data.shape))"
   ]
  },
  {
   "cell_type": "markdown",
   "metadata": {},
   "source": [
    "The number of visitor which is the target of the problem was transformed used a **log(1 + visitors)**. This transformation brings the distribution of visitors closer to a gaussian distribution which helps convergence and the final metric of the competition is RMSLE which can be converted to RMSE by transforming the target"
   ]
  },
  {
   "cell_type": "code",
   "execution_count": 166,
   "metadata": {},
   "outputs": [],
   "source": [
    "data['visitors_log'] = data.visitors.map(pd.np.log1p)\n",
    "sample_submission['visitors_log'] = sample_submission.visitors.map(pd.np.log1p)"
   ]
  },
  {
   "cell_type": "code",
   "execution_count": 167,
   "metadata": {},
   "outputs": [
    {
     "data": {
      "text/html": [
       "<div>\n",
       "<style scoped>\n",
       "    .dataframe tbody tr th:only-of-type {\n",
       "        vertical-align: middle;\n",
       "    }\n",
       "\n",
       "    .dataframe tbody tr th {\n",
       "        vertical-align: top;\n",
       "    }\n",
       "\n",
       "    .dataframe thead th {\n",
       "        text-align: right;\n",
       "    }\n",
       "</style>\n",
       "<table border=\"1\" class=\"dataframe\">\n",
       "  <thead>\n",
       "    <tr style=\"text-align: right;\">\n",
       "      <th></th>\n",
       "      <th>air_store_id</th>\n",
       "      <th>visit_date</th>\n",
       "      <th>visitors</th>\n",
       "      <th>visit_Year</th>\n",
       "      <th>visit_Month</th>\n",
       "      <th>visit_Week</th>\n",
       "      <th>visit_Day</th>\n",
       "      <th>dow</th>\n",
       "      <th>visit_Dayofyear</th>\n",
       "      <th>visit_Is_month_end</th>\n",
       "      <th>...</th>\n",
       "      <th>median_visitors</th>\n",
       "      <th>max_visitors</th>\n",
       "      <th>count_observations</th>\n",
       "      <th>air_genre_name</th>\n",
       "      <th>air_area_name</th>\n",
       "      <th>latitude</th>\n",
       "      <th>longitude</th>\n",
       "      <th>day_of_week</th>\n",
       "      <th>holiday_flg</th>\n",
       "      <th>visitors_log</th>\n",
       "    </tr>\n",
       "  </thead>\n",
       "  <tbody>\n",
       "    <tr>\n",
       "      <th>0</th>\n",
       "      <td>air_ba937bf13d40fb24</td>\n",
       "      <td>2016-01-13</td>\n",
       "      <td>25</td>\n",
       "      <td>2016</td>\n",
       "      <td>1</td>\n",
       "      <td>2</td>\n",
       "      <td>13</td>\n",
       "      <td>2</td>\n",
       "      <td>13</td>\n",
       "      <td>False</td>\n",
       "      <td>...</td>\n",
       "      <td>25.0</td>\n",
       "      <td>57.0</td>\n",
       "      <td>64.0</td>\n",
       "      <td>Dining bar</td>\n",
       "      <td>Tōkyō-to Minato-ku Shibakōen</td>\n",
       "      <td>35.658068</td>\n",
       "      <td>139.751599</td>\n",
       "      <td>Wednesday</td>\n",
       "      <td>0</td>\n",
       "      <td>3.258097</td>\n",
       "    </tr>\n",
       "    <tr>\n",
       "      <th>1</th>\n",
       "      <td>air_ba937bf13d40fb24</td>\n",
       "      <td>2016-01-14</td>\n",
       "      <td>32</td>\n",
       "      <td>2016</td>\n",
       "      <td>1</td>\n",
       "      <td>2</td>\n",
       "      <td>14</td>\n",
       "      <td>3</td>\n",
       "      <td>14</td>\n",
       "      <td>False</td>\n",
       "      <td>...</td>\n",
       "      <td>21.0</td>\n",
       "      <td>54.0</td>\n",
       "      <td>65.0</td>\n",
       "      <td>Dining bar</td>\n",
       "      <td>Tōkyō-to Minato-ku Shibakōen</td>\n",
       "      <td>35.658068</td>\n",
       "      <td>139.751599</td>\n",
       "      <td>Thursday</td>\n",
       "      <td>0</td>\n",
       "      <td>3.496508</td>\n",
       "    </tr>\n",
       "    <tr>\n",
       "      <th>2</th>\n",
       "      <td>air_ba937bf13d40fb24</td>\n",
       "      <td>2016-01-15</td>\n",
       "      <td>29</td>\n",
       "      <td>2016</td>\n",
       "      <td>1</td>\n",
       "      <td>2</td>\n",
       "      <td>15</td>\n",
       "      <td>4</td>\n",
       "      <td>15</td>\n",
       "      <td>False</td>\n",
       "      <td>...</td>\n",
       "      <td>35.0</td>\n",
       "      <td>61.0</td>\n",
       "      <td>65.0</td>\n",
       "      <td>Dining bar</td>\n",
       "      <td>Tōkyō-to Minato-ku Shibakōen</td>\n",
       "      <td>35.658068</td>\n",
       "      <td>139.751599</td>\n",
       "      <td>Friday</td>\n",
       "      <td>0</td>\n",
       "      <td>3.401197</td>\n",
       "    </tr>\n",
       "    <tr>\n",
       "      <th>3</th>\n",
       "      <td>air_ba937bf13d40fb24</td>\n",
       "      <td>2016-01-16</td>\n",
       "      <td>22</td>\n",
       "      <td>2016</td>\n",
       "      <td>1</td>\n",
       "      <td>2</td>\n",
       "      <td>16</td>\n",
       "      <td>5</td>\n",
       "      <td>16</td>\n",
       "      <td>False</td>\n",
       "      <td>...</td>\n",
       "      <td>27.0</td>\n",
       "      <td>53.0</td>\n",
       "      <td>66.0</td>\n",
       "      <td>Dining bar</td>\n",
       "      <td>Tōkyō-to Minato-ku Shibakōen</td>\n",
       "      <td>35.658068</td>\n",
       "      <td>139.751599</td>\n",
       "      <td>Saturday</td>\n",
       "      <td>0</td>\n",
       "      <td>3.135494</td>\n",
       "    </tr>\n",
       "    <tr>\n",
       "      <th>4</th>\n",
       "      <td>air_ba937bf13d40fb24</td>\n",
       "      <td>2016-01-18</td>\n",
       "      <td>6</td>\n",
       "      <td>2016</td>\n",
       "      <td>1</td>\n",
       "      <td>3</td>\n",
       "      <td>18</td>\n",
       "      <td>0</td>\n",
       "      <td>18</td>\n",
       "      <td>False</td>\n",
       "      <td>...</td>\n",
       "      <td>12.0</td>\n",
       "      <td>34.0</td>\n",
       "      <td>57.0</td>\n",
       "      <td>Dining bar</td>\n",
       "      <td>Tōkyō-to Minato-ku Shibakōen</td>\n",
       "      <td>35.658068</td>\n",
       "      <td>139.751599</td>\n",
       "      <td>Monday</td>\n",
       "      <td>0</td>\n",
       "      <td>1.945910</td>\n",
       "    </tr>\n",
       "  </tbody>\n",
       "</table>\n",
       "<p>5 rows × 28 columns</p>\n",
       "</div>"
      ],
      "text/plain": [
       "           air_store_id  visit_date  visitors  visit_Year  visit_Month  \\\n",
       "0  air_ba937bf13d40fb24  2016-01-13        25        2016            1   \n",
       "1  air_ba937bf13d40fb24  2016-01-14        32        2016            1   \n",
       "2  air_ba937bf13d40fb24  2016-01-15        29        2016            1   \n",
       "3  air_ba937bf13d40fb24  2016-01-16        22        2016            1   \n",
       "4  air_ba937bf13d40fb24  2016-01-18         6        2016            1   \n",
       "\n",
       "   visit_Week  visit_Day  dow  visit_Dayofyear  visit_Is_month_end  \\\n",
       "0           2         13    2               13               False   \n",
       "1           2         14    3               14               False   \n",
       "2           2         15    4               15               False   \n",
       "3           2         16    5               16               False   \n",
       "4           3         18    0               18               False   \n",
       "\n",
       "       ...       median_visitors  max_visitors  count_observations  \\\n",
       "0      ...                  25.0          57.0                64.0   \n",
       "1      ...                  21.0          54.0                65.0   \n",
       "2      ...                  35.0          61.0                65.0   \n",
       "3      ...                  27.0          53.0                66.0   \n",
       "4      ...                  12.0          34.0                57.0   \n",
       "\n",
       "   air_genre_name                 air_area_name   latitude   longitude  \\\n",
       "0      Dining bar  Tōkyō-to Minato-ku Shibakōen  35.658068  139.751599   \n",
       "1      Dining bar  Tōkyō-to Minato-ku Shibakōen  35.658068  139.751599   \n",
       "2      Dining bar  Tōkyō-to Minato-ku Shibakōen  35.658068  139.751599   \n",
       "3      Dining bar  Tōkyō-to Minato-ku Shibakōen  35.658068  139.751599   \n",
       "4      Dining bar  Tōkyō-to Minato-ku Shibakōen  35.658068  139.751599   \n",
       "\n",
       "   day_of_week  holiday_flg  visitors_log  \n",
       "0    Wednesday            0      3.258097  \n",
       "1     Thursday            0      3.496508  \n",
       "2       Friday            0      3.401197  \n",
       "3     Saturday            0      3.135494  \n",
       "4       Monday            0      1.945910  \n",
       "\n",
       "[5 rows x 28 columns]"
      ]
     },
     "execution_count": 167,
     "metadata": {},
     "output_type": "execute_result"
    }
   ],
   "source": [
    "data.head()"
   ]
  },
  {
   "cell_type": "code",
   "execution_count": 168,
   "metadata": {
    "scrolled": true
   },
   "outputs": [
    {
     "data": {
      "image/png": "[encoded data removed]",
      "text/plain": [
       "<matplotlib.figure.Figure at 0x7f5620d1cfd0>"
      ]
     },
     "metadata": {},
     "output_type": "display_data"
    }
   ],
   "source": [
    "fig = plt.figure(figsize=(20,6))\n",
    "plt.subplot(1,2,1)\n",
    "sns.distplot(data['visitors'])\n",
    "plt.title('Visitors distribution', fontsize=20)\n",
    "plt.subplot(1,2,2)\n",
    "sns.distplot(data['visitors_log'])\n",
    "plt.title('1 Plus Log Visitors distribution', fontsize=20)\n",
    "\n",
    "fig.savefig(path2figures + 'visitor_distribution.png')"
   ]
  },
  {
   "cell_type": "code",
   "execution_count": 169,
   "metadata": {
    "scrolled": true
   },
   "outputs": [
    {
     "data": {
      "text/html": [
       "<div>\n",
       "<style scoped>\n",
       "    .dataframe tbody tr th:only-of-type {\n",
       "        vertical-align: middle;\n",
       "    }\n",
       "\n",
       "    .dataframe tbody tr th {\n",
       "        vertical-align: top;\n",
       "    }\n",
       "\n",
       "    .dataframe thead th {\n",
       "        text-align: right;\n",
       "    }\n",
       "</style>\n",
       "<table border=\"1\" class=\"dataframe\">\n",
       "  <thead>\n",
       "    <tr style=\"text-align: right;\">\n",
       "      <th></th>\n",
       "      <th>visitors</th>\n",
       "      <th>visitors_log</th>\n",
       "    </tr>\n",
       "  </thead>\n",
       "  <tbody>\n",
       "    <tr>\n",
       "      <th>count</th>\n",
       "      <td>252108.000000</td>\n",
       "      <td>252108.000000</td>\n",
       "    </tr>\n",
       "    <tr>\n",
       "      <th>mean</th>\n",
       "      <td>20.973761</td>\n",
       "      <td>2.802788</td>\n",
       "    </tr>\n",
       "    <tr>\n",
       "      <th>std</th>\n",
       "      <td>16.757007</td>\n",
       "      <td>0.807726</td>\n",
       "    </tr>\n",
       "    <tr>\n",
       "      <th>min</th>\n",
       "      <td>1.000000</td>\n",
       "      <td>0.693147</td>\n",
       "    </tr>\n",
       "    <tr>\n",
       "      <th>25%</th>\n",
       "      <td>9.000000</td>\n",
       "      <td>2.302585</td>\n",
       "    </tr>\n",
       "    <tr>\n",
       "      <th>50%</th>\n",
       "      <td>17.000000</td>\n",
       "      <td>2.890372</td>\n",
       "    </tr>\n",
       "    <tr>\n",
       "      <th>75%</th>\n",
       "      <td>29.000000</td>\n",
       "      <td>3.401197</td>\n",
       "    </tr>\n",
       "    <tr>\n",
       "      <th>max</th>\n",
       "      <td>877.000000</td>\n",
       "      <td>6.777647</td>\n",
       "    </tr>\n",
       "  </tbody>\n",
       "</table>\n",
       "</div>"
      ],
      "text/plain": [
       "            visitors   visitors_log\n",
       "count  252108.000000  252108.000000\n",
       "mean       20.973761       2.802788\n",
       "std        16.757007       0.807726\n",
       "min         1.000000       0.693147\n",
       "25%         9.000000       2.302585\n",
       "50%        17.000000       2.890372\n",
       "75%        29.000000       3.401197\n",
       "max       877.000000       6.777647"
      ]
     },
     "execution_count": 169,
     "metadata": {},
     "output_type": "execute_result"
    }
   ],
   "source": [
    "data[['visitors', 'visitors_log']].describe()"
   ]
  },
  {
   "cell_type": "code",
   "execution_count": 170,
   "metadata": {},
   "outputs": [
    {
     "data": {
      "text/plain": [
       "0"
      ]
     },
     "execution_count": 170,
     "metadata": {},
     "output_type": "execute_result"
    }
   ],
   "source": [
    "data.isnull().sum().sum()"
   ]
  },
  {
   "cell_type": "code",
   "execution_count": 171,
   "metadata": {
    "scrolled": false
   },
   "outputs": [
    {
     "data": {
      "image/png": "[encoded data removed]",
      "text/plain": [
       "<matplotlib.figure.Figure at 0x7f562dee3f60>"
      ]
     },
     "metadata": {},
     "output_type": "display_data"
    }
   ],
   "source": [
    "fig = plt.figure(figsize=(15,13))\n",
    "plt.subplot(2,2,1)\n",
    "plt.title('Visitors distribution by day of week', fontsize=15)\n",
    "data.groupby('dow')['visitors'].count().plot(kind = 'barh')\n",
    "\n",
    "plt.subplot(2,2,2)\n",
    "plt.title('Visitors distribution by month', fontsize=15)\n",
    "data.groupby('visit_Month')['visitors'].count().plot(kind = 'barh')\n",
    "\n",
    "plt.subplot(2,2,(3,4))\n",
    "plt.title('Number of holidays', fontsize=15)\n",
    "data.groupby('holiday_flg').size().plot(kind = 'bar')\n",
    "\n",
    "fig.savefig(path2figures + 'visitor_distribution_period.png')"
   ]
  },
  {
   "cell_type": "markdown",
   "metadata": {},
   "source": [
    "### Extract informations about the spatial location of the restaurant\n",
    "    - Todofuken\n",
    "    - city\n",
    "    - street"
   ]
  },
  {
   "cell_type": "code",
   "execution_count": 172,
   "metadata": {
    "scrolled": true
   },
   "outputs": [],
   "source": [
    "def get_spatial_information(data):\n",
    "\n",
    "    area  = data.air_area_name.str.split(' ', expand=True)\n",
    "\n",
    "    data['Todofuken'] = area[0]\n",
    "    data['city'] = area[1]\n",
    "    data['street'] = area.iloc[:, 2:].apply(lambda row: ' '.join(row.dropna()), axis=1)\n",
    "    \n",
    "    return data"
   ]
  },
  {
   "cell_type": "code",
   "execution_count": 173,
   "metadata": {},
   "outputs": [],
   "source": [
    "data = get_spatial_information(data)\n",
    "sample_submission = get_spatial_information(sample_submission)"
   ]
  },
  {
   "cell_type": "code",
   "execution_count": 174,
   "metadata": {
    "scrolled": true
   },
   "outputs": [
    {
     "data": {
      "image/png": "[encoded data removed]",
      "text/plain": [
       "<matplotlib.figure.Figure at 0x7f562c8e4e10>"
      ]
     },
     "metadata": {},
     "output_type": "display_data"
    }
   ],
   "source": [
    "fig = plt.figure(figsize=(20,10))\n",
    "\n",
    "plt.subplot(1,2,1)\n",
    "data.groupby(['Todofuken']).size().plot(kind = 'barh')\n",
    "plt.title('Number of restaurant in each Todofuken', fontsize=15)\n",
    "\n",
    "plt.subplot(1,2,2)\n",
    "data.groupby(['city']).size().plot(kind = 'barh')\n",
    "plt.title('Number of restaurant in each city', fontsize=15)\n",
    "          \n",
    "fig.savefig(path2figures + 'stores_distribution.png')"
   ]
  },
  {
   "cell_type": "code",
   "execution_count": 175,
   "metadata": {
    "scrolled": true
   },
   "outputs": [
    {
     "data": {
      "text/plain": [
       "0"
      ]
     },
     "execution_count": 175,
     "metadata": {},
     "output_type": "execute_result"
    }
   ],
   "source": [
    "data.isnull().sum().sum()"
   ]
  },
  {
   "cell_type": "markdown",
   "metadata": {
    "heading_collapsed": true
   },
   "source": [
    "### Weather informations"
   ]
  },
  {
   "cell_type": "markdown",
   "metadata": {
    "hidden": true
   },
   "source": [
    "In order to create a more robust model, we have used information about the [weather](https://www.kaggle.com/huntermcgushion/rrv-weather-data). The cell bellow will download automatically this dataset. To add the precipitation and avg_temperature it will be used the function [add_weather](https://gist.github.com/superMDguy/72689a11746079677ddb0d19f26443a1) as demonstrated bellow."
   ]
  },
  {
   "cell_type": "code",
   "execution_count": 176,
   "metadata": {
    "hidden": true
   },
   "outputs": [],
   "source": [
    "def add_weather(dataset, path2weather='raw/weather/'):                                                                                                                     \n",
    "    print('Adding weather...')                                                                                                                \n",
    "    air_nearest = pd.read_csv(                                                                                                                \n",
    "        path2weather + 'air_store_info_with_nearest_active_station.csv')                                                              \n",
    "    unique_air_store_ids = dataset.air_store_id.unique().tolist()                                                                                \n",
    "                                                                                                                                              \n",
    "    weather_dir = path2weather + '1-1-16_5-31-17_Weather/'                                                                            \n",
    "    weather_keep_columns = ['precipitation', 'avg_temperature']                                                                                                                         \n",
    "                                                                                                                                              \n",
    "    dataset_with_weather = dataset.copy()                                                                                                     \n",
    "    for column in weather_keep_columns:                                                                                                       \n",
    "        dataset_with_weather[column] = np.nan                                                                                                 \n",
    "                                                                                                                                              \n",
    "    for air_id in unique_air_store_ids:                                                                                                       \n",
    "        station = air_nearest[air_nearest.air_store_id == air_id].station_id.iloc[0]                                                          \n",
    "        weather_data = pd.read_csv(weather_dir + station + '.csv', parse_dates=['calendar_date']).rename(columns={'calendar_date': 'visit_date'})                                                                                                                                           \n",
    "                                                                                                                                              \n",
    "        this_store = dataset.air_store_id == air_id                                                                                           \n",
    "        merged = dataset[this_store].merge(weather_data, on='visit_date', how='left')                                                         \n",
    "                                                                                                                                              \n",
    "        for column in weather_keep_columns:                                                                                                   \n",
    "            dataset_with_weather.loc[this_store, column] = merged[column]                                                                     \n",
    "    return dataset_with_weather   "
   ]
  },
  {
   "cell_type": "code",
   "execution_count": 177,
   "metadata": {
    "hidden": true,
    "scrolled": true
   },
   "outputs": [],
   "source": [
    "analyze_weather = False\n",
    "\n",
    "if analyze_weather:\n",
    "    path2weather = 'raw/weather/'\n",
    "\n",
    "    if  not os.path.exists(path2weather):\n",
    "        !wget -O rrv-weather-data.zip \"https://storage.googleapis.com/kaggle-datasets/7480/12096/rrv-weather-data.zip?GoogleAccessId=web-data@kaggle-161607.iam.gserviceaccount.com&Expires=1528816610&Signature=kDnX2dX3Pd8VGbR6rqRmDH7XYFjBiKYnz3hoez3AWjv0oUf2vJKLpYKV7zfLb%2FgNJE2kXy9D8%2BNvmNkx4LrJHRvVrIMsGyMe%2FM0x1Z3Kxk6nJMSI9BDZGhsyBSONBKPNdND%2FEHuo2k1T2Wo8tOBu1VOOQlLt8NkblTCBx3ihEvEapCq6UgtfNvYvnE55MI8TBCNLcMBBBUU3Cv251yywybyUTAGRfWfIoc2hcYkrVV0j8EtOCfX5CKrAmvxhnuzLBKvlapIrYmOLRtwjlyFfQh2nWqpQGb7ORj%2BUfTvL3trMgOd06aozbCj4A207p%2FBd2IBEweYElxsgddGdpwaLHg%3D%3D\"\n",
    "        !mkdir -p raw/weather/\n",
    "        !mv rrv-weather-data.zip raw/weather/\n",
    "        !cd raw/weather/ && unzip rrv-weather-data.zip\n",
    "        !cd raw/weather/ && unzip 1-1-16_5-31-17_Weather.zip\n",
    "    else:\n",
    "        print('Weather Dataset already downloaded!')\n",
    "\n",
    "    print('Dataset shape: {}'.format(data.shape))\n",
    "    data = add_weather(data)\n"
   ]
  },
  {
   "cell_type": "code",
   "execution_count": 178,
   "metadata": {
    "hidden": true
   },
   "outputs": [
    {
     "name": "stdout",
     "output_type": "stream",
     "text": [
      "<class 'pandas.core.frame.DataFrame'>\n",
      "Int64Index: 252108 entries, 0 to 252107\n",
      "Data columns (total 31 columns):\n",
      "air_store_id              252108 non-null object\n",
      "visit_date                252108 non-null object\n",
      "visitors                  252108 non-null int64\n",
      "visit_Year                252108 non-null int64\n",
      "visit_Month               252108 non-null int64\n",
      "visit_Week                252108 non-null int64\n",
      "visit_Day                 252108 non-null int64\n",
      "dow                       252108 non-null int64\n",
      "visit_Dayofyear           252108 non-null int64\n",
      "visit_Is_month_end        252108 non-null bool\n",
      "visit_Is_month_start      252108 non-null bool\n",
      "visit_Is_quarter_end      252108 non-null bool\n",
      "visit_Is_quarter_start    252108 non-null bool\n",
      "visit_Is_year_end         252108 non-null bool\n",
      "visit_Is_year_start       252108 non-null bool\n",
      "visit_Elapsed             252108 non-null int64\n",
      "min_visitors              252108 non-null float64\n",
      "mean_visitors             252108 non-null float64\n",
      "median_visitors           252108 non-null float64\n",
      "max_visitors              252108 non-null float64\n",
      "count_observations        252108 non-null float64\n",
      "air_genre_name            252108 non-null object\n",
      "air_area_name             252108 non-null object\n",
      "latitude                  252108 non-null float64\n",
      "longitude                 252108 non-null float64\n",
      "day_of_week               252108 non-null object\n",
      "holiday_flg               252108 non-null int64\n",
      "visitors_log              252108 non-null float64\n",
      "Todofuken                 252108 non-null object\n",
      "city                      252108 non-null object\n",
      "street                    252108 non-null object\n",
      "dtypes: bool(6), float64(8), int64(9), object(8)\n",
      "memory usage: 51.5+ MB\n"
     ]
    }
   ],
   "source": [
    "data.info()"
   ]
  },
  {
   "cell_type": "markdown",
   "metadata": {},
   "source": [
    "## Reservation"
   ]
  },
  {
   "cell_type": "code",
   "execution_count": 179,
   "metadata": {},
   "outputs": [
    {
     "data": {
      "text/plain": [
       "((92378, 4), (2000320, 4))"
      ]
     },
     "execution_count": 179,
     "metadata": {},
     "output_type": "execute_result"
    }
   ],
   "source": [
    "air_reserve.shape, hpg_reserve.shape"
   ]
  },
  {
   "cell_type": "markdown",
   "metadata": {},
   "source": [
    "**store_id_relation** has the relationship between the two separate sites in which the data comes:\n",
    "    \n",
    "Hot Pepper Gourmet (**hpg**): similar to Yelp, here users can search restaurants and also make a reservation online\n",
    "\n",
    "AirREGI / Restaurant Board (**air**): similar to Square, a reservation control and cash register system"
   ]
  },
  {
   "cell_type": "code",
   "execution_count": 180,
   "metadata": {
    "scrolled": true
   },
   "outputs": [
    {
     "data": {
      "text/html": [
       "<div>\n",
       "<style scoped>\n",
       "    .dataframe tbody tr th:only-of-type {\n",
       "        vertical-align: middle;\n",
       "    }\n",
       "\n",
       "    .dataframe tbody tr th {\n",
       "        vertical-align: top;\n",
       "    }\n",
       "\n",
       "    .dataframe thead th {\n",
       "        text-align: right;\n",
       "    }\n",
       "</style>\n",
       "<table border=\"1\" class=\"dataframe\">\n",
       "  <thead>\n",
       "    <tr style=\"text-align: right;\">\n",
       "      <th></th>\n",
       "      <th>air_store_id</th>\n",
       "      <th>hpg_store_id</th>\n",
       "    </tr>\n",
       "  </thead>\n",
       "  <tbody>\n",
       "    <tr>\n",
       "      <th>0</th>\n",
       "      <td>air_63b13c56b7201bd9</td>\n",
       "      <td>hpg_4bc649e72e2a239a</td>\n",
       "    </tr>\n",
       "    <tr>\n",
       "      <th>1</th>\n",
       "      <td>air_a24bf50c3e90d583</td>\n",
       "      <td>hpg_c34b496d0305a809</td>\n",
       "    </tr>\n",
       "    <tr>\n",
       "      <th>2</th>\n",
       "      <td>air_c7f78b4f3cba33ff</td>\n",
       "      <td>hpg_cd8ae0d9bbd58ff9</td>\n",
       "    </tr>\n",
       "    <tr>\n",
       "      <th>3</th>\n",
       "      <td>air_947eb2cae4f3e8f2</td>\n",
       "      <td>hpg_de24ea49dc25d6b8</td>\n",
       "    </tr>\n",
       "    <tr>\n",
       "      <th>4</th>\n",
       "      <td>air_965b2e0cf4119003</td>\n",
       "      <td>hpg_653238a84804d8e7</td>\n",
       "    </tr>\n",
       "  </tbody>\n",
       "</table>\n",
       "</div>"
      ],
      "text/plain": [
       "           air_store_id          hpg_store_id\n",
       "0  air_63b13c56b7201bd9  hpg_4bc649e72e2a239a\n",
       "1  air_a24bf50c3e90d583  hpg_c34b496d0305a809\n",
       "2  air_c7f78b4f3cba33ff  hpg_cd8ae0d9bbd58ff9\n",
       "3  air_947eb2cae4f3e8f2  hpg_de24ea49dc25d6b8\n",
       "4  air_965b2e0cf4119003  hpg_653238a84804d8e7"
      ]
     },
     "execution_count": 180,
     "metadata": {},
     "output_type": "execute_result"
    }
   ],
   "source": [
    "store_id_relation.head()"
   ]
  },
  {
   "cell_type": "code",
   "execution_count": 181,
   "metadata": {},
   "outputs": [],
   "source": [
    "hpg_reserve = pd.merge(hpg_reserve, store_id_relation, how='inner', on=['hpg_store_id'])"
   ]
  },
  {
   "cell_type": "code",
   "execution_count": 182,
   "metadata": {},
   "outputs": [
    {
     "data": {
      "text/html": [
       "<div>\n",
       "<style scoped>\n",
       "    .dataframe tbody tr th:only-of-type {\n",
       "        vertical-align: middle;\n",
       "    }\n",
       "\n",
       "    .dataframe tbody tr th {\n",
       "        vertical-align: top;\n",
       "    }\n",
       "\n",
       "    .dataframe thead th {\n",
       "        text-align: right;\n",
       "    }\n",
       "</style>\n",
       "<table border=\"1\" class=\"dataframe\">\n",
       "  <thead>\n",
       "    <tr style=\"text-align: right;\">\n",
       "      <th></th>\n",
       "      <th>hpg_store_id</th>\n",
       "      <th>visit_datetime</th>\n",
       "      <th>reserve_datetime</th>\n",
       "      <th>reserve_visitors</th>\n",
       "      <th>air_store_id</th>\n",
       "    </tr>\n",
       "  </thead>\n",
       "  <tbody>\n",
       "    <tr>\n",
       "      <th>0</th>\n",
       "      <td>hpg_878cc70b1abc76f7</td>\n",
       "      <td>2016-01-01 19:00:00</td>\n",
       "      <td>2016-01-01 15:00:00</td>\n",
       "      <td>4</td>\n",
       "      <td>air_db80363d35f10926</td>\n",
       "    </tr>\n",
       "    <tr>\n",
       "      <th>1</th>\n",
       "      <td>hpg_878cc70b1abc76f7</td>\n",
       "      <td>2016-01-02 19:00:00</td>\n",
       "      <td>2016-01-02 14:00:00</td>\n",
       "      <td>2</td>\n",
       "      <td>air_db80363d35f10926</td>\n",
       "    </tr>\n",
       "    <tr>\n",
       "      <th>2</th>\n",
       "      <td>hpg_878cc70b1abc76f7</td>\n",
       "      <td>2016-01-03 18:00:00</td>\n",
       "      <td>2016-01-02 20:00:00</td>\n",
       "      <td>6</td>\n",
       "      <td>air_db80363d35f10926</td>\n",
       "    </tr>\n",
       "    <tr>\n",
       "      <th>3</th>\n",
       "      <td>hpg_878cc70b1abc76f7</td>\n",
       "      <td>2016-01-06 20:00:00</td>\n",
       "      <td>2016-01-04 22:00:00</td>\n",
       "      <td>3</td>\n",
       "      <td>air_db80363d35f10926</td>\n",
       "    </tr>\n",
       "    <tr>\n",
       "      <th>4</th>\n",
       "      <td>hpg_878cc70b1abc76f7</td>\n",
       "      <td>2016-01-11 18:00:00</td>\n",
       "      <td>2016-01-11 14:00:00</td>\n",
       "      <td>2</td>\n",
       "      <td>air_db80363d35f10926</td>\n",
       "    </tr>\n",
       "  </tbody>\n",
       "</table>\n",
       "</div>"
      ],
      "text/plain": [
       "           hpg_store_id       visit_datetime     reserve_datetime  \\\n",
       "0  hpg_878cc70b1abc76f7  2016-01-01 19:00:00  2016-01-01 15:00:00   \n",
       "1  hpg_878cc70b1abc76f7  2016-01-02 19:00:00  2016-01-02 14:00:00   \n",
       "2  hpg_878cc70b1abc76f7  2016-01-03 18:00:00  2016-01-02 20:00:00   \n",
       "3  hpg_878cc70b1abc76f7  2016-01-06 20:00:00  2016-01-04 22:00:00   \n",
       "4  hpg_878cc70b1abc76f7  2016-01-11 18:00:00  2016-01-11 14:00:00   \n",
       "\n",
       "   reserve_visitors          air_store_id  \n",
       "0                 4  air_db80363d35f10926  \n",
       "1                 2  air_db80363d35f10926  \n",
       "2                 6  air_db80363d35f10926  \n",
       "3                 3  air_db80363d35f10926  \n",
       "4                 2  air_db80363d35f10926  "
      ]
     },
     "execution_count": 182,
     "metadata": {},
     "output_type": "execute_result"
    }
   ],
   "source": [
    "hpg_reserve.head()"
   ]
  },
  {
   "cell_type": "code",
   "execution_count": 183,
   "metadata": {},
   "outputs": [],
   "source": [
    "for df in [air_reserve, hpg_reserve]:\n",
    "\n",
    "    df['visit_datetime'] = pd.to_datetime(df.visit_datetime).dt.date\n",
    "    df['reserve_datetime'] = pd.to_datetime(df.reserve_datetime).dt.date\n",
    "\n",
    "    df['reserve_ahead'] =  df['visit_datetime']- df['reserve_datetime']\n",
    "    df['reserve_ahead_days'] = df['reserve_ahead'].dt.days\n",
    "    \n",
    "    df = df.groupby(['air_store_id','visit_datetime'], as_index=False)[[\n",
    "        'reserve_ahead_days', 'reserve_visitors']].sum().rename(columns={'visit_datetime':'visit_date'})\n",
    "    \n",
    "    \n",
    "    data = pd.merge(data, df, how='left', on=['air_store_id','visit_date']) \n",
    "    sample_submission = pd.merge(sample_submission, df, how='left', on=['air_store_id','visit_date']) "
   ]
  },
  {
   "cell_type": "code",
   "execution_count": 184,
   "metadata": {},
   "outputs": [
    {
     "name": "stdout",
     "output_type": "stream",
     "text": [
      "<class 'pandas.core.frame.DataFrame'>\n",
      "Int64Index: 252108 entries, 0 to 252107\n",
      "Data columns (total 35 columns):\n",
      "air_store_id              252108 non-null object\n",
      "visit_date                252108 non-null object\n",
      "visitors                  252108 non-null int64\n",
      "visit_Year                252108 non-null int64\n",
      "visit_Month               252108 non-null int64\n",
      "visit_Week                252108 non-null int64\n",
      "visit_Day                 252108 non-null int64\n",
      "dow                       252108 non-null int64\n",
      "visit_Dayofyear           252108 non-null int64\n",
      "visit_Is_month_end        252108 non-null bool\n",
      "visit_Is_month_start      252108 non-null bool\n",
      "visit_Is_quarter_end      252108 non-null bool\n",
      "visit_Is_quarter_start    252108 non-null bool\n",
      "visit_Is_year_end         252108 non-null bool\n",
      "visit_Is_year_start       252108 non-null bool\n",
      "visit_Elapsed             252108 non-null int64\n",
      "min_visitors              252108 non-null float64\n",
      "mean_visitors             252108 non-null float64\n",
      "median_visitors           252108 non-null float64\n",
      "max_visitors              252108 non-null float64\n",
      "count_observations        252108 non-null float64\n",
      "air_genre_name            252108 non-null object\n",
      "air_area_name             252108 non-null object\n",
      "latitude                  252108 non-null float64\n",
      "longitude                 252108 non-null float64\n",
      "day_of_week               252108 non-null object\n",
      "holiday_flg               252108 non-null int64\n",
      "visitors_log              252108 non-null float64\n",
      "Todofuken                 252108 non-null object\n",
      "city                      252108 non-null object\n",
      "street                    252108 non-null object\n",
      "reserve_ahead_days_x      28064 non-null float64\n",
      "reserve_visitors_x        28064 non-null float64\n",
      "reserve_ahead_days_y      13550 non-null float64\n",
      "reserve_visitors_y        13550 non-null float64\n",
      "dtypes: bool(6), float64(12), int64(9), object(8)\n",
      "memory usage: 59.1+ MB\n"
     ]
    }
   ],
   "source": [
    "data.info()"
   ]
  },
  {
   "cell_type": "code",
   "execution_count": 185,
   "metadata": {},
   "outputs": [
    {
     "name": "stdout",
     "output_type": "stream",
     "text": [
      "<class 'pandas.core.frame.DataFrame'>\n",
      "Int64Index: 32019 entries, 0 to 32018\n",
      "Data columns (total 36 columns):\n",
      "id                        32019 non-null object\n",
      "visitors                  32019 non-null int64\n",
      "air_store_id              32019 non-null object\n",
      "visit_date                32019 non-null object\n",
      "visit_Year                32019 non-null int64\n",
      "visit_Month               32019 non-null int64\n",
      "visit_Week                32019 non-null int64\n",
      "visit_Day                 32019 non-null int64\n",
      "dow                       32019 non-null int64\n",
      "visit_Dayofyear           32019 non-null int64\n",
      "visit_Is_month_end        32019 non-null bool\n",
      "visit_Is_month_start      32019 non-null bool\n",
      "visit_Is_quarter_end      32019 non-null bool\n",
      "visit_Is_quarter_start    32019 non-null bool\n",
      "visit_Is_year_end         32019 non-null bool\n",
      "visit_Is_year_start       32019 non-null bool\n",
      "visit_Elapsed             32019 non-null int64\n",
      "min_visitors              32019 non-null float64\n",
      "mean_visitors             32019 non-null float64\n",
      "median_visitors           32019 non-null float64\n",
      "max_visitors              32019 non-null float64\n",
      "count_observations        32019 non-null float64\n",
      "air_genre_name            32019 non-null object\n",
      "air_area_name             32019 non-null object\n",
      "latitude                  32019 non-null float64\n",
      "longitude                 32019 non-null float64\n",
      "day_of_week               32019 non-null object\n",
      "holiday_flg               32019 non-null int64\n",
      "visitors_log              32019 non-null float64\n",
      "Todofuken                 32019 non-null object\n",
      "city                      32019 non-null object\n",
      "street                    32019 non-null object\n",
      "reserve_ahead_days_x      1131 non-null float64\n",
      "reserve_visitors_x        1131 non-null float64\n",
      "reserve_ahead_days_y      330 non-null float64\n",
      "reserve_visitors_y        330 non-null float64\n",
      "dtypes: bool(6), float64(12), int64(9), object(9)\n",
      "memory usage: 7.8+ MB\n"
     ]
    }
   ],
   "source": [
    "sample_submission.info()"
   ]
  },
  {
   "cell_type": "code",
   "execution_count": 186,
   "metadata": {},
   "outputs": [
    {
     "data": {
      "text/html": [
       "<div>\n",
       "<style scoped>\n",
       "    .dataframe tbody tr th:only-of-type {\n",
       "        vertical-align: middle;\n",
       "    }\n",
       "\n",
       "    .dataframe tbody tr th {\n",
       "        vertical-align: top;\n",
       "    }\n",
       "\n",
       "    .dataframe thead th {\n",
       "        text-align: right;\n",
       "    }\n",
       "</style>\n",
       "<table border=\"1\" class=\"dataframe\">\n",
       "  <thead>\n",
       "    <tr style=\"text-align: right;\">\n",
       "      <th></th>\n",
       "      <th>reserve_ahead_days_x</th>\n",
       "      <th>reserve_visitors_x</th>\n",
       "    </tr>\n",
       "  </thead>\n",
       "  <tbody>\n",
       "    <tr>\n",
       "      <th>count</th>\n",
       "      <td>28064.000000</td>\n",
       "      <td>28064.000000</td>\n",
       "    </tr>\n",
       "    <tr>\n",
       "      <th>mean</th>\n",
       "      <td>21.422677</td>\n",
       "      <td>13.751283</td>\n",
       "    </tr>\n",
       "    <tr>\n",
       "      <th>std</th>\n",
       "      <td>466.296620</td>\n",
       "      <td>17.284799</td>\n",
       "    </tr>\n",
       "    <tr>\n",
       "      <th>min</th>\n",
       "      <td>0.000000</td>\n",
       "      <td>1.000000</td>\n",
       "    </tr>\n",
       "    <tr>\n",
       "      <th>25%</th>\n",
       "      <td>2.000000</td>\n",
       "      <td>5.000000</td>\n",
       "    </tr>\n",
       "    <tr>\n",
       "      <th>50%</th>\n",
       "      <td>8.000000</td>\n",
       "      <td>10.000000</td>\n",
       "    </tr>\n",
       "    <tr>\n",
       "      <th>75%</th>\n",
       "      <td>22.000000</td>\n",
       "      <td>18.000000</td>\n",
       "    </tr>\n",
       "    <tr>\n",
       "      <th>max</th>\n",
       "      <td>67801.000000</td>\n",
       "      <td>1633.000000</td>\n",
       "    </tr>\n",
       "  </tbody>\n",
       "</table>\n",
       "</div>"
      ],
      "text/plain": [
       "       reserve_ahead_days_x  reserve_visitors_x\n",
       "count          28064.000000        28064.000000\n",
       "mean              21.422677           13.751283\n",
       "std              466.296620           17.284799\n",
       "min                0.000000            1.000000\n",
       "25%                2.000000            5.000000\n",
       "50%                8.000000           10.000000\n",
       "75%               22.000000           18.000000\n",
       "max            67801.000000         1633.000000"
      ]
     },
     "execution_count": 186,
     "metadata": {},
     "output_type": "execute_result"
    }
   ],
   "source": [
    "data[data['reserve_visitors_x'].notnull()][['reserve_ahead_days_x','reserve_visitors_x'] ].describe()"
   ]
  },
  {
   "cell_type": "code",
   "execution_count": 56,
   "metadata": {},
   "outputs": [],
   "source": [
    "# Define a best way to replace missing values\n",
    "data = data.fillna(-1) \n",
    "sample_submission = sample_submission.fillna(-1)"
   ]
  },
  {
   "cell_type": "markdown",
   "metadata": {},
   "source": [
    "### Drop features"
   ]
  },
  {
   "cell_type": "code",
   "execution_count": 57,
   "metadata": {},
   "outputs": [],
   "source": [
    "redundant_col = ['air_area_name', 'air_store_id', 'day_of_week']\n",
    "\n",
    "drop_col = [ 'visit_date', 'visitors']"
   ]
  },
  {
   "cell_type": "code",
   "execution_count": 58,
   "metadata": {},
   "outputs": [],
   "source": [
    "data = data.drop(redundant_col+ drop_col, axis='columns')\n",
    "sample_submission = sample_submission.drop(redundant_col+ drop_col, axis='columns')"
   ]
  },
  {
   "cell_type": "code",
   "execution_count": 59,
   "metadata": {},
   "outputs": [
    {
     "name": "stdout",
     "output_type": "stream",
     "text": [
      "Features shape: (252108, 30)\n"
     ]
    }
   ],
   "source": [
    "print('Features shape: {}'.format(data.shape))"
   ]
  },
  {
   "cell_type": "code",
   "execution_count": 60,
   "metadata": {
    "scrolled": true
   },
   "outputs": [
    {
     "name": "stdout",
     "output_type": "stream",
     "text": [
      "Atributs of the data: ['visit_Year' 'visit_Month' 'visit_Week' 'visit_Day' 'dow'\n",
      " 'visit_Dayofyear' 'visit_Is_month_end' 'visit_Is_month_start'\n",
      " 'visit_Is_quarter_end' 'visit_Is_quarter_start' 'visit_Is_year_end'\n",
      " 'visit_Is_year_start' 'visit_Elapsed' 'min_visitors' 'mean_visitors'\n",
      " 'median_visitors' 'max_visitors' 'count_observations' 'air_genre_name'\n",
      " 'latitude' 'longitude' 'holiday_flg' 'visitors_log' 'Todofuken' 'city'\n",
      " 'street' 'reserve_ahead_days_x' 'reserve_visitors_x'\n",
      " 'reserve_ahead_days_y' 'reserve_visitors_y']\n"
     ]
    }
   ],
   "source": [
    "print('Atributs of the data: {}'.format(data.keys().values))"
   ]
  },
  {
   "cell_type": "markdown",
   "metadata": {},
   "source": [
    "**Target**:\n",
    "- visitors_log;\n",
    "\n",
    "**Inputs**\n",
    "- test_set;\n",
    "- air_genre_name;\n",
    "- latitude;\n",
    "- longitude;\n",
    "- hpg_genre_name;\n",
    "- holiday_flg;\n",
    "- weight;\n",
    "- station_id;\n",
    "- precipitation;\n",
    "- avg_temperature;\n",
    "- Todofuken;\n",
    "- city;\n",
    "- street;\n",
    "- reserve_visitors;\n",
    "- reserve_ahead_seconds;\n",
    "- Related to the visit date: \n",
    "    - visit_Year;\n",
    "    - visit_Month;\n",
    "    - visit_Week;\n",
    "    - visit_Day;\n",
    "    - visit_Dayofweek;\n",
    "    - visit_Dayofyear;\n",
    "    - visit_Is_month_end;\n",
    "    - visit_Is_month_start;\n",
    "    - visit_Is_quarter_end;\n",
    "    - visit_Is_quarter_start;\n",
    "    - visit_Is_year_end;\n",
    "    - visit_Is_year_start;\n",
    "    - visit_Elapsed;\n",
    "\n"
   ]
  },
  {
   "cell_type": "markdown",
   "metadata": {},
   "source": [
    "## LabelEncoder encondig"
   ]
  },
  {
   "cell_type": "markdown",
   "metadata": {},
   "source": [
    "Encode categorical features: **Todofuken**, **city**, **street**, **air_genre_name**, **hpg_genre_name**."
   ]
  },
  {
   "cell_type": "code",
   "execution_count": 61,
   "metadata": {},
   "outputs": [],
   "source": [
    "from sklearn.preprocessing import LabelEncoder\n",
    "\n",
    "dummies_col = ['Todofuken', 'street', 'city', 'air_genre_name']\n",
    "\n",
    "for column in dummies_col:\n",
    "    le = LabelEncoder()\n",
    "    data[column] = le.fit_transform(data[column]).tolist()\n",
    "    sample_submission[column] = le.fit_transform(sample_submission[column]).tolist()"
   ]
  },
  {
   "cell_type": "code",
   "execution_count": 62,
   "metadata": {},
   "outputs": [
    {
     "name": "stdout",
     "output_type": "stream",
     "text": [
      "Features shape: (252108, 30)\n"
     ]
    }
   ],
   "source": [
    "print('Features shape: {}'.format(data.shape))"
   ]
  },
  {
   "cell_type": "markdown",
   "metadata": {},
   "source": [
    "## Split data in train, valid and test set"
   ]
  },
  {
   "cell_type": "code",
   "execution_count": 63,
   "metadata": {},
   "outputs": [],
   "source": [
    "val_size = 0.2"
   ]
  },
  {
   "cell_type": "code",
   "execution_count": 64,
   "metadata": {},
   "outputs": [],
   "source": [
    "def split_by_factor(data, val_size=0.2):\n",
    "    split= 1 - val_size\n",
    "    tr,val = np.split(data,[int(len(data)*split)])    \n",
    "    return tr,val "
   ]
  },
  {
   "cell_type": "code",
   "execution_count": 65,
   "metadata": {},
   "outputs": [],
   "source": [
    "train, valid = split_by_factor(data)\n",
    "test = sample_submission.copy()"
   ]
  },
  {
   "cell_type": "code",
   "execution_count": 66,
   "metadata": {},
   "outputs": [
    {
     "name": "stdout",
     "output_type": "stream",
     "text": [
      "Train set shape: (201686, 30)\n",
      "Valid set shape: (50422, 30)\n",
      "Test set shape: (32019, 31)\n"
     ]
    }
   ],
   "source": [
    "print('Train set shape: {}'.format(train.shape))\n",
    "print('Valid set shape: {}'.format(valid.shape))\n",
    "print('Test set shape: {}'.format(test.shape))"
   ]
  },
  {
   "cell_type": "code",
   "execution_count": 67,
   "metadata": {},
   "outputs": [],
   "source": [
    "predictors = [x for x in train.columns if x not in ['visitors_log'] ]\n",
    "\n",
    "target = 'visitors_log'"
   ]
  },
  {
   "cell_type": "markdown",
   "metadata": {},
   "source": [
    "# Features Analysis"
   ]
  },
  {
   "cell_type": "code",
   "execution_count": 68,
   "metadata": {},
   "outputs": [
    {
     "data": {
      "text/plain": [
       "0"
      ]
     },
     "execution_count": 68,
     "metadata": {},
     "output_type": "execute_result"
    }
   ],
   "source": [
    "train[predictors].isnull().sum().sum()"
   ]
  },
  {
   "cell_type": "code",
   "execution_count": 114,
   "metadata": {},
   "outputs": [],
   "source": [
    "from sklearn.ensemble import RandomForestRegressor\n",
    "\n",
    "reg = RandomForestRegressor(n_estimators=40, min_samples_leaf=10, max_features='sqrt',\n",
    "                             n_jobs=-1, oob_score=True,random_state=0)"
   ]
  },
  {
   "cell_type": "code",
   "execution_count": 115,
   "metadata": {},
   "outputs": [
    {
     "data": {
      "text/plain": [
       "RandomForestRegressor(bootstrap=True, criterion='mse', max_depth=None,\n",
       "           max_features='sqrt', max_leaf_nodes=None,\n",
       "           min_impurity_decrease=0.0, min_impurity_split=None,\n",
       "           min_samples_leaf=10, min_samples_split=2,\n",
       "           min_weight_fraction_leaf=0.0, n_estimators=40, n_jobs=-1,\n",
       "           oob_score=True, random_state=0, verbose=0, warm_start=False)"
      ]
     },
     "execution_count": 115,
     "metadata": {},
     "output_type": "execute_result"
    }
   ],
   "source": [
    "reg.fit(train[predictors],train[target])"
   ]
  },
  {
   "cell_type": "code",
   "execution_count": 116,
   "metadata": {},
   "outputs": [
    {
     "name": "stdout",
     "output_type": "stream",
     "text": [
      " Train Score:\n",
      "RMSE: 0.442283, MAE: 0.323932\n",
      "Oob score : 0.615676\n",
      "------------------------------\n",
      " Val Score:\n",
      "RMSE: 0.502697, MAE: 0.372543\n"
     ]
    }
   ],
   "source": [
    "from regression_utils import print_score\n",
    "print_score(reg,train[predictors],train[target],valid[predictors],valid[target])"
   ]
  },
  {
   "cell_type": "code",
   "execution_count": 117,
   "metadata": {},
   "outputs": [
    {
     "data": {
      "image/png": "[encoded data removed]",
      "text/plain": [
       "<matplotlib.figure.Figure at 0x7f5641e54dd8>"
      ]
     },
     "metadata": {},
     "output_type": "display_data"
    }
   ],
   "source": [
    "from regression_utils import rf_feat_importance,plot_fi\n",
    "\n",
    "fi = rf_feat_importance(reg, train[predictors])\n",
    "plot_fi(fi[:40]);"
   ]
  },
  {
   "cell_type": "code",
   "execution_count": null,
   "metadata": {},
   "outputs": [],
   "source": [
    "to_keep = fi[fi.imp>1e-2].cols.tolist(); len(to_keep),len(predictors)"
   ]
  },
  {
   "cell_type": "code",
   "execution_count": 119,
   "metadata": {},
   "outputs": [
    {
     "name": "stdout",
     "output_type": "stream",
     "text": [
      " Train Score:\n",
      "RMSE: 0.454011, MAE: 0.332601\n",
      "Oob score : 0.615867\n",
      "------------------------------\n",
      " Val Score:\n",
      "RMSE: 0.504104, MAE: 0.374321\n"
     ]
    }
   ],
   "source": [
    "reg.fit(train[to_keep],train[target])\n",
    "print_score(reg,train[to_keep],train[target],valid[to_keep],valid[target])"
   ]
  },
  {
   "cell_type": "code",
   "execution_count": 120,
   "metadata": {},
   "outputs": [],
   "source": [
    "# The results of RMSE and Oob score didn't change much droping the 8 features using the threshold of\n",
    "# feature importances, let's try one more time "
   ]
  },
  {
   "cell_type": "code",
   "execution_count": 121,
   "metadata": {},
   "outputs": [],
   "source": [
    "predictors = to_keep.copy()"
   ]
  },
  {
   "cell_type": "code",
   "execution_count": 123,
   "metadata": {},
   "outputs": [
    {
     "data": {
      "image/png": "[encoded data removed]",
      "text/plain": [
       "<matplotlib.figure.Figure at 0x7f5620d1b630>"
      ]
     },
     "metadata": {},
     "output_type": "display_data"
    }
   ],
   "source": [
    "fi = rf_feat_importance(reg, train[predictors])\n",
    "plot_fi(fi[:40]);"
   ]
  },
  {
   "cell_type": "code",
   "execution_count": 124,
   "metadata": {},
   "outputs": [
    {
     "data": {
      "text/plain": [
       "(8, 8)"
      ]
     },
     "execution_count": 124,
     "metadata": {},
     "output_type": "execute_result"
    }
   ],
   "source": [
    "to_keep = fi[fi.imp>2e-2].cols.tolist(); len(to_keep),len(predictors)"
   ]
  },
  {
   "cell_type": "code",
   "execution_count": 125,
   "metadata": {},
   "outputs": [
    {
     "name": "stdout",
     "output_type": "stream",
     "text": [
      " Train Score:\n",
      "RMSE: 0.453894, MAE: 0.332569\n",
      "Oob score : 0.616600\n",
      "------------------------------\n",
      " Val Score:\n",
      "RMSE: 0.503907, MAE: 0.374045\n"
     ]
    }
   ],
   "source": [
    "reg.fit(train[to_keep],train[target])\n",
    "print_score(reg,train[to_keep],train[target],valid[to_keep],valid[target])"
   ]
  },
  {
   "cell_type": "code",
   "execution_count": 126,
   "metadata": {},
   "outputs": [],
   "source": [
    "reg_predictions = reg.predict(test[to_keep])"
   ]
  },
  {
   "cell_type": "code",
   "execution_count": 89,
   "metadata": {},
   "outputs": [],
   "source": [
    "teste_rf = test.copy()\n",
    "teste_rf['visitors']= reg_predictions\n",
    "teste_rf[['id', 'visitors']].to_csv(f'rf_model_submission.csv', index=False, float_format='%.4f') "
   ]
  },
  {
   "cell_type": "code",
   "execution_count": 93,
   "metadata": {},
   "outputs": [
    {
     "name": "stdout",
     "output_type": "stream",
     "text": [
      "Warning: Your Kaggle API key is readable by other users on this system! To fix this, you can run 'chmod 600 /home/renatolr/.kaggle/kaggle.json'\n",
      "Traceback (most recent call last):\n",
      "  File \"/home/renatolr/anaconda3/bin/kaggle\", line 11, in <module>\n",
      "    sys.exit(main())\n",
      "  File \"/home/renatolr/anaconda3/lib/python3.6/site-packages/kaggle/cli.py\", line 48, in main\n",
      "    out = args.func(**command_args)\n",
      "TypeError: competition_submit_cli() got an unexpected keyword argument 'file_name'\n"
     ]
    }
   ],
   "source": [
    "!kaggle competitions submit -c recruit-restaurant-visitor-forecasting -f rf_model_submission.csv -m \"rf model\""
   ]
  },
  {
   "cell_type": "markdown",
   "metadata": {},
   "source": [
    "# Predictive modelling"
   ]
  },
  {
   "cell_type": "markdown",
   "metadata": {},
   "source": [
    "## Decision Trees"
   ]
  },
  {
   "cell_type": "markdown",
   "metadata": {},
   "source": [
    "### XGBoost"
   ]
  },
  {
   "cell_type": "markdown",
   "metadata": {},
   "source": [
    "Since XGBoost already does feature selection using gamma, we could also try using whole set of features \n",
    "and optimize gamma for that"
   ]
  },
  {
   "cell_type": "code",
   "execution_count": 131,
   "metadata": {},
   "outputs": [],
   "source": [
    "from regression_utils import cross_valid\n",
    "import xgboost as xgb\n",
    "\n",
    "def xgbCV(gamma,reg_lambda,\n",
    "          min_child_weight,\n",
    "          colsample_bytree,subsample):\n",
    "\n",
    "    reg = xgb.sklearn.XGBRegressor(gamma=max(gamma, 0),\n",
    "                                    max_depth= 4,\n",
    "                                    min_child_weight= int(min_child_weight),\n",
    "                                    subsample = max(min(subsample, 1), 0),\n",
    "                                    colsample_bytree= max(min(colsample_bytree, 1), 0),\n",
    "                                    reg_lambda= max(reg_lambda, 0), \n",
    "                                    n_estimators=100,\n",
    "                                    n_jobs=5)\n",
    "\n",
    "    score = cross_valid(reg,train[predictors +[target]].values,folds=5,\n",
    "                        metric='rmse',verbose=False)\n",
    "\n",
    "    res = np.mean(score) # -> For reducing the score mean of the folds \n",
    "    return -res  # Negative because we want to minimize score and BayesianOptimization only maximize scores"
   ]
  },
  {
   "cell_type": "code",
   "execution_count": 112,
   "metadata": {},
   "outputs": [],
   "source": [
    "from bayes_opt import BayesianOptimization\n",
    "#https://github.com/fmfn/BayesianOptimization"
   ]
  },
  {
   "cell_type": "code",
   "execution_count": 132,
   "metadata": {},
   "outputs": [],
   "source": [
    "gp_params = {\"alpha\": 1e-5,\"n_restarts_optimizer\": 2}\n",
    "\n",
    "xgbBO = BayesianOptimization(xgbCV, {'min_child_weight': (1, 60),\n",
    "                                     'subsample': (0.8, 1),\n",
    "                                     'colsample_bytree': (0.8, 1),\n",
    "                                     'gamma': (0, 10),\n",
    "                                     'reg_lambda': (1, 10),\n",
    "                                    })"
   ]
  },
  {
   "cell_type": "code",
   "execution_count": 133,
   "metadata": {},
   "outputs": [
    {
     "name": "stdout",
     "output_type": "stream",
     "text": [
      "\u001b[31mInitialization\u001b[0m\n",
      "\u001b[94m----------------------------------------------------------------------------------------------------------------\u001b[0m\n",
      " Step |   Time |      Value |   colsample_bytree |     gamma |   min_child_weight |   reg_lambda |   subsample | \n",
      "    1 | 00m46s | \u001b[35m  -0.49977\u001b[0m | \u001b[32m            0.9420\u001b[0m | \u001b[32m   7.7246\u001b[0m | \u001b[32m           25.8240\u001b[0m | \u001b[32m      7.5556\u001b[0m | \u001b[32m     0.9117\u001b[0m | \n",
      "    2 | 00m45s |   -0.49981 |             0.8214 |    5.9805 |            53.7940 |       5.3471 |      0.8631 | \n",
      "    3 | 00m50s | \u001b[35m  -0.49922\u001b[0m | \u001b[32m            0.9607\u001b[0m | \u001b[32m   3.1394\u001b[0m | \u001b[32m            7.7569\u001b[0m | \u001b[32m      2.6055\u001b[0m | \u001b[32m     0.9411\u001b[0m | \n",
      "    4 | 00m50s |   -0.49967 |             0.8244 |    4.7967 |            50.9114 |       5.6014 |      0.8704 | \n",
      "\u001b[31mBayesian Optimization\u001b[0m\n",
      "\u001b[94m----------------------------------------------------------------------------------------------------------------\u001b[0m\n",
      " Step |   Time |      Value |   colsample_bytree |     gamma |   min_child_weight |   reg_lambda |   subsample | \n",
      "    5 | 00m49s | \u001b[35m  -0.49912\u001b[0m | \u001b[32m            0.9132\u001b[0m | \u001b[32m   0.5926\u001b[0m | \u001b[32m            1.0412\u001b[0m | \u001b[32m      9.9783\u001b[0m | \u001b[32m     0.9850\u001b[0m | \n",
      "    6 | 00m51s | \u001b[35m  -0.49907\u001b[0m | \u001b[32m            0.9816\u001b[0m | \u001b[32m   0.1267\u001b[0m | \u001b[32m           59.9538\u001b[0m | \u001b[32m      1.0660\u001b[0m | \u001b[32m     0.8606\u001b[0m | \n",
      "    7 | 00m45s |   -0.50023 |             0.8678 |    9.6052 |             1.0206 |       1.6574 |      0.8401 | \n",
      "    8 | 00m43s |   -0.50037 |             0.9166 |    9.8562 |            59.9145 |       9.3653 |      0.8673 | \n",
      "    9 | 00m39s |   -0.49913 |             0.8457 |    0.0002 |             1.0112 |       9.4595 |      0.8532 | \n",
      "   10 | 00m39s |   -0.50032 |             0.8817 |    9.7392 |            59.9497 |       1.3635 |      0.8563 | \n",
      "   11 | 00m36s |   -0.50035 |             0.8132 |    9.6849 |             1.0204 |       1.1003 |      0.9082 | \n",
      "   12 | 00m38s |   -0.49918 |             0.8865 |    0.3002 |            59.8191 |       9.9846 |      0.9146 | \n",
      "   13 | 00m39s |   -0.49918 |             0.9297 |    0.5593 |             1.0294 |       9.8079 |      0.9310 | \n",
      "   14 | 00m38s |   -0.50028 |             0.9157 |    9.9100 |            59.9962 |       9.0667 |      0.9460 | \n",
      "   15 | 00m38s |   -0.49934 |             0.8026 |    0.0700 |             1.0580 |       1.1780 |      0.8273 | \n",
      "   16 | 00m38s |   -0.49916 |             0.8888 |    0.0240 |            59.9918 |       1.3854 |      0.9368 | \n",
      "   17 | 00m37s |   -0.50065 |             0.8025 |    9.7299 |             1.0131 |       9.8446 |      0.8423 | \n",
      "   18 | 00m38s |   -0.49911 |             0.8756 |    0.1590 |            59.9695 |       1.3533 |      0.9515 | \n",
      "   19 | 00m36s |   -0.50011 |             0.8362 |    9.8208 |             1.0167 |       1.8320 |      0.9494 | \n",
      "   20 | 00m35s |   -0.50045 |             0.8078 |    9.7853 |            59.8855 |       9.9065 |      0.9677 | \n",
      "   21 | 00m38s |   -0.49909 |             0.8536 |    0.2958 |             1.0831 |       9.5500 |      0.9601 | \n",
      "   22 | 00m41s |   -0.49921 |             0.9273 |    0.4444 |            59.8279 |       9.9600 |      0.9125 | \n",
      "   23 | 00m39s |   -0.50021 |             0.9076 |    9.7418 |             1.0787 |       1.0616 |      0.8949 | \n",
      "   24 | 00m38s |   -0.49930 |             0.8043 |    0.2131 |            59.9735 |       9.9021 |      0.8025 | \n",
      "   25 | 00m43s | \u001b[35m  -0.49902\u001b[0m | \u001b[32m            0.9795\u001b[0m | \u001b[32m   0.1058\u001b[0m | \u001b[32m            1.0159\u001b[0m | \u001b[32m      1.5453\u001b[0m | \u001b[32m     0.9549\u001b[0m | \n",
      "   26 | 00m43s |   -0.50018 |             0.9845 |    9.8511 |            59.9871 |       1.8460 |      0.9880 | \n",
      "   27 | 00m39s |   -0.49902 |             0.8412 |    0.0033 |             1.0808 |       9.8299 |      0.9014 | \n",
      "   28 | 00m37s |   -0.49914 |             0.8326 |    0.0940 |            59.9804 |       1.3676 |      0.9399 | \n"
     ]
    }
   ],
   "source": [
    "xgbBO.maximize(init_points=4,n_iter=24, acq=\"ei\", xi=1e-2, **gp_params)"
   ]
  },
  {
   "cell_type": "code",
   "execution_count": 134,
   "metadata": {},
   "outputs": [
    {
     "data": {
      "text/plain": [
       "-0.4990156037559958"
      ]
     },
     "execution_count": 134,
     "metadata": {},
     "output_type": "execute_result"
    }
   ],
   "source": [
    "xgbBO.res['max']['max_val']"
   ]
  },
  {
   "cell_type": "code",
   "execution_count": 135,
   "metadata": {},
   "outputs": [
    {
     "data": {
      "text/plain": [
       "{'min_child_weight': 1.0159109048482697,\n",
       " 'subsample': 0.9548980144031659,\n",
       " 'colsample_bytree': 0.9795064688876627,\n",
       " 'gamma': 0.10577233216894522,\n",
       " 'reg_lambda': 1.5453136664172031}"
      ]
     },
     "execution_count": 135,
     "metadata": {},
     "output_type": "execute_result"
    }
   ],
   "source": [
    "paramsBO = xgbBO.res['max']['max_params']\n",
    "paramsBO"
   ]
  },
  {
   "cell_type": "code",
   "execution_count": 136,
   "metadata": {},
   "outputs": [
    {
     "data": {
      "text/plain": [
       "XGBRegressor(base_score=0.5, booster='gbtree', colsample_bylevel=1,\n",
       "       colsample_bytree=0.9795064688876627, gamma=0.10577233216894522,\n",
       "       learning_rate=0.1, max_delta_step=0, max_depth=4,\n",
       "       min_child_weight=1, missing=None, n_estimators=200, n_jobs=7,\n",
       "       nthread=None, objective='reg:linear', random_state=0, reg_alpha=0,\n",
       "       reg_lambda=1.5453136664172031, scale_pos_weight=1, seed=None,\n",
       "       silent=True, subsample=0.9548980144031659)"
      ]
     },
     "execution_count": 136,
     "metadata": {},
     "output_type": "execute_result"
    }
   ],
   "source": [
    "reg = xgb.sklearn.XGBRegressor(gamma=max(paramsBO['gamma'], 0),\n",
    "                                max_depth= 4,\n",
    "                                min_child_weight= int(paramsBO['min_child_weight']),\n",
    "                                subsample =  max(min(paramsBO['subsample'], 1), 0),#1,\n",
    "                                colsample_bytree= max(min(paramsBO['colsample_bytree'], 1), 0),\n",
    "                                reg_lambda= max(paramsBO['reg_lambda'], 0),\n",
    "                                n_jobs=7, \n",
    "                                n_estimators=200) # Get some more trees\n",
    "\n",
    "reg.fit(train[predictors],train[target]) # Fit best Model on whole train data "
   ]
  },
  {
   "cell_type": "code",
   "execution_count": 137,
   "metadata": {},
   "outputs": [
    {
     "data": {
      "text/plain": [
       "((201686,), (201686,))"
      ]
     },
     "execution_count": 137,
     "metadata": {},
     "output_type": "execute_result"
    }
   ],
   "source": [
    "ypred = reg.predict(train[predictors])\n",
    "ytrue= train[target].values\n",
    "\n",
    "ytrue.shape,ypred.shape"
   ]
  },
  {
   "cell_type": "code",
   "execution_count": 138,
   "metadata": {},
   "outputs": [
    {
     "data": {
      "text/plain": [
       "(0.3664308039492667, 0.497132766871083)"
      ]
     },
     "execution_count": 138,
     "metadata": {},
     "output_type": "execute_result"
    }
   ],
   "source": [
    "from sklearn.metrics import mean_absolute_error as mae\n",
    "from regression_utils import rmse\n",
    "\n",
    "mae(ytrue,ypred),rmse(ytrue,ypred)"
   ]
  },
  {
   "cell_type": "code",
   "execution_count": 139,
   "metadata": {},
   "outputs": [
    {
     "data": {
      "text/plain": [
       "((50422,), (50422,))"
      ]
     },
     "execution_count": 139,
     "metadata": {},
     "output_type": "execute_result"
    }
   ],
   "source": [
    "ypred = reg.predict(valid[predictors])\n",
    "ytrue= valid[target].values\n",
    "\n",
    "ytrue.shape,ypred.shape"
   ]
  },
  {
   "cell_type": "code",
   "execution_count": 140,
   "metadata": {},
   "outputs": [
    {
     "data": {
      "text/plain": [
       "(0.3680277836956653, 0.4970890368259036)"
      ]
     },
     "execution_count": 140,
     "metadata": {},
     "output_type": "execute_result"
    }
   ],
   "source": [
    "mae(ytrue,ypred),rmse(ytrue,ypred)"
   ]
  },
  {
   "cell_type": "code",
   "execution_count": 141,
   "metadata": {},
   "outputs": [
    {
     "data": {
      "text/plain": [
       "XGBRegressor(base_score=0.5, booster='gbtree', colsample_bylevel=1,\n",
       "       colsample_bytree=0.9795064688876627, gamma=0.10577233216894522,\n",
       "       learning_rate=0.1, max_delta_step=0, max_depth=4,\n",
       "       min_child_weight=1, missing=None, n_estimators=200, n_jobs=7,\n",
       "       nthread=None, objective='reg:linear', random_state=0, reg_alpha=0,\n",
       "       reg_lambda=1.5453136664172031, scale_pos_weight=1, seed=None,\n",
       "       silent=True, subsample=0.9548980144031659)"
      ]
     },
     "execution_count": 141,
     "metadata": {},
     "output_type": "execute_result"
    }
   ],
   "source": [
    "import copy\n",
    "Best_xgb = copy.copy(reg)\n",
    "Best_xgb"
   ]
  },
  {
   "cell_type": "code",
   "execution_count": 101,
   "metadata": {
    "scrolled": true
   },
   "outputs": [
    {
     "name": "stderr",
     "output_type": "stream",
     "text": [
      "/anaconda/lib/python3.6/site-packages/matplotlib/cbook/deprecation.py:107: MatplotlibDeprecationWarning: Passing one of 'on', 'true', 'off', 'false' as a boolean is deprecated; use an actual boolean (True/False) instead.\n",
      "  warnings.warn(message, mplDeprecation, stacklevel=1)\n"
     ]
    },
    {
     "data": {
      "image/png": "[encoded data removed]",
      "text/plain": [
       "<Figure size 1152x432 with 1 Axes>"
      ]
     },
     "metadata": {},
     "output_type": "display_data"
    }
   ],
   "source": [
    "n_samples = 250\n",
    "fig = plt.figure(figsize=(16,6))     \n",
    "\n",
    "plt.plot(ytrue[:n_samples], c = 'blue',label='Log_Visitors - True')\n",
    "\n",
    "plt.plot(ypred[:n_samples], c = 'red', label='Log_Visitors - Predicted')\n",
    "\n",
    "\n",
    "plt.xticks(rotation=90)\n",
    "#plt.xscale('log')\n",
    "plt.title('XGBoost result')\n",
    "plt.xlabel('')\n",
    "plt.ylabel('')\n",
    "#plt.ylim([-25e-6,25e-6])\n",
    "plt.grid('on')\n",
    "plt.legend()\n",
    "plt.show()"
   ]
  },
  {
   "cell_type": "markdown",
   "metadata": {},
   "source": [
    "### LGB"
   ]
  },
  {
   "cell_type": "code",
   "execution_count": 88,
   "metadata": {},
   "outputs": [],
   "source": [
    "import lightgbm as lgb\n",
    "def lgbmCV(min_child_weight,\n",
    "          colsample_bytree,\n",
    "          subsample):\n",
    "\n",
    "    reg = lgb.LGBMRegressor(min_child_weight=max(min_child_weight, 0),\n",
    "                             max_depth= 4,\n",
    "                             subsample = max(min(subsample, 1), 0),\n",
    "                             colsample_bytree= max(min(colsample_bytree, 1), 0),\n",
    "#                             reg_lambda= max(reg_lambda, 0), \n",
    "                             n_estimators=100,\n",
    "                             n_jobs=7)\n",
    "\n",
    "    score = cross_valid(reg,train[predictors +[target]].values,folds=5,\n",
    "                        metric='rmse',verbose=False)\n",
    "\n",
    "    res = np.mean(score)\n",
    "    return -res  "
   ]
  },
  {
   "cell_type": "code",
   "execution_count": 106,
   "metadata": {},
   "outputs": [],
   "source": [
    "gp_params = {\"alpha\": 1e-5,\"n_restarts_optimizer\": 2}\n",
    "\n",
    "lgbBO = BayesianOptimization(lgbmCV, {'min_child_weight': (1, 60),\n",
    "                                     'subsample': (0.8, 1),\n",
    "                                     'colsample_bytree': (0.8, 1),\n",
    "#                                     'reg_lambda': (1, 10),\n",
    "                                    })"
   ]
  },
  {
   "cell_type": "code",
   "execution_count": 107,
   "metadata": {},
   "outputs": [
    {
     "name": "stdout",
     "output_type": "stream",
     "text": [
      "\u001b[31mInitialization\u001b[0m\n",
      "\u001b[94m-------------------------------------------------------------------------------------\u001b[0m\n",
      " Step |   Time |      Value |   colsample_bytree |   min_child_weight |   subsample | \n",
      "    1 | 00m12s | \u001b[35m  -0.49918\u001b[0m | \u001b[32m            0.5886\u001b[0m | \u001b[32m           15.9409\u001b[0m | \u001b[32m     0.9896\u001b[0m | \n",
      "    2 | 00m13s | \u001b[35m  -0.49908\u001b[0m | \u001b[32m            0.7330\u001b[0m | \u001b[32m            4.9687\u001b[0m | \u001b[32m     0.9954\u001b[0m | \n",
      "    3 | 00m12s |   -0.49917 |             0.8658 |            18.8211 |      0.8449 | \n",
      "    4 | 00m11s |   -0.50104 |             0.3034 |            39.2244 |      0.3420 | \n",
      "\u001b[31mBayesian Optimization\u001b[0m\n",
      "\u001b[94m-------------------------------------------------------------------------------------\u001b[0m\n",
      " Step |   Time |      Value |   colsample_bytree |   min_child_weight |   subsample | \n",
      "    5 | 00m13s |   -0.50111 |             0.3333 |            59.9997 |      0.3872 | \n",
      "    6 | 00m13s |   -0.50103 |             0.3572 |            59.9959 |      0.3532 | \n",
      "    7 | 00m12s |   -0.49923 |             0.6167 |             1.0001 |      0.5958 | \n",
      "    8 | 00m13s |   -0.49974 |             0.8656 |             1.0001 |      0.3454 | \n",
      "    9 | 00m13s |   -0.49953 |             0.6146 |            59.9992 |      0.3821 | \n",
      "   10 | 00m13s |   -0.50075 |             0.3373 |            59.9982 |      0.9681 | \n",
      "   11 | 00m13s |   -0.49940 |             0.5233 |             1.0008 |      0.8705 | \n",
      "   12 | 00m13s |   -0.49939 |             0.5116 |             1.0002 |      0.5517 | \n",
      "   13 | 00m13s | \u001b[35m  -0.49906\u001b[0m | \u001b[32m            0.9555\u001b[0m | \u001b[32m           59.9998\u001b[0m | \u001b[32m     0.5424\u001b[0m | \n",
      "   14 | 00m13s |   -0.49950 |             0.9992 |             1.0002 |      0.4464 | \n",
      "   15 | 00m13s |   -0.50016 |             0.4176 |            59.9988 |      0.6919 | \n",
      "   16 | 00m13s |   -0.49928 |             0.9613 |             1.0018 |      0.8923 | \n",
      "   17 | 00m12s |   -0.49983 |             0.5545 |            59.9951 |      0.3256 | \n",
      "   18 | 00m12s |   -0.49946 |             0.9394 |             1.0006 |      0.5397 | \n",
      "   19 | 00m14s | \u001b[35m  -0.49894\u001b[0m | \u001b[32m            0.8868\u001b[0m | \u001b[32m           59.9988\u001b[0m | \u001b[32m     0.5247\u001b[0m | \n",
      "   20 | 00m13s |   -0.49916 |             0.7584 |             1.0048 |      0.8052 | \n",
      "   21 | 00m13s |   -0.49894 |             0.8344 |            60.0000 |      0.9156 | \n",
      "   22 | 00m13s |   -0.49951 |             0.8355 |             1.0002 |      0.3726 | \n",
      "   23 | 00m12s |   -0.49902 |             0.9085 |            59.9996 |      0.7662 | \n",
      "   24 | 00m13s |   -0.49954 |             0.9279 |             1.0043 |      0.5836 | \n",
      "   25 | 00m13s |   -0.49977 |             0.6654 |            59.9997 |      0.3302 | \n",
      "   26 | 00m13s |   -0.49934 |             0.8670 |             1.0072 |      0.8430 | \n",
      "   27 | 00m13s |   -0.49898 |             0.6641 |            59.9996 |      0.8127 | \n",
      "   28 | 00m13s |   -0.49908 |             0.8731 |             1.0018 |      0.6680 | \n"
     ]
    }
   ],
   "source": [
    "lgbBO.maximize(init_points=4,n_iter=24, acq=\"ei\", xi=1e-2, **gp_params)"
   ]
  },
  {
   "cell_type": "code",
   "execution_count": 108,
   "metadata": {},
   "outputs": [
    {
     "data": {
      "text/plain": [
       "-0.49893893629655706"
      ]
     },
     "execution_count": 108,
     "metadata": {},
     "output_type": "execute_result"
    }
   ],
   "source": [
    "lgbBO.res['max']['max_val']"
   ]
  },
  {
   "cell_type": "code",
   "execution_count": 109,
   "metadata": {},
   "outputs": [
    {
     "data": {
      "text/plain": [
       "{'min_child_weight': 59.99884367370253,\n",
       " 'subsample': 0.5247346430605313,\n",
       " 'colsample_bytree': 0.8867662347856713}"
      ]
     },
     "execution_count": 109,
     "metadata": {},
     "output_type": "execute_result"
    }
   ],
   "source": [
    "paramsBO = lgbBO.res['max']['max_params']\n",
    "paramsBO"
   ]
  },
  {
   "cell_type": "code",
   "execution_count": 90,
   "metadata": {},
   "outputs": [
    {
     "data": {
      "text/plain": [
       "LGBMRegressor(boosting_type='gbdt', class_weight=None,\n",
       "       colsample_bytree=0.8867662347856713, learning_rate=0.1,\n",
       "       max_depth=10, min_child_samples=20, min_child_weight=59,\n",
       "       min_split_gain=0.0, n_estimators=200, n_jobs=7, num_leaves=31,\n",
       "       objective=None, random_state=None, reg_alpha=0.0, reg_lambda=0.0,\n",
       "       silent=True, subsample=0.5247346430605313, subsample_for_bin=200000,\n",
       "       subsample_freq=1)"
      ]
     },
     "execution_count": 90,
     "metadata": {},
     "output_type": "execute_result"
    }
   ],
   "source": [
    "reg = lgb.LGBMRegressor(max_depth= 10,\n",
    "                        min_child_weight= int(paramsBO['min_child_weight']),\n",
    "                        subsample =  max(min(paramsBO['subsample'], 1), 0),#1,\n",
    "                        colsample_bytree= max(min(paramsBO['colsample_bytree'], 1), 0),\n",
    "#                       reg_lambda= max(paramsBO['reg_lambda'], 0),\n",
    "                        n_jobs=7, \n",
    "                        n_estimators=200) # Get some more trees\n",
    "\n",
    "reg.fit(train[predictors],train[target]) # Fit best Model on whole train data \n",
    "                                         # If you want to see the results from the cross-val you run the function \n",
    "                                         # with verbose = True"
   ]
  },
  {
   "cell_type": "code",
   "execution_count": 91,
   "metadata": {},
   "outputs": [
    {
     "data": {
      "text/plain": [
       "((201686,), (201686,))"
      ]
     },
     "execution_count": 91,
     "metadata": {},
     "output_type": "execute_result"
    }
   ],
   "source": [
    "ypred = reg.predict(train[predictors])\n",
    "ytrue= train[target].values\n",
    "\n",
    "ytrue.shape,ypred.shape"
   ]
  },
  {
   "cell_type": "code",
   "execution_count": 92,
   "metadata": {},
   "outputs": [
    {
     "data": {
      "text/plain": [
       "(0.36289553467159813, 0.4919488354254723)"
      ]
     },
     "execution_count": 92,
     "metadata": {},
     "output_type": "execute_result"
    }
   ],
   "source": [
    "mae(ytrue,ypred),rmse(ytrue,ypred)"
   ]
  },
  {
   "cell_type": "code",
   "execution_count": 93,
   "metadata": {},
   "outputs": [
    {
     "data": {
      "text/plain": [
       "((50422,), (50422,))"
      ]
     },
     "execution_count": 93,
     "metadata": {},
     "output_type": "execute_result"
    }
   ],
   "source": [
    "ypred = reg.predict(valid[predictors])\n",
    "ytrue= valid[target].values\n",
    "\n",
    "ytrue.shape,ypred.shape"
   ]
  },
  {
   "cell_type": "code",
   "execution_count": 94,
   "metadata": {},
   "outputs": [
    {
     "data": {
      "text/plain": [
       "(0.367778054913634, 0.49751204040783187)"
      ]
     },
     "execution_count": 94,
     "metadata": {},
     "output_type": "execute_result"
    }
   ],
   "source": [
    "mae(ytrue,ypred),rmse(ytrue,ypred)"
   ]
  },
  {
   "cell_type": "code",
   "execution_count": 95,
   "metadata": {},
   "outputs": [
    {
     "data": {
      "text/plain": [
       "LGBMRegressor(boosting_type='gbdt', class_weight=None,\n",
       "       colsample_bytree=0.8867662347856713, learning_rate=0.1,\n",
       "       max_depth=10, min_child_samples=20, min_child_weight=59,\n",
       "       min_split_gain=0.0, n_estimators=200, n_jobs=7, num_leaves=31,\n",
       "       objective=None, random_state=None, reg_alpha=0.0, reg_lambda=0.0,\n",
       "       silent=True, subsample=0.5247346430605313, subsample_for_bin=200000,\n",
       "       subsample_freq=1)"
      ]
     },
     "execution_count": 95,
     "metadata": {},
     "output_type": "execute_result"
    }
   ],
   "source": [
    "import copy\n",
    "Best_lgb = copy.copy(reg)\n",
    "Best_lgb"
   ]
  },
  {
   "cell_type": "code",
   "execution_count": 116,
   "metadata": {},
   "outputs": [
    {
     "name": "stderr",
     "output_type": "stream",
     "text": [
      "/anaconda/lib/python3.6/site-packages/matplotlib/cbook/deprecation.py:107: MatplotlibDeprecationWarning: Passing one of 'on', 'true', 'off', 'false' as a boolean is deprecated; use an actual boolean (True/False) instead.\n",
      "  warnings.warn(message, mplDeprecation, stacklevel=1)\n"
     ]
    },
    {
     "data": {
      "image/png": "[encoded data removed]",
      "text/plain": [
       "<Figure size 1152x432 with 1 Axes>"
      ]
     },
     "metadata": {},
     "output_type": "display_data"
    }
   ],
   "source": [
    "n_samples = 250\n",
    "fig = plt.figure(figsize=(16,6))     \n",
    "\n",
    "plt.plot(ytrue[:n_samples], c = 'blue',label='Log_Visitors - True')\n",
    "\n",
    "plt.plot(ypred[:n_samples], c = 'red', label='Log_Visitors - Predicted')\n",
    "\n",
    "\n",
    "plt.xticks(rotation=90)\n",
    "#plt.xscale('log')\n",
    "plt.title('XGBoost result')\n",
    "plt.xlabel('')\n",
    "plt.ylabel('')\n",
    "#plt.ylim([-25e-6,25e-6])\n",
    "plt.grid('on')\n",
    "plt.legend()\n",
    "plt.show()"
   ]
  },
  {
   "cell_type": "markdown",
   "metadata": {},
   "source": [
    "## Meta Learning & Ensemble"
   ]
  },
  {
   "cell_type": "code",
   "execution_count": 96,
   "metadata": {},
   "outputs": [],
   "source": [
    "from sklearn.linear_model import LinearRegression\n",
    "\n",
    "model = LinearRegression()"
   ]
  },
  {
   "cell_type": "code",
   "execution_count": 97,
   "metadata": {},
   "outputs": [],
   "source": [
    "ypred_xgb = Best_xgb.predict(valid[predictors])\n",
    "ypred_lgb = Best_lgb.predict(valid[predictors])\n",
    "ypred_ens = (ypred_xgb + ypred_lgb)/2  # Average Ensemble"
   ]
  },
  {
   "cell_type": "code",
   "execution_count": 98,
   "metadata": {},
   "outputs": [
    {
     "data": {
      "text/plain": [
       "((50422,), (50422,), (50422,))"
      ]
     },
     "execution_count": 98,
     "metadata": {},
     "output_type": "execute_result"
    }
   ],
   "source": [
    "ypred_xgb.shape,ypred_lgb.shape,ypred_ens.shape"
   ]
  },
  {
   "cell_type": "code",
   "execution_count": 99,
   "metadata": {},
   "outputs": [
    {
     "data": {
      "text/plain": [
       "(50422, 2)"
      ]
     },
     "execution_count": 99,
     "metadata": {},
     "output_type": "execute_result"
    }
   ],
   "source": [
    "feats=np.concatenate([ypred_lgb[:,None],ypred_xgb[:,None]],axis=1)\n",
    "feats.shape"
   ]
  },
  {
   "cell_type": "code",
   "execution_count": 100,
   "metadata": {},
   "outputs": [
    {
     "data": {
      "text/plain": [
       "LinearRegression(copy_X=True, fit_intercept=True, n_jobs=1, normalize=False)"
      ]
     },
     "execution_count": 100,
     "metadata": {},
     "output_type": "execute_result"
    }
   ],
   "source": [
    "model.fit(feats,ytrue)\n"
   ]
  },
  {
   "cell_type": "code",
   "execution_count": 101,
   "metadata": {},
   "outputs": [],
   "source": [
    "ytrue= valid[target].values\n",
    "ypred_meta = model.predict(feats)"
   ]
  },
  {
   "cell_type": "code",
   "execution_count": 103,
   "metadata": {},
   "outputs": [
    {
     "data": {
      "text/plain": [
       "(0.3677818778278608, 0.4968229395276672)"
      ]
     },
     "execution_count": 103,
     "metadata": {},
     "output_type": "execute_result"
    }
   ],
   "source": [
    "#Results of Meta Learning\n",
    "mae(ytrue,ypred_meta),rmse(ytrue,ypred_meta)"
   ]
  },
  {
   "cell_type": "code",
   "execution_count": 104,
   "metadata": {},
   "outputs": [
    {
     "data": {
      "text/plain": [
       "(0.3678997861840608, 0.49701771417221813)"
      ]
     },
     "execution_count": 104,
     "metadata": {},
     "output_type": "execute_result"
    }
   ],
   "source": [
    "#Results of average ensemble\n",
    "mae(ytrue,ypred_ens),rmse(ytrue,ypred_ens)"
   ]
  },
  {
   "cell_type": "markdown",
   "metadata": {},
   "source": [
    "### Create and submit prediction"
   ]
  },
  {
   "cell_type": "code",
   "execution_count": 142,
   "metadata": {},
   "outputs": [],
   "source": [
    "ypred_xgb = Best_xgb.predict(test[predictors])\n",
    "ypred_lgb = Best_lgb.predict(test[predictors])\n",
    "ypred_ens = (ypred_xgb + ypred_lgb)/2 \n",
    "\n",
    "feats=np.concatenate([ypred_lgb[:,None],ypred_xgb[:,None]],axis=1)"
   ]
  },
  {
   "cell_type": "code",
   "execution_count": 106,
   "metadata": {},
   "outputs": [],
   "source": [
    "ypred_meta = model.predict(feats)"
   ]
  },
  {
   "cell_type": "code",
   "execution_count": 143,
   "metadata": {},
   "outputs": [],
   "source": [
    "preds = {'xgb':np.expm1(ypred_xgb),\n",
    "         'lgb':np.expm1(ypred_lgb),\n",
    "         'ens':np.expm1(ypred_ens),\n",
    "         'meta':np.expm1(ypred_meta)}"
   ]
  },
  {
   "cell_type": "code",
   "execution_count": 144,
   "metadata": {},
   "outputs": [],
   "source": [
    "for k,v in  preds.items(): \n",
    "    test['visitors']= v\n",
    "    test[['id', 'visitors']].to_csv(f'./{k}_submission.csv', index=False, float_format='%.4f') "
   ]
  },
  {
   "cell_type": "code",
   "execution_count": null,
   "metadata": {},
   "outputs": [],
   "source": [
    "!kaggle competitions submit -c recruit-restaurant-visitor-forecasting -f xgboost_submission.csv -m \"xgboost model\""
   ]
  },
  {
   "cell_type": "code",
   "execution_count": null,
   "metadata": {},
   "outputs": [],
   "source": []
  }
 ],
 "metadata": {
  "kernelspec": {
   "display_name": "Python 3",
   "language": "python",
   "name": "python3"
  },
  "language_info": {
   "codemirror_mode": {
    "name": "ipython",
    "version": 3
   },
   "file_extension": ".py",
   "mimetype": "text/x-python",
   "name": "python",
   "nbconvert_exporter": "python",
   "pygments_lexer": "ipython3",
   "version": "3.6.4"
  },
  "varInspector": {
   "cols": {
    "lenName": 16,
    "lenType": 16,
    "lenVar": 40
   },
   "kernels_config": {
    "python": {
     "delete_cmd_postfix": "",
     "delete_cmd_prefix": "del ",
     "library": "var_list.py",
     "varRefreshCmd": "print(var_dic_list())"
    },
    "r": {
     "delete_cmd_postfix": ") ",
     "delete_cmd_prefix": "rm(",
     "library": "var_list.r",
     "varRefreshCmd": "cat(var_dic_list()) "
    }
   },
   "types_to_exclude": [
    "module",
    "function",
    "builtin_function_or_method",
    "instance",
    "_Feature"
   ],
   "window_display": false
  }
 },
 "nbformat": 4,
 "nbformat_minor": 2
}
