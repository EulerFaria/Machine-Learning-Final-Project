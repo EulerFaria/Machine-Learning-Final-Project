{
 "cells": [
  {
   "cell_type": "code",
   "execution_count": 1,
   "metadata": {},
   "outputs": [],
   "source": [
    "%load_ext autoreload\n",
    "%autoreload 2\n",
    "%matplotlib inline"
   ]
  },
  {
   "cell_type": "code",
   "execution_count": 2,
   "metadata": {},
   "outputs": [],
   "source": [
    "import glob\n",
    "import os\n",
    "from os.path import expanduser\n",
    "import re\n",
    "\n",
    "import numpy as np \n",
    "import pandas as pd\n",
    "\n",
    "import matplotlib.pyplot as plt\n",
    "import seaborn as sns \n",
    "sns.set();"
   ]
  },
  {
   "cell_type": "code",
   "execution_count": 3,
   "metadata": {},
   "outputs": [],
   "source": [
    "home = expanduser(\"~\")\n",
    "path2data = home + '/.kaggle/competitions/recruit-restaurant-visitor-forecasting/'"
   ]
  },
  {
   "cell_type": "code",
   "execution_count": 4,
   "metadata": {},
   "outputs": [],
   "source": [
    "# folder to save figures\n",
    "path2figures = 'figures/'\n",
    "if  not os.path.exists(path2figures): os.mkdir(path2figures)"
   ]
  },
  {
   "cell_type": "markdown",
   "metadata": {
    "heading_collapsed": true
   },
   "source": [
    "## Download Dataset"
   ]
  },
  {
   "cell_type": "code",
   "execution_count": 5,
   "metadata": {
    "hidden": true,
    "scrolled": true
   },
   "outputs": [
    {
     "name": "stdout",
     "output_type": "stream",
     "text": [
      "Dataset already downloaded!\n"
     ]
    }
   ],
   "source": [
    "if  not os.path.exists(path2data):\n",
    "    !pip install kaggle\n",
    "    !kaggle competitions download -c recruit-restaurant-visitor-forecasting -p ~/.kaggle/competitions/recruit-restaurant-visitor-forecasting\n",
    "    !cd ~/.kaggle/competitions/recruit-restaurant-visitor-forecasting && ls && unzip \"*.zip\"\n",
    "else:\n",
    "    print('Dataset already downloaded!')"
   ]
  },
  {
   "cell_type": "code",
   "execution_count": 6,
   "metadata": {
    "hidden": true
   },
   "outputs": [
    {
     "name": "stdout",
     "output_type": "stream",
     "text": [
      "air_reserve.csv       date_info.csv         sample_submission.csv\r\n",
      "air_store_info.csv    hpg_reserve.csv       store_id_relation.csv\r\n",
      "air_visit_data.csv    hpg_store_info.csv\r\n"
     ]
    }
   ],
   "source": [
    "!ls {path2data}"
   ]
  },
  {
   "cell_type": "code",
   "execution_count": 7,
   "metadata": {
    "hidden": true
   },
   "outputs": [],
   "source": [
    "files = glob.glob(path2data + '*.csv')\n",
    "#files"
   ]
  },
  {
   "cell_type": "markdown",
   "metadata": {},
   "source": [
    "## Data Loading"
   ]
  },
  {
   "cell_type": "code",
   "execution_count": 8,
   "metadata": {},
   "outputs": [],
   "source": [
    "dfs = { re.search('/([^/\\.]*)\\.csv', fn).group(1):\n",
    "    pd.read_csv(fn)for fn in glob.glob( path2data +'*.csv')}\n",
    "for k, v in dfs.items(): locals()[k] = v"
   ]
  },
  {
   "cell_type": "markdown",
   "metadata": {},
   "source": [
    "- **air_store_info** contains information about select air restaurants.\n",
    "\n",
    "- **air_visit_data** contains historical visit data for the air restaurants. It has basicaly the id of the reservation using the air system, visit_date and the number of visitors. In order to combine the provided informations with the new feature we have created a new structure **visitors**. \n",
    "\n",
    "- **hpg_store_info** contains information about select hpg restaurants.\n",
    "\n",
    "- **hpg_reserve** contains informations abourt reservation made using hpg. \n",
    "\n",
    "- **air_reserve** contains informations abourt reservation made using air. "
   ]
  },
  {
   "cell_type": "code",
   "execution_count": 9,
   "metadata": {},
   "outputs": [
    {
     "name": "stdout",
     "output_type": "stream",
     "text": [
      "air_store_info\n",
      "date_info\n",
      "store_id_relation\n",
      "hpg_reserve\n",
      "air_reserve\n",
      "air_visit_data\n",
      "sample_submission\n",
      "hpg_store_info\n"
     ]
    }
   ],
   "source": [
    "for k,v in  dfs.items(): print(k)"
   ]
  },
  {
   "cell_type": "markdown",
   "metadata": {
    "heading_collapsed": true
   },
   "source": [
    "### Get train and test data"
   ]
  },
  {
   "cell_type": "code",
   "execution_count": 10,
   "metadata": {
    "hidden": true
   },
   "outputs": [],
   "source": [
    "sample_submission['air_store_id'] = sample_submission.id.map(lambda x: '_'.join(x.split('_')[:-1]))\n",
    "sample_submission['visit_date'] = sample_submission.id.map(lambda x: x.split('_')[2])\n",
    "sample_submission = sample_submission.drop('id', axis='columns')\n",
    "sample_submission['visitors'] = np.nan\n",
    "sample_submission['test_set'] = True"
   ]
  },
  {
   "cell_type": "code",
   "execution_count": 11,
   "metadata": {
    "hidden": true
   },
   "outputs": [
    {
     "data": {
      "text/html": [
       "<div>\n",
       "<style scoped>\n",
       "    .dataframe tbody tr th:only-of-type {\n",
       "        vertical-align: middle;\n",
       "    }\n",
       "\n",
       "    .dataframe tbody tr th {\n",
       "        vertical-align: top;\n",
       "    }\n",
       "\n",
       "    .dataframe thead th {\n",
       "        text-align: right;\n",
       "    }\n",
       "</style>\n",
       "<table border=\"1\" class=\"dataframe\">\n",
       "  <thead>\n",
       "    <tr style=\"text-align: right;\">\n",
       "      <th></th>\n",
       "      <th>visitors</th>\n",
       "      <th>air_store_id</th>\n",
       "      <th>visit_date</th>\n",
       "      <th>test_set</th>\n",
       "    </tr>\n",
       "  </thead>\n",
       "  <tbody>\n",
       "    <tr>\n",
       "      <th>0</th>\n",
       "      <td>NaN</td>\n",
       "      <td>air_00a91d42b08b08d9</td>\n",
       "      <td>2017-04-23</td>\n",
       "      <td>True</td>\n",
       "    </tr>\n",
       "    <tr>\n",
       "      <th>1</th>\n",
       "      <td>NaN</td>\n",
       "      <td>air_00a91d42b08b08d9</td>\n",
       "      <td>2017-04-24</td>\n",
       "      <td>True</td>\n",
       "    </tr>\n",
       "    <tr>\n",
       "      <th>2</th>\n",
       "      <td>NaN</td>\n",
       "      <td>air_00a91d42b08b08d9</td>\n",
       "      <td>2017-04-25</td>\n",
       "      <td>True</td>\n",
       "    </tr>\n",
       "  </tbody>\n",
       "</table>\n",
       "</div>"
      ],
      "text/plain": [
       "   visitors          air_store_id  visit_date  test_set\n",
       "0       NaN  air_00a91d42b08b08d9  2017-04-23      True\n",
       "1       NaN  air_00a91d42b08b08d9  2017-04-24      True\n",
       "2       NaN  air_00a91d42b08b08d9  2017-04-25      True"
      ]
     },
     "execution_count": 11,
     "metadata": {},
     "output_type": "execute_result"
    }
   ],
   "source": [
    "sample_submission.head(3)"
   ]
  },
  {
   "cell_type": "code",
   "execution_count": 12,
   "metadata": {
    "hidden": true
   },
   "outputs": [],
   "source": [
    "air_visit_data =  pd.concat((air_visit_data, sample_submission))"
   ]
  },
  {
   "cell_type": "code",
   "execution_count": 13,
   "metadata": {
    "hidden": true
   },
   "outputs": [
    {
     "data": {
      "text/html": [
       "<div>\n",
       "<style scoped>\n",
       "    .dataframe tbody tr th:only-of-type {\n",
       "        vertical-align: middle;\n",
       "    }\n",
       "\n",
       "    .dataframe tbody tr th {\n",
       "        vertical-align: top;\n",
       "    }\n",
       "\n",
       "    .dataframe thead th {\n",
       "        text-align: right;\n",
       "    }\n",
       "</style>\n",
       "<table border=\"1\" class=\"dataframe\">\n",
       "  <thead>\n",
       "    <tr style=\"text-align: right;\">\n",
       "      <th></th>\n",
       "      <th>air_store_id</th>\n",
       "      <th>test_set</th>\n",
       "      <th>visit_date</th>\n",
       "      <th>visitors</th>\n",
       "    </tr>\n",
       "  </thead>\n",
       "  <tbody>\n",
       "    <tr>\n",
       "      <th>0</th>\n",
       "      <td>air_ba937bf13d40fb24</td>\n",
       "      <td>NaN</td>\n",
       "      <td>2016-01-13</td>\n",
       "      <td>25.0</td>\n",
       "    </tr>\n",
       "    <tr>\n",
       "      <th>1</th>\n",
       "      <td>air_ba937bf13d40fb24</td>\n",
       "      <td>NaN</td>\n",
       "      <td>2016-01-14</td>\n",
       "      <td>32.0</td>\n",
       "    </tr>\n",
       "    <tr>\n",
       "      <th>2</th>\n",
       "      <td>air_ba937bf13d40fb24</td>\n",
       "      <td>NaN</td>\n",
       "      <td>2016-01-15</td>\n",
       "      <td>29.0</td>\n",
       "    </tr>\n",
       "    <tr>\n",
       "      <th>3</th>\n",
       "      <td>air_ba937bf13d40fb24</td>\n",
       "      <td>NaN</td>\n",
       "      <td>2016-01-16</td>\n",
       "      <td>22.0</td>\n",
       "    </tr>\n",
       "    <tr>\n",
       "      <th>4</th>\n",
       "      <td>air_ba937bf13d40fb24</td>\n",
       "      <td>NaN</td>\n",
       "      <td>2016-01-18</td>\n",
       "      <td>6.0</td>\n",
       "    </tr>\n",
       "  </tbody>\n",
       "</table>\n",
       "</div>"
      ],
      "text/plain": [
       "           air_store_id test_set  visit_date  visitors\n",
       "0  air_ba937bf13d40fb24      NaN  2016-01-13      25.0\n",
       "1  air_ba937bf13d40fb24      NaN  2016-01-14      32.0\n",
       "2  air_ba937bf13d40fb24      NaN  2016-01-15      29.0\n",
       "3  air_ba937bf13d40fb24      NaN  2016-01-16      22.0\n",
       "4  air_ba937bf13d40fb24      NaN  2016-01-18       6.0"
      ]
     },
     "execution_count": 13,
     "metadata": {},
     "output_type": "execute_result"
    }
   ],
   "source": [
    "air_visit_data.head()"
   ]
  },
  {
   "cell_type": "code",
   "execution_count": 14,
   "metadata": {
    "hidden": true
   },
   "outputs": [
    {
     "data": {
      "text/plain": [
       "(284127, 4)"
      ]
     },
     "execution_count": 14,
     "metadata": {},
     "output_type": "execute_result"
    }
   ],
   "source": [
    "air_visit_data.shape"
   ]
  },
  {
   "cell_type": "markdown",
   "metadata": {
    "heading_collapsed": true
   },
   "source": [
    "### Inner join between the two data sources (air and hpg)"
   ]
  },
  {
   "cell_type": "markdown",
   "metadata": {
    "hidden": true
   },
   "source": [
    "**store_id_relation** has the relationship between the two separate sites in which the data comes:\n",
    "    \n",
    "Hot Pepper Gourmet (**hpg**): similar to Yelp, here users can search restaurants and also make a reservation online\n",
    "\n",
    "AirREGI / Restaurant Board (**air**): similar to Square, a reservation control and cash register system"
   ]
  },
  {
   "cell_type": "code",
   "execution_count": 15,
   "metadata": {
    "hidden": true
   },
   "outputs": [
    {
     "data": {
      "text/html": [
       "<div>\n",
       "<style scoped>\n",
       "    .dataframe tbody tr th:only-of-type {\n",
       "        vertical-align: middle;\n",
       "    }\n",
       "\n",
       "    .dataframe tbody tr th {\n",
       "        vertical-align: top;\n",
       "    }\n",
       "\n",
       "    .dataframe thead th {\n",
       "        text-align: right;\n",
       "    }\n",
       "</style>\n",
       "<table border=\"1\" class=\"dataframe\">\n",
       "  <thead>\n",
       "    <tr style=\"text-align: right;\">\n",
       "      <th></th>\n",
       "      <th>air_store_id</th>\n",
       "      <th>hpg_store_id</th>\n",
       "    </tr>\n",
       "  </thead>\n",
       "  <tbody>\n",
       "    <tr>\n",
       "      <th>0</th>\n",
       "      <td>air_63b13c56b7201bd9</td>\n",
       "      <td>hpg_4bc649e72e2a239a</td>\n",
       "    </tr>\n",
       "    <tr>\n",
       "      <th>1</th>\n",
       "      <td>air_a24bf50c3e90d583</td>\n",
       "      <td>hpg_c34b496d0305a809</td>\n",
       "    </tr>\n",
       "    <tr>\n",
       "      <th>2</th>\n",
       "      <td>air_c7f78b4f3cba33ff</td>\n",
       "      <td>hpg_cd8ae0d9bbd58ff9</td>\n",
       "    </tr>\n",
       "    <tr>\n",
       "      <th>3</th>\n",
       "      <td>air_947eb2cae4f3e8f2</td>\n",
       "      <td>hpg_de24ea49dc25d6b8</td>\n",
       "    </tr>\n",
       "    <tr>\n",
       "      <th>4</th>\n",
       "      <td>air_965b2e0cf4119003</td>\n",
       "      <td>hpg_653238a84804d8e7</td>\n",
       "    </tr>\n",
       "  </tbody>\n",
       "</table>\n",
       "</div>"
      ],
      "text/plain": [
       "           air_store_id          hpg_store_id\n",
       "0  air_63b13c56b7201bd9  hpg_4bc649e72e2a239a\n",
       "1  air_a24bf50c3e90d583  hpg_c34b496d0305a809\n",
       "2  air_c7f78b4f3cba33ff  hpg_cd8ae0d9bbd58ff9\n",
       "3  air_947eb2cae4f3e8f2  hpg_de24ea49dc25d6b8\n",
       "4  air_965b2e0cf4119003  hpg_653238a84804d8e7"
      ]
     },
     "execution_count": 15,
     "metadata": {},
     "output_type": "execute_result"
    }
   ],
   "source": [
    "store_id_relation.head()"
   ]
  },
  {
   "cell_type": "code",
   "execution_count": 16,
   "metadata": {
    "hidden": true
   },
   "outputs": [],
   "source": [
    "air_info = air_reserve.merge(air_store_info, on='air_store_id', how='left', suffixes=('', '_y'))"
   ]
  },
  {
   "cell_type": "code",
   "execution_count": 17,
   "metadata": {
    "hidden": true
   },
   "outputs": [],
   "source": [
    "data = air_visit_data.merge(air_store_info, on='air_store_id', how='left', suffixes=('', '_y'))\n",
    "data = data.merge(store_id_relation, on='air_store_id', how='left', suffixes=('', '_y')) \n",
    "data = data.merge(hpg_store_info, on='hpg_store_id', how='left', suffixes=('', '_y'))"
   ]
  },
  {
   "cell_type": "code",
   "execution_count": 18,
   "metadata": {
    "hidden": true
   },
   "outputs": [
    {
     "data": {
      "text/html": [
       "<div>\n",
       "<style scoped>\n",
       "    .dataframe tbody tr th:only-of-type {\n",
       "        vertical-align: middle;\n",
       "    }\n",
       "\n",
       "    .dataframe tbody tr th {\n",
       "        vertical-align: top;\n",
       "    }\n",
       "\n",
       "    .dataframe thead th {\n",
       "        text-align: right;\n",
       "    }\n",
       "</style>\n",
       "<table border=\"1\" class=\"dataframe\">\n",
       "  <thead>\n",
       "    <tr style=\"text-align: right;\">\n",
       "      <th></th>\n",
       "      <th>air_store_id</th>\n",
       "      <th>test_set</th>\n",
       "      <th>visit_date</th>\n",
       "      <th>visitors</th>\n",
       "      <th>air_genre_name</th>\n",
       "      <th>air_area_name</th>\n",
       "      <th>latitude</th>\n",
       "      <th>longitude</th>\n",
       "      <th>hpg_store_id</th>\n",
       "      <th>hpg_genre_name</th>\n",
       "      <th>hpg_area_name</th>\n",
       "      <th>latitude_y</th>\n",
       "      <th>longitude_y</th>\n",
       "    </tr>\n",
       "  </thead>\n",
       "  <tbody>\n",
       "    <tr>\n",
       "      <th>0</th>\n",
       "      <td>air_ba937bf13d40fb24</td>\n",
       "      <td>NaN</td>\n",
       "      <td>2016-01-13</td>\n",
       "      <td>25.0</td>\n",
       "      <td>Dining bar</td>\n",
       "      <td>Tōkyō-to Minato-ku Shibakōen</td>\n",
       "      <td>35.658068</td>\n",
       "      <td>139.751599</td>\n",
       "      <td>NaN</td>\n",
       "      <td>NaN</td>\n",
       "      <td>NaN</td>\n",
       "      <td>NaN</td>\n",
       "      <td>NaN</td>\n",
       "    </tr>\n",
       "    <tr>\n",
       "      <th>1</th>\n",
       "      <td>air_ba937bf13d40fb24</td>\n",
       "      <td>NaN</td>\n",
       "      <td>2016-01-14</td>\n",
       "      <td>32.0</td>\n",
       "      <td>Dining bar</td>\n",
       "      <td>Tōkyō-to Minato-ku Shibakōen</td>\n",
       "      <td>35.658068</td>\n",
       "      <td>139.751599</td>\n",
       "      <td>NaN</td>\n",
       "      <td>NaN</td>\n",
       "      <td>NaN</td>\n",
       "      <td>NaN</td>\n",
       "      <td>NaN</td>\n",
       "    </tr>\n",
       "  </tbody>\n",
       "</table>\n",
       "</div>"
      ],
      "text/plain": [
       "           air_store_id test_set  visit_date  visitors air_genre_name  \\\n",
       "0  air_ba937bf13d40fb24      NaN  2016-01-13      25.0     Dining bar   \n",
       "1  air_ba937bf13d40fb24      NaN  2016-01-14      32.0     Dining bar   \n",
       "\n",
       "                  air_area_name   latitude   longitude hpg_store_id  \\\n",
       "0  Tōkyō-to Minato-ku Shibakōen  35.658068  139.751599          NaN   \n",
       "1  Tōkyō-to Minato-ku Shibakōen  35.658068  139.751599          NaN   \n",
       "\n",
       "  hpg_genre_name hpg_area_name  latitude_y  longitude_y  \n",
       "0            NaN           NaN         NaN          NaN  \n",
       "1            NaN           NaN         NaN          NaN  "
      ]
     },
     "execution_count": 18,
     "metadata": {},
     "output_type": "execute_result"
    }
   ],
   "source": [
    "data.head(2)"
   ]
  },
  {
   "cell_type": "markdown",
   "metadata": {
    "hidden": true
   },
   "source": [
    "**Date info** carry out information about the calendary. Has proposed by [zeemeen](https://www.kaggle.com/zeemeen/weighted-mean-comparisons-lb-0-497-1st) we have created a new feature **Weight** which creates a ponderation factor around holidays and weekends."
   ]
  },
  {
   "cell_type": "code",
   "execution_count": 19,
   "metadata": {
    "hidden": true
   },
   "outputs": [],
   "source": [
    "wkend_holidays = date_info.apply(lambda x: (x.day_of_week=='Sunday' or x.day_of_week=='Saturday') and x.holiday_flg==1, axis=1)\n",
    "wkend_holidays.value_counts()\n",
    "\n",
    "date_info.loc[wkend_holidays, 'holiday_flg'] = 0\n",
    "date_info['weight'] = ((date_info.index + 1) / len(date_info)) ** 5"
   ]
  },
  {
   "cell_type": "code",
   "execution_count": 20,
   "metadata": {
    "hidden": true
   },
   "outputs": [
    {
     "data": {
      "text/html": [
       "<div>\n",
       "<style scoped>\n",
       "    .dataframe tbody tr th:only-of-type {\n",
       "        vertical-align: middle;\n",
       "    }\n",
       "\n",
       "    .dataframe tbody tr th {\n",
       "        vertical-align: top;\n",
       "    }\n",
       "\n",
       "    .dataframe thead th {\n",
       "        text-align: right;\n",
       "    }\n",
       "</style>\n",
       "<table border=\"1\" class=\"dataframe\">\n",
       "  <thead>\n",
       "    <tr style=\"text-align: right;\">\n",
       "      <th></th>\n",
       "      <th>calendar_date</th>\n",
       "      <th>day_of_week</th>\n",
       "      <th>holiday_flg</th>\n",
       "      <th>weight</th>\n",
       "    </tr>\n",
       "  </thead>\n",
       "  <tbody>\n",
       "    <tr>\n",
       "      <th>0</th>\n",
       "      <td>2016-01-01</td>\n",
       "      <td>Friday</td>\n",
       "      <td>1</td>\n",
       "      <td>2.707368e-14</td>\n",
       "    </tr>\n",
       "    <tr>\n",
       "      <th>1</th>\n",
       "      <td>2016-01-02</td>\n",
       "      <td>Saturday</td>\n",
       "      <td>0</td>\n",
       "      <td>8.663577e-13</td>\n",
       "    </tr>\n",
       "    <tr>\n",
       "      <th>2</th>\n",
       "      <td>2016-01-03</td>\n",
       "      <td>Sunday</td>\n",
       "      <td>0</td>\n",
       "      <td>6.578904e-12</td>\n",
       "    </tr>\n",
       "    <tr>\n",
       "      <th>3</th>\n",
       "      <td>2016-01-04</td>\n",
       "      <td>Monday</td>\n",
       "      <td>0</td>\n",
       "      <td>2.772345e-11</td>\n",
       "    </tr>\n",
       "    <tr>\n",
       "      <th>4</th>\n",
       "      <td>2016-01-05</td>\n",
       "      <td>Tuesday</td>\n",
       "      <td>0</td>\n",
       "      <td>8.460525e-11</td>\n",
       "    </tr>\n",
       "  </tbody>\n",
       "</table>\n",
       "</div>"
      ],
      "text/plain": [
       "  calendar_date day_of_week  holiday_flg        weight\n",
       "0    2016-01-01      Friday            1  2.707368e-14\n",
       "1    2016-01-02    Saturday            0  8.663577e-13\n",
       "2    2016-01-03      Sunday            0  6.578904e-12\n",
       "3    2016-01-04      Monday            0  2.772345e-11\n",
       "4    2016-01-05     Tuesday            0  8.460525e-11"
      ]
     },
     "execution_count": 20,
     "metadata": {},
     "output_type": "execute_result"
    }
   ],
   "source": [
    "date_info.head(5)"
   ]
  },
  {
   "cell_type": "markdown",
   "metadata": {
    "hidden": true
   },
   "source": [
    "The number of visitor which is the target of the problem was transformed used a **log(1 + visitors)**. This transformation brings the distribution of visitors closer to a gaussian distribution which helps convergence "
   ]
  },
  {
   "cell_type": "code",
   "execution_count": 21,
   "metadata": {
    "hidden": true
   },
   "outputs": [],
   "source": [
    "data = data.merge(date_info, left_on='visit_date', right_on='calendar_date', how='left')\n",
    "data['visitors_log'] = data.visitors.map(pd.np.log1p)"
   ]
  },
  {
   "cell_type": "code",
   "execution_count": 22,
   "metadata": {
    "hidden": true
   },
   "outputs": [
    {
     "data": {
      "image/png": "[encoded data removed]",
      "text/plain": [
       "<matplotlib.figure.Figure at 0x1a13781588>"
      ]
     },
     "metadata": {},
     "output_type": "display_data"
    }
   ],
   "source": [
    "fig = plt.figure(figsize=(20,6))\n",
    "plt.subplot(1,2,1)\n",
    "sns.distplot(data[data['visitors'].notnull()]['visitors'])\n",
    "plt.title('Visitors distribution', fontsize=20)\n",
    "plt.subplot(1,2,2)\n",
    "sns.distplot(data[data['visitors'].notnull()]['visitors_log'])\n",
    "plt.title('1 Plus Log Visitors distribution', fontsize=20)\n",
    "\n",
    "fig.savefig(path2figures + 'visitor_distribution.png')"
   ]
  },
  {
   "cell_type": "code",
   "execution_count": 23,
   "metadata": {
    "hidden": true
   },
   "outputs": [
    {
     "data": {
      "text/html": [
       "<div>\n",
       "<style scoped>\n",
       "    .dataframe tbody tr th:only-of-type {\n",
       "        vertical-align: middle;\n",
       "    }\n",
       "\n",
       "    .dataframe tbody tr th {\n",
       "        vertical-align: top;\n",
       "    }\n",
       "\n",
       "    .dataframe thead th {\n",
       "        text-align: right;\n",
       "    }\n",
       "</style>\n",
       "<table border=\"1\" class=\"dataframe\">\n",
       "  <thead>\n",
       "    <tr style=\"text-align: right;\">\n",
       "      <th></th>\n",
       "      <th>air_store_id</th>\n",
       "      <th>test_set</th>\n",
       "      <th>visit_date</th>\n",
       "      <th>visitors</th>\n",
       "      <th>air_genre_name</th>\n",
       "      <th>air_area_name</th>\n",
       "      <th>latitude</th>\n",
       "      <th>longitude</th>\n",
       "      <th>hpg_store_id</th>\n",
       "      <th>hpg_genre_name</th>\n",
       "      <th>hpg_area_name</th>\n",
       "      <th>latitude_y</th>\n",
       "      <th>longitude_y</th>\n",
       "      <th>calendar_date</th>\n",
       "      <th>day_of_week</th>\n",
       "      <th>holiday_flg</th>\n",
       "      <th>weight</th>\n",
       "      <th>visitors_log</th>\n",
       "    </tr>\n",
       "  </thead>\n",
       "  <tbody>\n",
       "    <tr>\n",
       "      <th>0</th>\n",
       "      <td>air_ba937bf13d40fb24</td>\n",
       "      <td>NaN</td>\n",
       "      <td>2016-01-13</td>\n",
       "      <td>25.0</td>\n",
       "      <td>Dining bar</td>\n",
       "      <td>Tōkyō-to Minato-ku Shibakōen</td>\n",
       "      <td>35.658068</td>\n",
       "      <td>139.751599</td>\n",
       "      <td>NaN</td>\n",
       "      <td>NaN</td>\n",
       "      <td>NaN</td>\n",
       "      <td>NaN</td>\n",
       "      <td>NaN</td>\n",
       "      <td>2016-01-13</td>\n",
       "      <td>Wednesday</td>\n",
       "      <td>0</td>\n",
       "      <td>1.005227e-08</td>\n",
       "      <td>3.258097</td>\n",
       "    </tr>\n",
       "    <tr>\n",
       "      <th>1</th>\n",
       "      <td>air_ba937bf13d40fb24</td>\n",
       "      <td>NaN</td>\n",
       "      <td>2016-01-14</td>\n",
       "      <td>32.0</td>\n",
       "      <td>Dining bar</td>\n",
       "      <td>Tōkyō-to Minato-ku Shibakōen</td>\n",
       "      <td>35.658068</td>\n",
       "      <td>139.751599</td>\n",
       "      <td>NaN</td>\n",
       "      <td>NaN</td>\n",
       "      <td>NaN</td>\n",
       "      <td>NaN</td>\n",
       "      <td>NaN</td>\n",
       "      <td>2016-01-14</td>\n",
       "      <td>Thursday</td>\n",
       "      <td>0</td>\n",
       "      <td>1.456087e-08</td>\n",
       "      <td>3.496508</td>\n",
       "    </tr>\n",
       "  </tbody>\n",
       "</table>\n",
       "</div>"
      ],
      "text/plain": [
       "           air_store_id test_set  visit_date  visitors air_genre_name  \\\n",
       "0  air_ba937bf13d40fb24      NaN  2016-01-13      25.0     Dining bar   \n",
       "1  air_ba937bf13d40fb24      NaN  2016-01-14      32.0     Dining bar   \n",
       "\n",
       "                  air_area_name   latitude   longitude hpg_store_id  \\\n",
       "0  Tōkyō-to Minato-ku Shibakōen  35.658068  139.751599          NaN   \n",
       "1  Tōkyō-to Minato-ku Shibakōen  35.658068  139.751599          NaN   \n",
       "\n",
       "  hpg_genre_name hpg_area_name  latitude_y  longitude_y calendar_date  \\\n",
       "0            NaN           NaN         NaN          NaN    2016-01-13   \n",
       "1            NaN           NaN         NaN          NaN    2016-01-14   \n",
       "\n",
       "  day_of_week  holiday_flg        weight  visitors_log  \n",
       "0   Wednesday            0  1.005227e-08      3.258097  \n",
       "1    Thursday            0  1.456087e-08      3.496508  "
      ]
     },
     "execution_count": 23,
     "metadata": {},
     "output_type": "execute_result"
    }
   ],
   "source": [
    "data.head(2)"
   ]
  },
  {
   "cell_type": "code",
   "execution_count": 24,
   "metadata": {
    "hidden": true
   },
   "outputs": [
    {
     "data": {
      "text/html": [
       "<div>\n",
       "<style scoped>\n",
       "    .dataframe tbody tr th:only-of-type {\n",
       "        vertical-align: middle;\n",
       "    }\n",
       "\n",
       "    .dataframe tbody tr th {\n",
       "        vertical-align: top;\n",
       "    }\n",
       "\n",
       "    .dataframe thead th {\n",
       "        text-align: right;\n",
       "    }\n",
       "</style>\n",
       "<table border=\"1\" class=\"dataframe\">\n",
       "  <thead>\n",
       "    <tr style=\"text-align: right;\">\n",
       "      <th></th>\n",
       "      <th>visitors</th>\n",
       "      <th>visitors_log</th>\n",
       "    </tr>\n",
       "  </thead>\n",
       "  <tbody>\n",
       "    <tr>\n",
       "      <th>count</th>\n",
       "      <td>252108.000000</td>\n",
       "      <td>252108.000000</td>\n",
       "    </tr>\n",
       "    <tr>\n",
       "      <th>mean</th>\n",
       "      <td>20.973761</td>\n",
       "      <td>2.802788</td>\n",
       "    </tr>\n",
       "    <tr>\n",
       "      <th>std</th>\n",
       "      <td>16.757007</td>\n",
       "      <td>0.807726</td>\n",
       "    </tr>\n",
       "    <tr>\n",
       "      <th>min</th>\n",
       "      <td>1.000000</td>\n",
       "      <td>0.693147</td>\n",
       "    </tr>\n",
       "    <tr>\n",
       "      <th>25%</th>\n",
       "      <td>9.000000</td>\n",
       "      <td>2.302585</td>\n",
       "    </tr>\n",
       "    <tr>\n",
       "      <th>50%</th>\n",
       "      <td>17.000000</td>\n",
       "      <td>2.890372</td>\n",
       "    </tr>\n",
       "    <tr>\n",
       "      <th>75%</th>\n",
       "      <td>29.000000</td>\n",
       "      <td>3.401197</td>\n",
       "    </tr>\n",
       "    <tr>\n",
       "      <th>max</th>\n",
       "      <td>877.000000</td>\n",
       "      <td>6.777647</td>\n",
       "    </tr>\n",
       "  </tbody>\n",
       "</table>\n",
       "</div>"
      ],
      "text/plain": [
       "            visitors   visitors_log\n",
       "count  252108.000000  252108.000000\n",
       "mean       20.973761       2.802788\n",
       "std        16.757007       0.807726\n",
       "min         1.000000       0.693147\n",
       "25%         9.000000       2.302585\n",
       "50%        17.000000       2.890372\n",
       "75%        29.000000       3.401197\n",
       "max       877.000000       6.777647"
      ]
     },
     "execution_count": 24,
     "metadata": {},
     "output_type": "execute_result"
    }
   ],
   "source": [
    "data[data['visitors'].notnull()][['visitors', 'visitors_log']].describe()"
   ]
  },
  {
   "cell_type": "markdown",
   "metadata": {
    "heading_collapsed": true
   },
   "source": [
    "### Weather informations"
   ]
  },
  {
   "cell_type": "markdown",
   "metadata": {
    "hidden": true
   },
   "source": [
    "In order to create a more robust model, we have used information about the [weather](https://www.kaggle.com/huntermcgushion/rrv-weather-data). The cell bellow will download automatically this dataset. To add the precipitation and avg_temperature it will be used the function [add_weather](https://gist.github.com/superMDguy/72689a11746079677ddb0d19f26443a1) as demonstrated bellow."
   ]
  },
  {
   "cell_type": "code",
   "execution_count": 25,
   "metadata": {
    "hidden": true
   },
   "outputs": [],
   "source": [
    "path2weather = 'raw/weather/'"
   ]
  },
  {
   "cell_type": "code",
   "execution_count": 26,
   "metadata": {
    "hidden": true,
    "scrolled": true
   },
   "outputs": [
    {
     "name": "stdout",
     "output_type": "stream",
     "text": [
      "Weather Dataset already downloaded!\n"
     ]
    }
   ],
   "source": [
    "if  not os.path.exists(path2weather):\n",
    "    !wget -O rrv-weather-data.zip \"https://storage.googleapis.com/kaggle-datasets/7480/12096/rrv-weather-data.zip?GoogleAccessId=web-data@kaggle-161607.iam.gserviceaccount.com&Expires=1528816610&Signature=kDnX2dX3Pd8VGbR6rqRmDH7XYFjBiKYnz3hoez3AWjv0oUf2vJKLpYKV7zfLb%2FgNJE2kXy9D8%2BNvmNkx4LrJHRvVrIMsGyMe%2FM0x1Z3Kxk6nJMSI9BDZGhsyBSONBKPNdND%2FEHuo2k1T2Wo8tOBu1VOOQlLt8NkblTCBx3ihEvEapCq6UgtfNvYvnE55MI8TBCNLcMBBBUU3Cv251yywybyUTAGRfWfIoc2hcYkrVV0j8EtOCfX5CKrAmvxhnuzLBKvlapIrYmOLRtwjlyFfQh2nWqpQGb7ORj%2BUfTvL3trMgOd06aozbCj4A207p%2FBd2IBEweYElxsgddGdpwaLHg%3D%3D\"\n",
    "    !mkdir -p raw/weather/\n",
    "    !mv rrv-weather-data.zip raw/weather/\n",
    "    !cd raw/weather/ && unzip rrv-weather-data.zip\n",
    "    !cd raw/weather/ && unzip 1-1-16_5-31-17_Weather.zip\n",
    "else:\n",
    "    print('Weather Dataset already downloaded!')"
   ]
  },
  {
   "cell_type": "code",
   "execution_count": 27,
   "metadata": {
    "hidden": true
   },
   "outputs": [
    {
     "data": {
      "text/html": [
       "<div>\n",
       "<style scoped>\n",
       "    .dataframe tbody tr th:only-of-type {\n",
       "        vertical-align: middle;\n",
       "    }\n",
       "\n",
       "    .dataframe tbody tr th {\n",
       "        vertical-align: top;\n",
       "    }\n",
       "\n",
       "    .dataframe thead th {\n",
       "        text-align: right;\n",
       "    }\n",
       "</style>\n",
       "<table border=\"1\" class=\"dataframe\">\n",
       "  <thead>\n",
       "    <tr style=\"text-align: right;\">\n",
       "      <th></th>\n",
       "      <th>calendar_date</th>\n",
       "      <th>avg_temperature</th>\n",
       "      <th>high_temperature</th>\n",
       "      <th>low_temperature</th>\n",
       "      <th>precipitation</th>\n",
       "      <th>hours_sunlight</th>\n",
       "      <th>solar_radiation</th>\n",
       "      <th>deepest_snowfall</th>\n",
       "      <th>total_snowfall</th>\n",
       "      <th>avg_wind_speed</th>\n",
       "      <th>avg_vapor_pressure</th>\n",
       "      <th>avg_local_pressure</th>\n",
       "      <th>avg_humidity</th>\n",
       "      <th>avg_sea_pressure</th>\n",
       "      <th>cloud_cover</th>\n",
       "    </tr>\n",
       "  </thead>\n",
       "  <tbody>\n",
       "    <tr>\n",
       "      <th>0</th>\n",
       "      <td>2016-01-01</td>\n",
       "      <td>7.5</td>\n",
       "      <td>12.1</td>\n",
       "      <td>3.6</td>\n",
       "      <td>NaN</td>\n",
       "      <td>9.0</td>\n",
       "      <td>11.80</td>\n",
       "      <td>NaN</td>\n",
       "      <td>NaN</td>\n",
       "      <td>2.6</td>\n",
       "      <td>4.5</td>\n",
       "      <td>1022.4</td>\n",
       "      <td>45.0</td>\n",
       "      <td>1025.4</td>\n",
       "      <td>2.5</td>\n",
       "    </tr>\n",
       "    <tr>\n",
       "      <th>1</th>\n",
       "      <td>2016-01-02</td>\n",
       "      <td>7.3</td>\n",
       "      <td>13.4</td>\n",
       "      <td>2.6</td>\n",
       "      <td>NaN</td>\n",
       "      <td>7.5</td>\n",
       "      <td>11.59</td>\n",
       "      <td>NaN</td>\n",
       "      <td>NaN</td>\n",
       "      <td>1.9</td>\n",
       "      <td>5.2</td>\n",
       "      <td>1018.6</td>\n",
       "      <td>51.0</td>\n",
       "      <td>1021.5</td>\n",
       "      <td>4.3</td>\n",
       "    </tr>\n",
       "    <tr>\n",
       "      <th>2</th>\n",
       "      <td>2016-01-03</td>\n",
       "      <td>9.3</td>\n",
       "      <td>16.2</td>\n",
       "      <td>3.0</td>\n",
       "      <td>NaN</td>\n",
       "      <td>8.3</td>\n",
       "      <td>10.77</td>\n",
       "      <td>NaN</td>\n",
       "      <td>NaN</td>\n",
       "      <td>1.4</td>\n",
       "      <td>7.0</td>\n",
       "      <td>1013.2</td>\n",
       "      <td>61.0</td>\n",
       "      <td>1016.2</td>\n",
       "      <td>5.3</td>\n",
       "    </tr>\n",
       "    <tr>\n",
       "      <th>3</th>\n",
       "      <td>2016-01-04</td>\n",
       "      <td>9.2</td>\n",
       "      <td>15.2</td>\n",
       "      <td>4.4</td>\n",
       "      <td>NaN</td>\n",
       "      <td>8.9</td>\n",
       "      <td>11.19</td>\n",
       "      <td>NaN</td>\n",
       "      <td>NaN</td>\n",
       "      <td>1.6</td>\n",
       "      <td>6.8</td>\n",
       "      <td>1010.4</td>\n",
       "      <td>60.0</td>\n",
       "      <td>1013.3</td>\n",
       "      <td>0.0</td>\n",
       "    </tr>\n",
       "    <tr>\n",
       "      <th>4</th>\n",
       "      <td>2016-01-05</td>\n",
       "      <td>10.9</td>\n",
       "      <td>15.4</td>\n",
       "      <td>5.1</td>\n",
       "      <td>NaN</td>\n",
       "      <td>8.4</td>\n",
       "      <td>10.57</td>\n",
       "      <td>NaN</td>\n",
       "      <td>NaN</td>\n",
       "      <td>1.8</td>\n",
       "      <td>6.5</td>\n",
       "      <td>1013.1</td>\n",
       "      <td>51.0</td>\n",
       "      <td>1016.0</td>\n",
       "      <td>2.8</td>\n",
       "    </tr>\n",
       "  </tbody>\n",
       "</table>\n",
       "</div>"
      ],
      "text/plain": [
       "  calendar_date  avg_temperature  high_temperature  low_temperature  \\\n",
       "0    2016-01-01              7.5              12.1              3.6   \n",
       "1    2016-01-02              7.3              13.4              2.6   \n",
       "2    2016-01-03              9.3              16.2              3.0   \n",
       "3    2016-01-04              9.2              15.2              4.4   \n",
       "4    2016-01-05             10.9              15.4              5.1   \n",
       "\n",
       "   precipitation  hours_sunlight  solar_radiation  deepest_snowfall  \\\n",
       "0            NaN             9.0            11.80               NaN   \n",
       "1            NaN             7.5            11.59               NaN   \n",
       "2            NaN             8.3            10.77               NaN   \n",
       "3            NaN             8.9            11.19               NaN   \n",
       "4            NaN             8.4            10.57               NaN   \n",
       "\n",
       "   total_snowfall  avg_wind_speed  avg_vapor_pressure  avg_local_pressure  \\\n",
       "0             NaN             2.6                 4.5              1022.4   \n",
       "1             NaN             1.9                 5.2              1018.6   \n",
       "2             NaN             1.4                 7.0              1013.2   \n",
       "3             NaN             1.6                 6.8              1010.4   \n",
       "4             NaN             1.8                 6.5              1013.1   \n",
       "\n",
       "   avg_humidity  avg_sea_pressure  cloud_cover  \n",
       "0          45.0            1025.4          2.5  \n",
       "1          51.0            1021.5          4.3  \n",
       "2          61.0            1016.2          5.3  \n",
       "3          60.0            1013.3          0.0  \n",
       "4          51.0            1016.0          2.8  "
      ]
     },
     "execution_count": 27,
     "metadata": {},
     "output_type": "execute_result"
    }
   ],
   "source": [
    "# This is an example of the used weather file\n",
    "pd.read_csv(path2weather + '1-1-16_5-31-17_Weather/tokyo__tokyo-kana__tonokyo.csv').head()"
   ]
  },
  {
   "cell_type": "code",
   "execution_count": 28,
   "metadata": {
    "hidden": true
   },
   "outputs": [],
   "source": [
    "def add_weather(dataset, path2weather='raw/weather/'):                                                                                                                     \n",
    "    print('Adding weather...')                                                                                                                \n",
    "    air_nearest = pd.read_csv(                                                                                                                \n",
    "        path2weather + 'air_store_info_with_nearest_active_station.csv')                                                              \n",
    "    unique_air_store_ids = dataset.air_store_id.unique().tolist()                                                                                \n",
    "                                                                                                                                              \n",
    "    weather_dir = path2weather + '1-1-16_5-31-17_Weather/'                                                                            \n",
    "    weather_keep_columns = ['precipitation', 'avg_temperature']                                                                                                                         \n",
    "                                                                                                                                              \n",
    "    dataset_with_weather = dataset.copy()                                                                                                     \n",
    "    for column in weather_keep_columns:                                                                                                       \n",
    "        dataset_with_weather[column] = np.nan\n",
    "        \n",
    "    for air_id in unique_air_store_ids:                                                                                                       \n",
    "        station = air_nearest[air_nearest.air_store_id == air_id].station_id.iloc[0]  \n",
    "        weather_data = pd.read_csv(weather_dir + station + '.csv', parse_dates=['calendar_date']).rename(columns={'calendar_date': 'visit_date'})                                                                                                                                               \n",
    "        \n",
    "        #change datetime format\n",
    "        weather_data['visit_date'] = weather_data['visit_date'].dt.strftime('%Y-%m-%d')\n",
    "        this_store = dataset.air_store_id == air_id                                                                                           \n",
    "        merged = dataset[this_store].merge(weather_data, on='visit_date', how='left')                                                         \n",
    "        for column in weather_keep_columns:                                                                                                   \n",
    "            dataset_with_weather.loc[this_store, column] = merged[column]           \n",
    "    \n",
    "    return dataset_with_weather    "
   ]
  },
  {
   "cell_type": "code",
   "execution_count": 29,
   "metadata": {
    "hidden": true,
    "scrolled": true
   },
   "outputs": [],
   "source": [
    "air_store_info_with_active_station = pd.read_csv(path2weather + 'air_store_info_with_nearest_active_station.csv')"
   ]
  },
  {
   "cell_type": "code",
   "execution_count": 30,
   "metadata": {
    "hidden": true
   },
   "outputs": [
    {
     "data": {
      "text/html": [
       "<div>\n",
       "<style scoped>\n",
       "    .dataframe tbody tr th:only-of-type {\n",
       "        vertical-align: middle;\n",
       "    }\n",
       "\n",
       "    .dataframe tbody tr th {\n",
       "        vertical-align: top;\n",
       "    }\n",
       "\n",
       "    .dataframe thead th {\n",
       "        text-align: right;\n",
       "    }\n",
       "</style>\n",
       "<table border=\"1\" class=\"dataframe\">\n",
       "  <thead>\n",
       "    <tr style=\"text-align: right;\">\n",
       "      <th></th>\n",
       "      <th>air_store_id</th>\n",
       "      <th>air_genre_name</th>\n",
       "      <th>air_area_name</th>\n",
       "      <th>latitude</th>\n",
       "      <th>longitude</th>\n",
       "      <th>latitude_str</th>\n",
       "      <th>longitude_str</th>\n",
       "      <th>station_id</th>\n",
       "      <th>station_latitude</th>\n",
       "      <th>station_longitude</th>\n",
       "      <th>station_vincenty</th>\n",
       "      <th>station_great_circle</th>\n",
       "    </tr>\n",
       "  </thead>\n",
       "  <tbody>\n",
       "    <tr>\n",
       "      <th>0</th>\n",
       "      <td>air_0f0cdeee6c9bf3d7</td>\n",
       "      <td>Italian/French</td>\n",
       "      <td>Hyōgo-ken Kōbe-shi Kumoidōri</td>\n",
       "      <td>34.695124</td>\n",
       "      <td>135.197852</td>\n",
       "      <td>\"34.6951242\"</td>\n",
       "      <td>\"135.1978525\"</td>\n",
       "      <td>hyogo__kobe-kana__koube</td>\n",
       "      <td>34.696667</td>\n",
       "      <td>135.211667</td>\n",
       "      <td>1.277232</td>\n",
       "      <td>1.274882</td>\n",
       "    </tr>\n",
       "    <tr>\n",
       "      <th>1</th>\n",
       "      <td>air_7cc17a324ae5c7dc</td>\n",
       "      <td>Italian/French</td>\n",
       "      <td>Hyōgo-ken Kōbe-shi Kumoidōri</td>\n",
       "      <td>34.695124</td>\n",
       "      <td>135.197852</td>\n",
       "      <td>\"34.6951242\"</td>\n",
       "      <td>\"135.1978525\"</td>\n",
       "      <td>hyogo__kobe-kana__koube</td>\n",
       "      <td>34.696667</td>\n",
       "      <td>135.211667</td>\n",
       "      <td>1.277232</td>\n",
       "      <td>1.274882</td>\n",
       "    </tr>\n",
       "    <tr>\n",
       "      <th>2</th>\n",
       "      <td>air_fee8dcf4d619598e</td>\n",
       "      <td>Italian/French</td>\n",
       "      <td>Hyōgo-ken Kōbe-shi Kumoidōri</td>\n",
       "      <td>34.695124</td>\n",
       "      <td>135.197852</td>\n",
       "      <td>\"34.6951242\"</td>\n",
       "      <td>\"135.1978525\"</td>\n",
       "      <td>hyogo__kobe-kana__koube</td>\n",
       "      <td>34.696667</td>\n",
       "      <td>135.211667</td>\n",
       "      <td>1.277232</td>\n",
       "      <td>1.274882</td>\n",
       "    </tr>\n",
       "    <tr>\n",
       "      <th>3</th>\n",
       "      <td>air_a17f0778617c76e2</td>\n",
       "      <td>Italian/French</td>\n",
       "      <td>Hyōgo-ken Kōbe-shi Kumoidōri</td>\n",
       "      <td>34.695124</td>\n",
       "      <td>135.197852</td>\n",
       "      <td>\"34.6951242\"</td>\n",
       "      <td>\"135.1978525\"</td>\n",
       "      <td>hyogo__kobe-kana__koube</td>\n",
       "      <td>34.696667</td>\n",
       "      <td>135.211667</td>\n",
       "      <td>1.277232</td>\n",
       "      <td>1.274882</td>\n",
       "    </tr>\n",
       "    <tr>\n",
       "      <th>4</th>\n",
       "      <td>air_83db5aff8f50478e</td>\n",
       "      <td>Italian/French</td>\n",
       "      <td>Tōkyō-to Minato-ku Shibakōen</td>\n",
       "      <td>35.658068</td>\n",
       "      <td>139.751599</td>\n",
       "      <td>\"35.6580681\"</td>\n",
       "      <td>\"139.7515992\"</td>\n",
       "      <td>tokyo__tokyo-kana__tonokyo</td>\n",
       "      <td>35.691667</td>\n",
       "      <td>139.750000</td>\n",
       "      <td>3.730672</td>\n",
       "      <td>3.739835</td>\n",
       "    </tr>\n",
       "  </tbody>\n",
       "</table>\n",
       "</div>"
      ],
      "text/plain": [
       "           air_store_id  air_genre_name                 air_area_name  \\\n",
       "0  air_0f0cdeee6c9bf3d7  Italian/French  Hyōgo-ken Kōbe-shi Kumoidōri   \n",
       "1  air_7cc17a324ae5c7dc  Italian/French  Hyōgo-ken Kōbe-shi Kumoidōri   \n",
       "2  air_fee8dcf4d619598e  Italian/French  Hyōgo-ken Kōbe-shi Kumoidōri   \n",
       "3  air_a17f0778617c76e2  Italian/French  Hyōgo-ken Kōbe-shi Kumoidōri   \n",
       "4  air_83db5aff8f50478e  Italian/French  Tōkyō-to Minato-ku Shibakōen   \n",
       "\n",
       "    latitude   longitude  latitude_str  longitude_str  \\\n",
       "0  34.695124  135.197852  \"34.6951242\"  \"135.1978525\"   \n",
       "1  34.695124  135.197852  \"34.6951242\"  \"135.1978525\"   \n",
       "2  34.695124  135.197852  \"34.6951242\"  \"135.1978525\"   \n",
       "3  34.695124  135.197852  \"34.6951242\"  \"135.1978525\"   \n",
       "4  35.658068  139.751599  \"35.6580681\"  \"139.7515992\"   \n",
       "\n",
       "                   station_id  station_latitude  station_longitude  \\\n",
       "0     hyogo__kobe-kana__koube         34.696667         135.211667   \n",
       "1     hyogo__kobe-kana__koube         34.696667         135.211667   \n",
       "2     hyogo__kobe-kana__koube         34.696667         135.211667   \n",
       "3     hyogo__kobe-kana__koube         34.696667         135.211667   \n",
       "4  tokyo__tokyo-kana__tonokyo         35.691667         139.750000   \n",
       "\n",
       "   station_vincenty  station_great_circle  \n",
       "0          1.277232              1.274882  \n",
       "1          1.277232              1.274882  \n",
       "2          1.277232              1.274882  \n",
       "3          1.277232              1.274882  \n",
       "4          3.730672              3.739835  "
      ]
     },
     "execution_count": 30,
     "metadata": {},
     "output_type": "execute_result"
    }
   ],
   "source": [
    "air_store_info_with_active_station.head()"
   ]
  },
  {
   "cell_type": "code",
   "execution_count": 31,
   "metadata": {
    "hidden": true
   },
   "outputs": [],
   "source": [
    "data = pd.merge(left=data, right=air_store_info_with_active_station, on='air_store_id', how='left', suffixes=('', '_y'))"
   ]
  },
  {
   "cell_type": "code",
   "execution_count": 32,
   "metadata": {
    "hidden": true
   },
   "outputs": [
    {
     "name": "stdout",
     "output_type": "stream",
     "text": [
      "Adding weather...\n"
     ]
    }
   ],
   "source": [
    "data = add_weather(data)"
   ]
  },
  {
   "cell_type": "code",
   "execution_count": 33,
   "metadata": {
    "hidden": true
   },
   "outputs": [
    {
     "data": {
      "text/plain": [
       "2162351"
      ]
     },
     "execution_count": 33,
     "metadata": {},
     "output_type": "execute_result"
    }
   ],
   "source": [
    "data.isnull().sum().sum()"
   ]
  },
  {
   "cell_type": "code",
   "execution_count": 34,
   "metadata": {
    "hidden": true
   },
   "outputs": [
    {
     "name": "stdout",
     "output_type": "stream",
     "text": [
      "Percentage of NaN's in precipitation column: 99.92820112132955\n",
      "Percentage of NaN's in avg_temperature column: 99.8623854825483\n"
     ]
    }
   ],
   "source": [
    "print(f\"Percentage of NaN's in precipitation column: {(data[data['precipitation'].isnull()].shape[0]/data.shape[0])*100}\")\n",
    "print(f\"Percentage of NaN's in avg_temperature column: {(data[data['avg_temperature'].isnull()].shape[0]/data.shape[0])*100}\")"
   ]
  },
  {
   "cell_type": "markdown",
   "metadata": {
    "hidden": true
   },
   "source": [
    "I will try to complete this analysis over this week."
   ]
  },
  {
   "cell_type": "code",
   "execution_count": 35,
   "metadata": {
    "hidden": true
   },
   "outputs": [],
   "source": [
    "# Handle missing data\n",
    "# We could replace this block by the avg_temperature and precipitation of stations which are closer\n",
    "\n",
    "data['precipitation'].fillna(data.precipitation.mean(), inplace=True)\n",
    "data['avg_temperature'].fillna(data.avg_temperature.mean(), inplace=True)"
   ]
  },
  {
   "cell_type": "code",
   "execution_count": 36,
   "metadata": {
    "hidden": true
   },
   "outputs": [],
   "source": [
    "def drop_y(df):\n",
    "    # list comprehension of the cols that end with '_y'\n",
    "    to_drop = [x for x in df if x.endswith('_y')]\n",
    "    df.drop(to_drop, axis=1, inplace=True)\n",
    "    return df"
   ]
  },
  {
   "cell_type": "code",
   "execution_count": 37,
   "metadata": {
    "hidden": true
   },
   "outputs": [],
   "source": [
    "data = drop_y(data)"
   ]
  },
  {
   "cell_type": "markdown",
   "metadata": {
    "heading_collapsed": true
   },
   "source": [
    "### Extract informations about the spatial location of the restaurant\n",
    "    - Todofuken\n",
    "    - city\n",
    "    - street"
   ]
  },
  {
   "cell_type": "code",
   "execution_count": 38,
   "metadata": {
    "hidden": true,
    "scrolled": true
   },
   "outputs": [],
   "source": [
    "area  = data.air_area_name.str.split(' ', expand=True)\n",
    "\n",
    "data['Todofuken'] = area[0]\n",
    "data['city'] = area[1]\n",
    "data['street'] = area.iloc[:, 2:].apply(lambda row: ' '.join(row.dropna()), axis=1)"
   ]
  },
  {
   "cell_type": "code",
   "execution_count": 39,
   "metadata": {
    "hidden": true
   },
   "outputs": [
    {
     "data": {
      "image/png": "[encoded data removed]",
      "text/plain": [
       "<matplotlib.figure.Figure at 0x1a266f7128>"
      ]
     },
     "metadata": {},
     "output_type": "display_data"
    }
   ],
   "source": [
    "fig = plt.figure(figsize=(20,10))\n",
    "\n",
    "plt.subplot(1,2,1)\n",
    "data.groupby(['Todofuken']).size().plot(kind = 'barh')\n",
    "plt.title('Number of restaurant in each Todofuken', fontsize=15)\n",
    "\n",
    "plt.subplot(1,2,2)\n",
    "data.groupby(['city']).size().plot(kind = 'barh')\n",
    "plt.title('Number of restaurant in each city', fontsize=15)\n",
    "          \n",
    "fig.savefig(path2figures + 'stores_distribution.png')"
   ]
  },
  {
   "cell_type": "markdown",
   "metadata": {},
   "source": [
    "### Obtain informations about reservations"
   ]
  },
  {
   "cell_type": "code",
   "execution_count": 40,
   "metadata": {},
   "outputs": [],
   "source": [
    "#air_reserve['visit_datetime'] = air_reserve.visit_datetime.astype('datetime64[ns]')\n",
    "#air_reserve['reserve_ahead'] = air_reserve.visit_datetime.astype('datetime64[ns]') - air_reserve.reserve_datetime.astype('datetime64[ns]')\n",
    "#air_reserve['reserve_ahead_seconds'] = air_reserve['reserve_ahead'].apply(lambda x: x.seconds)"
   ]
  },
  {
   "cell_type": "markdown",
   "metadata": {},
   "source": [
    "Solution propsed using pandas.to_datetime objects."
   ]
  },
  {
   "cell_type": "code",
   "execution_count": 41,
   "metadata": {},
   "outputs": [],
   "source": [
    "air_reserve['visit_datetime'] = pd.to_datetime(air_reserve.visit_datetime)\n",
    "air_reserve['reserve_datetime'] = pd.to_datetime(air_reserve.reserve_datetime)"
   ]
  },
  {
   "cell_type": "code",
   "execution_count": 42,
   "metadata": {},
   "outputs": [
    {
     "data": {
      "text/html": [
       "<div>\n",
       "<style scoped>\n",
       "    .dataframe tbody tr th:only-of-type {\n",
       "        vertical-align: middle;\n",
       "    }\n",
       "\n",
       "    .dataframe tbody tr th {\n",
       "        vertical-align: top;\n",
       "    }\n",
       "\n",
       "    .dataframe thead th {\n",
       "        text-align: right;\n",
       "    }\n",
       "</style>\n",
       "<table border=\"1\" class=\"dataframe\">\n",
       "  <thead>\n",
       "    <tr style=\"text-align: right;\">\n",
       "      <th></th>\n",
       "      <th>reserve_datetime</th>\n",
       "      <th>visit_datetime</th>\n",
       "    </tr>\n",
       "  </thead>\n",
       "  <tbody>\n",
       "    <tr>\n",
       "      <th>count</th>\n",
       "      <td>92378</td>\n",
       "      <td>92378</td>\n",
       "    </tr>\n",
       "    <tr>\n",
       "      <th>unique</th>\n",
       "      <td>7513</td>\n",
       "      <td>4975</td>\n",
       "    </tr>\n",
       "    <tr>\n",
       "      <th>top</th>\n",
       "      <td>2016-11-24 18:00:00</td>\n",
       "      <td>2016-12-24 19:00:00</td>\n",
       "    </tr>\n",
       "    <tr>\n",
       "      <th>freq</th>\n",
       "      <td>106</td>\n",
       "      <td>255</td>\n",
       "    </tr>\n",
       "    <tr>\n",
       "      <th>first</th>\n",
       "      <td>2016-01-01 01:00:00</td>\n",
       "      <td>2016-01-01 19:00:00</td>\n",
       "    </tr>\n",
       "    <tr>\n",
       "      <th>last</th>\n",
       "      <td>2017-04-22 23:00:00</td>\n",
       "      <td>2017-05-31 21:00:00</td>\n",
       "    </tr>\n",
       "  </tbody>\n",
       "</table>\n",
       "</div>"
      ],
      "text/plain": [
       "           reserve_datetime       visit_datetime\n",
       "count                 92378                92378\n",
       "unique                 7513                 4975\n",
       "top     2016-11-24 18:00:00  2016-12-24 19:00:00\n",
       "freq                    106                  255\n",
       "first   2016-01-01 01:00:00  2016-01-01 19:00:00\n",
       "last    2017-04-22 23:00:00  2017-05-31 21:00:00"
      ]
     },
     "execution_count": 42,
     "metadata": {},
     "output_type": "execute_result"
    }
   ],
   "source": [
    "air_reserve[['reserve_datetime','visit_datetime']].describe()"
   ]
  },
  {
   "cell_type": "code",
   "execution_count": 44,
   "metadata": {},
   "outputs": [],
   "source": [
    "air_reserve['reserve_ahead'] =  air_reserve['visit_datetime']- air_reserve['reserve_datetime']\n",
    "air_reserve['reserve_ahead_seconds'] = air_reserve['reserve_ahead'].dt.total_seconds()"
   ]
  },
  {
   "cell_type": "code",
   "execution_count": 45,
   "metadata": {},
   "outputs": [
    {
     "data": {
      "text/plain": [
       "(Timedelta('0 days 03:00:00'), 10800.0)"
      ]
     },
     "execution_count": 45,
     "metadata": {},
     "output_type": "execute_result"
    }
   ],
   "source": [
    "air_reserve.loc[0,'reserve_ahead'],air_reserve.loc[0,'reserve_ahead_seconds']"
   ]
  },
  {
   "cell_type": "code",
   "execution_count": 47,
   "metadata": {},
   "outputs": [
    {
     "data": {
      "text/html": [
       "<div>\n",
       "<style scoped>\n",
       "    .dataframe tbody tr th:only-of-type {\n",
       "        vertical-align: middle;\n",
       "    }\n",
       "\n",
       "    .dataframe tbody tr th {\n",
       "        vertical-align: top;\n",
       "    }\n",
       "\n",
       "    .dataframe thead th {\n",
       "        text-align: right;\n",
       "    }\n",
       "</style>\n",
       "<table border=\"1\" class=\"dataframe\">\n",
       "  <thead>\n",
       "    <tr style=\"text-align: right;\">\n",
       "      <th></th>\n",
       "      <th>air_store_id</th>\n",
       "      <th>visit_datetime</th>\n",
       "      <th>reserve_datetime</th>\n",
       "      <th>reserve_visitors</th>\n",
       "      <th>reserve_ahead</th>\n",
       "      <th>reserve_ahead_seconds</th>\n",
       "    </tr>\n",
       "  </thead>\n",
       "  <tbody>\n",
       "    <tr>\n",
       "      <th>0</th>\n",
       "      <td>air_877f79706adbfb06</td>\n",
       "      <td>2016-01-01 19:00:00</td>\n",
       "      <td>2016-01-01 16:00:00</td>\n",
       "      <td>1</td>\n",
       "      <td>03:00:00</td>\n",
       "      <td>10800.0</td>\n",
       "    </tr>\n",
       "    <tr>\n",
       "      <th>1</th>\n",
       "      <td>air_db4b38ebe7a7ceff</td>\n",
       "      <td>2016-01-01 19:00:00</td>\n",
       "      <td>2016-01-01 19:00:00</td>\n",
       "      <td>3</td>\n",
       "      <td>00:00:00</td>\n",
       "      <td>0.0</td>\n",
       "    </tr>\n",
       "    <tr>\n",
       "      <th>2</th>\n",
       "      <td>air_db4b38ebe7a7ceff</td>\n",
       "      <td>2016-01-01 19:00:00</td>\n",
       "      <td>2016-01-01 19:00:00</td>\n",
       "      <td>6</td>\n",
       "      <td>00:00:00</td>\n",
       "      <td>0.0</td>\n",
       "    </tr>\n",
       "    <tr>\n",
       "      <th>3</th>\n",
       "      <td>air_877f79706adbfb06</td>\n",
       "      <td>2016-01-01 20:00:00</td>\n",
       "      <td>2016-01-01 16:00:00</td>\n",
       "      <td>2</td>\n",
       "      <td>04:00:00</td>\n",
       "      <td>14400.0</td>\n",
       "    </tr>\n",
       "    <tr>\n",
       "      <th>4</th>\n",
       "      <td>air_db80363d35f10926</td>\n",
       "      <td>2016-01-01 20:00:00</td>\n",
       "      <td>2016-01-01 01:00:00</td>\n",
       "      <td>5</td>\n",
       "      <td>19:00:00</td>\n",
       "      <td>68400.0</td>\n",
       "    </tr>\n",
       "  </tbody>\n",
       "</table>\n",
       "</div>"
      ],
      "text/plain": [
       "           air_store_id      visit_datetime    reserve_datetime  \\\n",
       "0  air_877f79706adbfb06 2016-01-01 19:00:00 2016-01-01 16:00:00   \n",
       "1  air_db4b38ebe7a7ceff 2016-01-01 19:00:00 2016-01-01 19:00:00   \n",
       "2  air_db4b38ebe7a7ceff 2016-01-01 19:00:00 2016-01-01 19:00:00   \n",
       "3  air_877f79706adbfb06 2016-01-01 20:00:00 2016-01-01 16:00:00   \n",
       "4  air_db80363d35f10926 2016-01-01 20:00:00 2016-01-01 01:00:00   \n",
       "\n",
       "   reserve_visitors reserve_ahead  reserve_ahead_seconds  \n",
       "0                 1      03:00:00                10800.0  \n",
       "1                 3      00:00:00                    0.0  \n",
       "2                 6      00:00:00                    0.0  \n",
       "3                 2      04:00:00                14400.0  \n",
       "4                 5      19:00:00                68400.0  "
      ]
     },
     "execution_count": 47,
     "metadata": {},
     "output_type": "execute_result"
    }
   ],
   "source": [
    "air_reserve.head()"
   ]
  },
  {
   "cell_type": "code",
   "execution_count": 52,
   "metadata": {},
   "outputs": [
    {
     "data": {
      "text/plain": [
       "((92378, 6), (284127, 28))"
      ]
     },
     "execution_count": 52,
     "metadata": {},
     "output_type": "execute_result"
    }
   ],
   "source": [
    "#This difference will cause a lot of NaN values on the features created\n",
    "air_reserve.shape,data.shape"
   ]
  },
  {
   "cell_type": "code",
   "execution_count": 53,
   "metadata": {},
   "outputs": [],
   "source": [
    "data['visit_date']= pd.to_datetime(data['visit_date'])\n",
    "\n",
    "data  =  pd.merge(left=data,  right=air_reserve, how='left', \n",
    "                left_on=['visit_date','air_store_id'], \n",
    "                right_on=['visit_datetime','air_store_id'])"
   ]
  },
  {
   "cell_type": "code",
   "execution_count": 54,
   "metadata": {},
   "outputs": [
    {
     "data": {
      "text/plain": [
       "((92378, 6), (284224, 33))"
      ]
     },
     "execution_count": 54,
     "metadata": {},
     "output_type": "execute_result"
    }
   ],
   "source": [
    "air_reserve.shape,data.shape"
   ]
  },
  {
   "cell_type": "code",
   "execution_count": 55,
   "metadata": {},
   "outputs": [
    {
     "data": {
      "image/png": "[encoded data removed]",
      "text/plain": [
       "<matplotlib.figure.Figure at 0x110f7ea20>"
      ]
     },
     "metadata": {},
     "output_type": "display_data"
    }
   ],
   "source": [
    "fig = plt.figure(figsize=(15,13))\n",
    "plt.subplot(2,2,1)\n",
    "plt.title('Visitors distribution by day of week', fontsize=15)\n",
    "data.groupby('day_of_week')['visitors'].count().plot(kind = 'barh')\n",
    "\n",
    "plt.subplot(2,2,2)\n",
    "plt.title('Visitors distribution by month', fontsize=15)\n",
    "data['visit_month']= data['visit_date'].dt.month\n",
    "data.groupby('visit_month')['visitors'].count().plot(kind = 'barh')\n",
    "\n",
    "plt.subplot(2,2,(3,4))\n",
    "plt.title('Number of holidays', fontsize=15)\n",
    "data.groupby('holiday_flg').size().plot(kind = 'bar')\n",
    "\n",
    "fig.savefig(path2figures + 'visitor_distribution_period.png')"
   ]
  },
  {
   "cell_type": "code",
   "execution_count": 57,
   "metadata": {},
   "outputs": [
    {
     "name": "stdout",
     "output_type": "stream",
     "text": [
      "Dataset shape: (284224, 34)\n"
     ]
    }
   ],
   "source": [
    "print('Dataset shape: {}'.format(data.shape))"
   ]
  },
  {
   "cell_type": "code",
   "execution_count": 58,
   "metadata": {},
   "outputs": [
    {
     "data": {
      "text/html": [
       "<div>\n",
       "<style scoped>\n",
       "    .dataframe tbody tr th:only-of-type {\n",
       "        vertical-align: middle;\n",
       "    }\n",
       "\n",
       "    .dataframe tbody tr th {\n",
       "        vertical-align: top;\n",
       "    }\n",
       "\n",
       "    .dataframe thead th {\n",
       "        text-align: right;\n",
       "    }\n",
       "</style>\n",
       "<table border=\"1\" class=\"dataframe\">\n",
       "  <thead>\n",
       "    <tr style=\"text-align: right;\">\n",
       "      <th></th>\n",
       "      <th>air_store_id</th>\n",
       "      <th>test_set</th>\n",
       "      <th>visit_date</th>\n",
       "      <th>visitors</th>\n",
       "      <th>air_genre_name</th>\n",
       "      <th>air_area_name</th>\n",
       "      <th>latitude</th>\n",
       "      <th>longitude</th>\n",
       "      <th>hpg_store_id</th>\n",
       "      <th>hpg_genre_name</th>\n",
       "      <th>...</th>\n",
       "      <th>avg_temperature</th>\n",
       "      <th>Todofuken</th>\n",
       "      <th>city</th>\n",
       "      <th>street</th>\n",
       "      <th>visit_datetime</th>\n",
       "      <th>reserve_datetime</th>\n",
       "      <th>reserve_visitors</th>\n",
       "      <th>reserve_ahead</th>\n",
       "      <th>reserve_ahead_seconds</th>\n",
       "      <th>visit_month</th>\n",
       "    </tr>\n",
       "  </thead>\n",
       "  <tbody>\n",
       "    <tr>\n",
       "      <th>0</th>\n",
       "      <td>air_ba937bf13d40fb24</td>\n",
       "      <td>NaN</td>\n",
       "      <td>2016-01-13</td>\n",
       "      <td>25.0</td>\n",
       "      <td>Dining bar</td>\n",
       "      <td>Tōkyō-to Minato-ku Shibakōen</td>\n",
       "      <td>35.658068</td>\n",
       "      <td>139.751599</td>\n",
       "      <td>NaN</td>\n",
       "      <td>NaN</td>\n",
       "      <td>...</td>\n",
       "      <td>4.3</td>\n",
       "      <td>Tōkyō-to</td>\n",
       "      <td>Minato-ku</td>\n",
       "      <td>Shibakōen</td>\n",
       "      <td>NaT</td>\n",
       "      <td>NaT</td>\n",
       "      <td>NaN</td>\n",
       "      <td>NaT</td>\n",
       "      <td>NaN</td>\n",
       "      <td>1</td>\n",
       "    </tr>\n",
       "    <tr>\n",
       "      <th>1</th>\n",
       "      <td>air_ba937bf13d40fb24</td>\n",
       "      <td>NaN</td>\n",
       "      <td>2016-01-14</td>\n",
       "      <td>32.0</td>\n",
       "      <td>Dining bar</td>\n",
       "      <td>Tōkyō-to Minato-ku Shibakōen</td>\n",
       "      <td>35.658068</td>\n",
       "      <td>139.751599</td>\n",
       "      <td>NaN</td>\n",
       "      <td>NaN</td>\n",
       "      <td>...</td>\n",
       "      <td>6.0</td>\n",
       "      <td>Tōkyō-to</td>\n",
       "      <td>Minato-ku</td>\n",
       "      <td>Shibakōen</td>\n",
       "      <td>NaT</td>\n",
       "      <td>NaT</td>\n",
       "      <td>NaN</td>\n",
       "      <td>NaT</td>\n",
       "      <td>NaN</td>\n",
       "      <td>1</td>\n",
       "    </tr>\n",
       "  </tbody>\n",
       "</table>\n",
       "<p>2 rows × 34 columns</p>\n",
       "</div>"
      ],
      "text/plain": [
       "           air_store_id test_set visit_date  visitors air_genre_name  \\\n",
       "0  air_ba937bf13d40fb24      NaN 2016-01-13      25.0     Dining bar   \n",
       "1  air_ba937bf13d40fb24      NaN 2016-01-14      32.0     Dining bar   \n",
       "\n",
       "                  air_area_name   latitude   longitude hpg_store_id  \\\n",
       "0  Tōkyō-to Minato-ku Shibakōen  35.658068  139.751599          NaN   \n",
       "1  Tōkyō-to Minato-ku Shibakōen  35.658068  139.751599          NaN   \n",
       "\n",
       "  hpg_genre_name     ...      avg_temperature Todofuken       city     street  \\\n",
       "0            NaN     ...                  4.3  Tōkyō-to  Minato-ku  Shibakōen   \n",
       "1            NaN     ...                  6.0  Tōkyō-to  Minato-ku  Shibakōen   \n",
       "\n",
       "   visit_datetime  reserve_datetime reserve_visitors reserve_ahead  \\\n",
       "0             NaT               NaT              NaN           NaT   \n",
       "1             NaT               NaT              NaN           NaT   \n",
       "\n",
       "  reserve_ahead_seconds  visit_month  \n",
       "0                   NaN            1  \n",
       "1                   NaN            1  \n",
       "\n",
       "[2 rows x 34 columns]"
      ]
     },
     "execution_count": 58,
     "metadata": {},
     "output_type": "execute_result"
    }
   ],
   "source": [
    "data.head(2)"
   ]
  },
  {
   "cell_type": "code",
   "execution_count": 59,
   "metadata": {},
   "outputs": [],
   "source": [
    "# Set of cols which are redundat in the dataset, since they were used to obtain other features\n",
    "redundant_col = ['air_area_name', 'hpg_area_name', 'calendar_date', \n",
    "            'latitude_str', 'longitude_str', 'station_latitude', 'station_longitude',\n",
    "           'station_vincenty', 'station_great_circle',\n",
    "           'reserve_datetime', 'reserve_ahead', 'air_store_id', 'hpg_store_id', 'station_id']\n",
    "\n",
    "# Set of cols discarded in the analysis\n",
    "drop_col = ['street', 'hpg_genre_name', 'visitors', 'visit_datetime','visit_month']"
   ]
  },
  {
   "cell_type": "code",
   "execution_count": 60,
   "metadata": {},
   "outputs": [],
   "source": [
    "data.drop(redundant_col, axis='columns',inplace=True)\n",
    "data.drop(drop_col, axis='columns',inplace=True)"
   ]
  },
  {
   "cell_type": "code",
   "execution_count": 61,
   "metadata": {},
   "outputs": [
    {
     "name": "stdout",
     "output_type": "stream",
     "text": [
      "Features shape: (284224, 15)\n"
     ]
    }
   ],
   "source": [
    "print('Features shape: {}'.format(data.shape))"
   ]
  },
  {
   "cell_type": "markdown",
   "metadata": {},
   "source": [
    "# Adding date appart features"
   ]
  },
  {
   "cell_type": "code",
   "execution_count": 62,
   "metadata": {},
   "outputs": [
    {
     "name": "stderr",
     "output_type": "stream",
     "text": [
      "Using TensorFlow backend.\n"
     ]
    }
   ],
   "source": [
    "from regression_utils import add_datepart\n",
    "\n",
    "add_datepart(data,'visit_date',drop=False)"
   ]
  },
  {
   "cell_type": "code",
   "execution_count": 63,
   "metadata": {},
   "outputs": [
    {
     "name": "stdout",
     "output_type": "stream",
     "text": [
      "Features shape: (284224, 27)\n"
     ]
    }
   ],
   "source": [
    "data.drop('day_of_week',axis=1,inplace=True)\n",
    "print('Features shape: {}'.format(data.shape))"
   ]
  },
  {
   "cell_type": "markdown",
   "metadata": {},
   "source": [
    "## Data attributes description"
   ]
  },
  {
   "cell_type": "code",
   "execution_count": 64,
   "metadata": {
    "scrolled": true
   },
   "outputs": [
    {
     "name": "stdout",
     "output_type": "stream",
     "text": [
      "Atributs of the data: ['test_set' 'visit_date' 'air_genre_name' 'latitude' 'longitude'\n",
      " 'holiday_flg' 'weight' 'visitors_log' 'precipitation' 'avg_temperature'\n",
      " 'Todofuken' 'city' 'reserve_visitors' 'reserve_ahead_seconds' 'visit_Year'\n",
      " 'visit_Month' 'visit_Week' 'visit_Day' 'visit_Dayofweek' 'visit_Dayofyear'\n",
      " 'visit_Is_month_end' 'visit_Is_month_start' 'visit_Is_quarter_end'\n",
      " 'visit_Is_quarter_start' 'visit_Is_year_end' 'visit_Is_year_start'\n",
      " 'visit_Elapsed']\n"
     ]
    }
   ],
   "source": [
    "print('Atributs of the data: {}'.format(data.keys().values))"
   ]
  },
  {
   "cell_type": "markdown",
   "metadata": {},
   "source": [
    "**Target**:\n",
    "- visitors_log;\n",
    "\n",
    "**Inputs**\n",
    "- test_set;\n",
    "- air_genre_name;\n",
    "- latitude;\n",
    "- longitude;\n",
    "- hpg_genre_name;\n",
    "- holiday_flg;\n",
    "- weight;\n",
    "- station_id;\n",
    "- precipitation;\n",
    "- avg_temperature;\n",
    "- Todofuken;\n",
    "- city;\n",
    "- reserve_visitors;\n",
    "- reserve_ahead_seconds;\n",
    "- Related to the visit date: \n",
    "    - visit_Year;\n",
    "    - visit_Month;\n",
    "    - visit_Week;\n",
    "    - visit_Day;\n",
    "    - visit_Dayofweek;\n",
    "    - visit_Dayofyear;\n",
    "    - visit_Is_month_end;\n",
    "    - visit_Is_month_start;\n",
    "    - visit_Is_quarter_end;\n",
    "    - visit_Is_quarter_start;\n",
    "    - visit_Is_year_end;\n",
    "    - visit_Is_year_start;\n",
    "    - visit_Elapsed;\n",
    "\n"
   ]
  },
  {
   "cell_type": "markdown",
   "metadata": {},
   "source": [
    "## LabelEncoder encondig"
   ]
  },
  {
   "cell_type": "markdown",
   "metadata": {},
   "source": [
    "Encode categorical features: **Todofuken**, **city**, **street**, **air_genre_name**, **hpg_genre_name**."
   ]
  },
  {
   "cell_type": "code",
   "execution_count": 65,
   "metadata": {},
   "outputs": [],
   "source": [
    "from sklearn.preprocessing import LabelEncoder\n",
    "\n",
    "dummies_col = ['Todofuken', 'city', 'air_genre_name']\n",
    "\n",
    "for column in dummies_col:\n",
    "    le = LabelEncoder()\n",
    "    data[column] = le.fit_transform(data[column]).tolist()"
   ]
  },
  {
   "cell_type": "code",
   "execution_count": 66,
   "metadata": {},
   "outputs": [
    {
     "name": "stdout",
     "output_type": "stream",
     "text": [
      "Features shape: (284224, 27)\n"
     ]
    }
   ],
   "source": [
    "print('Features shape: {}'.format(data.shape))"
   ]
  },
  {
   "cell_type": "markdown",
   "metadata": {},
   "source": [
    "## Split data in train, valid and test set"
   ]
  },
  {
   "cell_type": "code",
   "execution_count": 67,
   "metadata": {},
   "outputs": [],
   "source": [
    "# sort all data (train and test set)\n",
    "data.sort_values(by='visit_date',inplace=True)\n",
    "data.drop('visit_date', axis='columns',inplace=True)"
   ]
  },
  {
   "cell_type": "code",
   "execution_count": 68,
   "metadata": {},
   "outputs": [],
   "source": [
    "val_size = 0.2\n",
    "train_aux = data[data['test_set'].isnull()]\n",
    "train_aux = train_aux.drop(['test_set'], axis='columns') "
   ]
  },
  {
   "cell_type": "code",
   "execution_count": 69,
   "metadata": {},
   "outputs": [],
   "source": [
    "def split_by_factor(data, val_size=0.2):\n",
    "    # adapted forom split_by_date function from regression_utils file \n",
    "    # main diference is that te sort_values must be performed in the whole dataset(train+test)\n",
    "    split= 1 - val_size\n",
    "    tr,val = np.split(data,[int(len(data)*split)])    \n",
    "    return tr,val "
   ]
  },
  {
   "cell_type": "code",
   "execution_count": 70,
   "metadata": {},
   "outputs": [],
   "source": [
    "train, valid = split_by_factor(train_aux)\n",
    "test = data[data['test_set'].notnull()]"
   ]
  },
  {
   "cell_type": "code",
   "execution_count": null,
   "metadata": {},
   "outputs": [],
   "source": [
    "# By using the approach below we don't need to divide in train_x and train_y, this saves us memory :]  \n",
    "\n",
    "\n",
    "#train_x, train_y = train.loc[:, train.columns != 'visitors_log'], train.loc[:, 'visitors_log']\n",
    "#valid_x, valid_y = valid.loc[:, valid.columns != 'visitors_log'], valid.loc[:, 'visitors_log']\n",
    "#test_x  = test.loc[:, test.columns != 'visitors_log']"
   ]
  },
  {
   "cell_type": "code",
   "execution_count": 81,
   "metadata": {},
   "outputs": [],
   "source": [
    "# For now let's drop precipitation and avg_temperature from predictors until we define a better weather feature\n",
    "# Also let's remove for now reserve_ahead_seconds and reserve_visitors (only 270 non-null values)\n",
    "\n",
    "predictors = [x for x in train.columns if x not in ['visitors_log','avg_temperature','precipitation',\n",
    "                                                    'reserve_ahead_seconds','reserve_visitors'] ]\n",
    "target = 'visitors_log'"
   ]
  },
  {
   "cell_type": "markdown",
   "metadata": {},
   "source": [
    "# Features Analysis"
   ]
  },
  {
   "cell_type": "code",
   "execution_count": 82,
   "metadata": {},
   "outputs": [
    {
     "name": "stdout",
     "output_type": "stream",
     "text": [
      "<class 'pandas.core.frame.DataFrame'>\n",
      "Int64Index: 201763 entries, 121681 to 176928\n",
      "Data columns (total 20 columns):\n",
      "air_genre_name            201763 non-null int64\n",
      "latitude                  201763 non-null float64\n",
      "longitude                 201763 non-null float64\n",
      "holiday_flg               201763 non-null int64\n",
      "weight                    201763 non-null float64\n",
      "Todofuken                 201763 non-null int64\n",
      "city                      201763 non-null int64\n",
      "visit_Year                201763 non-null int64\n",
      "visit_Month               201763 non-null int64\n",
      "visit_Week                201763 non-null int64\n",
      "visit_Day                 201763 non-null int64\n",
      "visit_Dayofweek           201763 non-null int64\n",
      "visit_Dayofyear           201763 non-null int64\n",
      "visit_Is_month_end        201763 non-null bool\n",
      "visit_Is_month_start      201763 non-null bool\n",
      "visit_Is_quarter_end      201763 non-null bool\n",
      "visit_Is_quarter_start    201763 non-null bool\n",
      "visit_Is_year_end         201763 non-null bool\n",
      "visit_Is_year_start       201763 non-null bool\n",
      "visit_Elapsed             201763 non-null int64\n",
      "dtypes: bool(6), float64(3), int64(11)\n",
      "memory usage: 29.2 MB\n"
     ]
    }
   ],
   "source": [
    "train[predictors].info()"
   ]
  },
  {
   "cell_type": "code",
   "execution_count": 89,
   "metadata": {},
   "outputs": [],
   "source": [
    "from sklearn.ensemble import RandomForestRegressor\n",
    "\n",
    "reg = RandomForestRegressor(n_estimators=40, min_samples_leaf=10, max_features='auto',\n",
    "                             n_jobs=-1, oob_score=True,random_state=0)"
   ]
  },
  {
   "cell_type": "code",
   "execution_count": 90,
   "metadata": {},
   "outputs": [
    {
     "data": {
      "text/plain": [
       "RandomForestRegressor(bootstrap=True, criterion='mse', max_depth=None,\n",
       "           max_features='auto', max_leaf_nodes=None,\n",
       "           min_impurity_decrease=0.0, min_impurity_split=None,\n",
       "           min_samples_leaf=10, min_samples_split=2,\n",
       "           min_weight_fraction_leaf=0.0, n_estimators=40, n_jobs=-1,\n",
       "           oob_score=True, random_state=0, verbose=0, warm_start=False)"
      ]
     },
     "execution_count": 90,
     "metadata": {},
     "output_type": "execute_result"
    }
   ],
   "source": [
    "reg.fit(train[predictors],train[target])"
   ]
  },
  {
   "cell_type": "code",
   "execution_count": 92,
   "metadata": {},
   "outputs": [
    {
     "name": "stdout",
     "output_type": "stream",
     "text": [
      " Train Score:\n",
      "RMSE: 0.638415, MAE: 0.499274\n",
      "Oob score : 0.212427\n",
      "------------------------------\n",
      " Val Score:\n",
      "RMSE: 0.708803, MAE: 0.562716\n"
     ]
    }
   ],
   "source": [
    "from regression_utils import print_score\n",
    "print_score(reg,train[predictors],train[target],valid[predictors],valid[target])"
   ]
  },
  {
   "cell_type": "code",
   "execution_count": 93,
   "metadata": {},
   "outputs": [
    {
     "data": {
      "image/png": "[encoded data removed]",
      "text/plain": [
       "<matplotlib.figure.Figure at 0x1a4c850828>"
      ]
     },
     "metadata": {},
     "output_type": "display_data"
    }
   ],
   "source": [
    "from regression_utils import rf_feat_importance,plot_fi\n",
    "\n",
    "fi = rf_feat_importance(reg, train[predictors])\n",
    "plot_fi(fi[:40]);"
   ]
  },
  {
   "cell_type": "code",
   "execution_count": 98,
   "metadata": {},
   "outputs": [
    {
     "data": {
      "text/plain": [
       "(12, 20)"
      ]
     },
     "execution_count": 98,
     "metadata": {},
     "output_type": "execute_result"
    }
   ],
   "source": [
    "to_keep = fi[fi.imp>1e-2].cols.tolist(); len(to_keep),len(predictors)"
   ]
  },
  {
   "cell_type": "code",
   "execution_count": 99,
   "metadata": {},
   "outputs": [
    {
     "name": "stdout",
     "output_type": "stream",
     "text": [
      " Train Score:\n",
      "RMSE: 0.638425, MAE: 0.499277\n",
      "Oob score : 0.212427\n",
      "------------------------------\n",
      " Val Score:\n",
      "RMSE: 0.708929, MAE: 0.562853\n"
     ]
    }
   ],
   "source": [
    "reg.fit(train[to_keep],train[target])\n",
    "print_score(reg,train[to_keep],train[target],valid[to_keep],valid[target])"
   ]
  },
  {
   "cell_type": "code",
   "execution_count": 100,
   "metadata": {},
   "outputs": [],
   "source": [
    "# The results of RMSE and Oob score didn't change much droping the 8 features using the threshold of\n",
    "# feature importances, let's try one more time "
   ]
  },
  {
   "cell_type": "code",
   "execution_count": 102,
   "metadata": {},
   "outputs": [],
   "source": [
    "predictors = to_keep.copy()"
   ]
  },
  {
   "cell_type": "code",
   "execution_count": 103,
   "metadata": {},
   "outputs": [
    {
     "data": {
      "image/png": "[encoded data removed]",
      "text/plain": [
       "<matplotlib.figure.Figure at 0x1091b84a8>"
      ]
     },
     "metadata": {},
     "output_type": "display_data"
    }
   ],
   "source": [
    "fi = rf_feat_importance(reg, train[predictors])\n",
    "plot_fi(fi[:40]);"
   ]
  },
  {
   "cell_type": "code",
   "execution_count": 106,
   "metadata": {},
   "outputs": [
    {
     "data": {
      "text/plain": [
       "(10, 12)"
      ]
     },
     "execution_count": 106,
     "metadata": {},
     "output_type": "execute_result"
    }
   ],
   "source": [
    "to_keep = fi[fi.imp>2e-2].cols.tolist(); len(to_keep),len(predictors)"
   ]
  },
  {
   "cell_type": "code",
   "execution_count": 107,
   "metadata": {},
   "outputs": [
    {
     "name": "stdout",
     "output_type": "stream",
     "text": [
      " Train Score:\n",
      "RMSE: 0.639073, MAE: 0.499928\n",
      "Oob score : 0.209959\n",
      "------------------------------\n",
      " Val Score:\n",
      "RMSE: 0.710233, MAE: 0.563740\n"
     ]
    }
   ],
   "source": [
    "reg.fit(train[to_keep],train[target])\n",
    "print_score(reg,train[to_keep],train[target],valid[to_keep],valid[target])"
   ]
  },
  {
   "cell_type": "code",
   "execution_count": 108,
   "metadata": {},
   "outputs": [],
   "source": [
    "# Now we got an improvement so let's keep this 10 features for a while and run the models."
   ]
  },
  {
   "cell_type": "code",
   "execution_count": 114,
   "metadata": {},
   "outputs": [],
   "source": [
    "predictors = to_keep.copy()"
   ]
  },
  {
   "cell_type": "markdown",
   "metadata": {},
   "source": [
    "# Predictive modelling"
   ]
  },
  {
   "cell_type": "markdown",
   "metadata": {},
   "source": [
    "## Decision Trees"
   ]
  },
  {
   "cell_type": "markdown",
   "metadata": {},
   "source": [
    "Since XGBoost already does feature selection using gamma, we could also try using whole set of features \n",
    "and optimize gamma for that"
   ]
  },
  {
   "cell_type": "code",
   "execution_count": 115,
   "metadata": {},
   "outputs": [],
   "source": [
    "from regression_utils import cross_valid\n",
    "import xgboost as xgb\n",
    "\n",
    "def xgbCV(gamma,\n",
    "          min_child_weight,\n",
    "          colsample_bytree,subsample):\n",
    "\n",
    "    reg = xgb.sklearn.XGBRegressor(gamma=max(gamma, 0),\n",
    "                                    max_depth= 10,\n",
    "                                    min_child_weight= int(min_child_weight),\n",
    "                                    subsample = max(min(subsample, 1), 0),\n",
    "                                    colsample_bytree= max(min(colsample_bytree, 1), 0),\n",
    "#                                    reg_lambda= max(reg_lambda, 0), \n",
    "                                    n_estimators=100,\n",
    "                                    n_jobs=7)\n",
    "\n",
    "    score = cross_valid(reg,train[predictors +[target]].values,folds=5,\n",
    "                        metric='rmse',verbose=False)\n",
    "\n",
    "    res = np.mean(score)/(1+np.std(score)) # 1/std -> For reducing the variance between folds \n",
    "    return -res  # Negative because we want to minimize score and BayesianOptimization only maximize scores"
   ]
  },
  {
   "cell_type": "code",
   "execution_count": 116,
   "metadata": {},
   "outputs": [],
   "source": [
    "from bayes_opt import BayesianOptimization\n",
    "#https://github.com/fmfn/BayesianOptimization"
   ]
  },
  {
   "cell_type": "code",
   "execution_count": 117,
   "metadata": {},
   "outputs": [],
   "source": [
    "gp_params = {\"alpha\": 1e-5,\"n_restarts_optimizer\": 2}\n",
    "\n",
    "xgbBO = BayesianOptimization(xgbCV, {'min_child_weight': (1, 40),\n",
    "                                     'subsample': (0.2, 1),\n",
    "                                     'colsample_bytree': (0.7, 1),\n",
    "                                     'gamma': (0, 18),\n",
    "#                                     'reg_lambda': (1, 10),\n",
    "                                    })"
   ]
  },
  {
   "cell_type": "code",
   "execution_count": 118,
   "metadata": {},
   "outputs": [
    {
     "name": "stdout",
     "output_type": "stream",
     "text": [
      "\u001b[31mInitialization\u001b[0m\n",
      "\u001b[94m-------------------------------------------------------------------------------------------------\u001b[0m\n",
      " Step |   Time |      Value |   colsample_bytree |     gamma |   min_child_weight |   subsample | \n",
      "    1 | 00m47s | \u001b[35m  -0.69952\u001b[0m | \u001b[32m            0.7822\u001b[0m | \u001b[32m   5.5637\u001b[0m | \u001b[32m           23.8249\u001b[0m | \u001b[32m     0.8477\u001b[0m | \n",
      "    2 | 00m51s |   -0.70411 |             0.9425 |    1.9019 |            38.0029 |      0.2204 | \n",
      "    3 | 00m47s |   -0.70167 |             0.7172 |    7.8706 |             6.4215 |      0.9189 | \n",
      "    4 | 00m54s | \u001b[35m  -0.69611\u001b[0m | \u001b[32m            0.7564\u001b[0m | \u001b[32m   0.4539\u001b[0m | \u001b[32m           35.7835\u001b[0m | \u001b[32m     0.5648\u001b[0m | \n",
      "\u001b[31mBayesian Optimization\u001b[0m\n",
      "\u001b[94m-------------------------------------------------------------------------------------------------\u001b[0m\n",
      " Step |   Time |      Value |   colsample_bytree |     gamma |   min_child_weight |   subsample | \n",
      "    5 | 01m06s |   -0.71644 |             0.9175 |   17.9850 |             1.0022 |      0.4206 | \n",
      "    6 | 01m13s |   -0.69826 |             0.9799 |    0.0587 |             1.0251 |      0.4112 | \n",
      "    7 | 00m55s | \u001b[35m  -0.69109\u001b[0m | \u001b[32m            0.8886\u001b[0m | \u001b[32m   0.0307\u001b[0m | \u001b[32m            1.3910\u001b[0m | \u001b[32m     0.9799\u001b[0m | \n",
      "    8 | 01m04s |   -0.69117 |             0.9045 |    0.0247 |             1.2906 |      0.9930 | \n",
      "    9 | 00m48s |   -0.70623 |             0.7769 |    0.1496 |             1.0027 |      0.2471 | \n",
      "   10 | 00m56s |   -0.71076 |             0.8136 |   17.4830 |            39.8456 |      0.9771 | \n",
      "   11 | 01m00s | \u001b[35m  -0.68952\u001b[0m | \u001b[32m            0.9224\u001b[0m | \u001b[32m   0.0000\u001b[0m | \u001b[32m           39.9004\u001b[0m | \u001b[32m     0.9486\u001b[0m | \n",
      "   12 | 00m42s |   -0.69077 |             0.7952 |    0.0175 |            22.4878 |      0.9970 | \n",
      "   13 | 00m46s |   -0.69065 |             0.8672 |    0.0735 |            39.9478 |      0.9730 | \n",
      "   14 | 00m48s |   -0.69002 |             0.9984 |    0.1945 |            21.4455 |      0.9927 | \n",
      "   15 | 00m50s |   -0.69009 |             0.9650 |    0.0534 |            20.8285 |      0.9928 | \n",
      "   16 | 00m51s |   -0.69105 |             0.8200 |    0.2645 |            39.4438 |      0.9997 | \n",
      "   17 | 00m51s |   -0.69012 |             0.9772 |    0.0829 |            16.6106 |      0.9982 | \n",
      "   18 | 00m56s |   -0.69014 |             0.9814 |    0.0345 |            39.8159 |      0.9542 | \n",
      "   19 | 00m48s |   -0.69147 |             0.7012 |    0.0322 |            39.8242 |      0.9918 | \n",
      "   20 | 00m47s |   -0.69057 |             0.7011 |    0.0994 |            20.4075 |      0.9805 | \n",
      "   21 | 00m47s |   -0.69044 |             0.7466 |    0.0465 |             1.0714 |      0.9817 | \n",
      "   22 | 00m46s |   -0.68958 |             0.7043 |    0.0907 |            24.5496 |      0.9689 | \n",
      "   23 | 00m50s | \u001b[35m  -0.68887\u001b[0m | \u001b[32m            0.9957\u001b[0m | \u001b[32m   0.1925\u001b[0m | \u001b[32m           15.4920\u001b[0m | \u001b[32m     0.9751\u001b[0m | \n",
      "   24 | 00m40s |   -0.70188 |             0.7317 |    0.0571 |            16.2870 |      0.2032 | \n",
      "   25 | 00m50s |   -0.68965 |             0.9974 |    0.2227 |            29.9169 |      0.9952 | \n"
     ]
    },
    {
     "name": "stderr",
     "output_type": "stream",
     "text": [
      "/anaconda/lib/python3.6/site-packages/sklearn/gaussian_process/gpr.py:457: UserWarning: fmin_l_bfgs_b terminated abnormally with the  state: {'grad': array([  1.75330573e-05]), 'task': b'ABNORMAL_TERMINATION_IN_LNSRCH', 'funcalls': 48, 'nit': 3, 'warnflag': 2}\n",
      "  \" state: %s\" % convergence_dict)\n"
     ]
    },
    {
     "name": "stdout",
     "output_type": "stream",
     "text": [
      "   26 | 00m47s |   -0.70990 |             0.9920 |   17.9040 |            20.5340 |      0.9983 | \n",
      "   27 | 00m42s |   -0.69197 |             0.7300 |    0.1095 |            39.6012 |      0.9805 | \n",
      "   28 | 00m43s |   -0.69172 |             0.7084 |    0.0481 |             1.4359 |      0.9910 | \n"
     ]
    }
   ],
   "source": [
    "xgbBO.maximize(init_points=4,n_iter=24, acq=\"ei\", xi=1e-2, **gp_params)"
   ]
  },
  {
   "cell_type": "code",
   "execution_count": null,
   "metadata": {},
   "outputs": [],
   "source": [
    "# Intersting to notice that the gamma value was really low for the best solutions, which means that our feature\n",
    "# selection process with Oob_score worked! :]"
   ]
  },
  {
   "cell_type": "code",
   "execution_count": 119,
   "metadata": {},
   "outputs": [
    {
     "data": {
      "text/plain": [
       "-0.68887224514357936"
      ]
     },
     "execution_count": 119,
     "metadata": {},
     "output_type": "execute_result"
    }
   ],
   "source": [
    "xgbBO.res['max']['max_val']"
   ]
  },
  {
   "cell_type": "code",
   "execution_count": 120,
   "metadata": {},
   "outputs": [
    {
     "data": {
      "text/plain": [
       "{'colsample_bytree': 0.99567342269583392,\n",
       " 'gamma': 0.19246739099569932,\n",
       " 'min_child_weight': 15.491987773299941,\n",
       " 'subsample': 0.97514082858831919}"
      ]
     },
     "execution_count": 120,
     "metadata": {},
     "output_type": "execute_result"
    }
   ],
   "source": [
    "paramsBO = xgbBO.res['max']['max_params']\n",
    "paramsBO"
   ]
  },
  {
   "cell_type": "code",
   "execution_count": 121,
   "metadata": {},
   "outputs": [
    {
     "data": {
      "text/plain": [
       "XGBRegressor(base_score=0.5, booster='gbtree', colsample_bylevel=1,\n",
       "       colsample_bytree=0.99567342269583392, gamma=0.19246739099569932,\n",
       "       learning_rate=0.1, max_delta_step=0, max_depth=10,\n",
       "       min_child_weight=15, missing=None, n_estimators=300, n_jobs=6,\n",
       "       nthread=None, objective='reg:linear', random_state=0, reg_alpha=0,\n",
       "       reg_lambda=1, scale_pos_weight=1, seed=None, silent=True,\n",
       "       subsample=0.97514082858831919)"
      ]
     },
     "execution_count": 121,
     "metadata": {},
     "output_type": "execute_result"
    }
   ],
   "source": [
    "reg = xgb.sklearn.XGBRegressor(gamma=max(paramsBO['gamma'], 0),\n",
    "                                max_depth= 10,\n",
    "                                min_child_weight= int(paramsBO['min_child_weight']),\n",
    "                                subsample =  max(min(paramsBO['subsample'], 1), 0),#1,\n",
    "                                colsample_bytree= max(min(paramsBO['colsample_bytree'], 1), 0),\n",
    "#                                reg_lambda= max(paramsBO['reg_lambda'], 0),\n",
    "                                n_jobs=7, \n",
    "                                n_estimators=300) # Get some more trees\n",
    "\n",
    "reg.fit(train[predictors],train[target]) # Fit best Model on whole train data \n",
    "                                         # If you want to see the results from the cross-val you run the function \n",
    "                                         # with verbose = True"
   ]
  },
  {
   "cell_type": "code",
   "execution_count": 122,
   "metadata": {},
   "outputs": [
    {
     "data": {
      "text/plain": [
       "((201763,), (201763,))"
      ]
     },
     "execution_count": 122,
     "metadata": {},
     "output_type": "execute_result"
    }
   ],
   "source": [
    "ypred = reg.predict(train[predictors])\n",
    "ytrue= train[target].values\n",
    "\n",
    "ytrue.shape,ypred.shape"
   ]
  },
  {
   "cell_type": "code",
   "execution_count": 125,
   "metadata": {},
   "outputs": [
    {
     "data": {
      "text/plain": [
       "(0.4973765220494592, 0.63666936652813333)"
      ]
     },
     "execution_count": 125,
     "metadata": {},
     "output_type": "execute_result"
    }
   ],
   "source": [
    "from sklearn.metrics import mean_absolute_error as mae\n",
    "from regression_utils import rmse\n",
    "\n",
    "mae(ytrue,ypred),rmse(ytrue,ypred)"
   ]
  },
  {
   "cell_type": "code",
   "execution_count": 126,
   "metadata": {},
   "outputs": [
    {
     "data": {
      "text/plain": [
       "((50441,), (50441,))"
      ]
     },
     "execution_count": 126,
     "metadata": {},
     "output_type": "execute_result"
    }
   ],
   "source": [
    "ypred = reg.predict(valid[predictors])\n",
    "ytrue= valid[target].values\n",
    "\n",
    "ytrue.shape,ypred.shape"
   ]
  },
  {
   "cell_type": "code",
   "execution_count": 127,
   "metadata": {},
   "outputs": [
    {
     "data": {
      "text/plain": [
       "(0.56534846718016962, 0.71401428345095819)"
      ]
     },
     "execution_count": 127,
     "metadata": {},
     "output_type": "execute_result"
    }
   ],
   "source": [
    "mae(ytrue,ypred),rmse(ytrue,ypred)"
   ]
  },
  {
   "cell_type": "code",
   "execution_count": 129,
   "metadata": {},
   "outputs": [
    {
     "data": {
      "image/png": "[encoded data removed]",
      "text/plain": [
       "<matplotlib.figure.Figure at 0x1a2fce1748>"
      ]
     },
     "metadata": {},
     "output_type": "display_data"
    }
   ],
   "source": [
    "n_samples = 250\n",
    "fig = plt.figure(figsize=(16,6))     \n",
    "\n",
    "plt.plot(ytrue[:n_samples], c = 'blue',label='Log_Visitors - True')\n",
    "\n",
    "plt.plot(ypred[:n_samples], c = 'red', label='Log_Visitors - Predicted')\n",
    "\n",
    "\n",
    "plt.xticks(rotation=90)\n",
    "#plt.xscale('log')\n",
    "plt.title('XGBoost result')\n",
    "plt.xlabel('')\n",
    "plt.ylabel('')\n",
    "#plt.ylim([-25e-6,25e-6])\n",
    "plt.grid('on')\n",
    "plt.legend()\n",
    "plt.show()"
   ]
  },
  {
   "cell_type": "markdown",
   "metadata": {},
   "source": [
    "## ANN "
   ]
  },
  {
   "cell_type": "code",
   "execution_count": 302,
   "metadata": {},
   "outputs": [],
   "source": [
    "#Let's use all features \n",
    "predictors = [x for x in train.columns if x not in ['visitors_log','avg_temperature','precipitation',\n",
    "                                                    'reserve_ahead_seconds','reserve_visitors'] ]"
   ]
  },
  {
   "cell_type": "code",
   "execution_count": 434,
   "metadata": {},
   "outputs": [],
   "source": [
    "# Feature Scaling\n",
    "\n",
    "scaled= train[predictors+[target]].copy()\n",
    "scaled_valid= valid[predictors+[target]].copy()\n",
    "scaled_test = test[predictors].copy()"
   ]
  },
  {
   "cell_type": "code",
   "execution_count": 435,
   "metadata": {},
   "outputs": [],
   "source": [
    "from sklearn.preprocessing import MinMaxScaler,StandardScaler,RobustScaler\n",
    "#sc1 = MinMaxScaler(feature_range=(0,1),copy=False)\n",
    "sc1 = StandardScaler(copy=False)\n",
    "#sc1 = RobustScaler()"
   ]
  },
  {
   "cell_type": "code",
   "execution_count": 436,
   "metadata": {},
   "outputs": [],
   "source": [
    "scaled[predictors] = sc1.fit_transform(scaled[predictors])\n",
    "scaled_test[predictors] = sc1.transform(scaled_test[predictors])\n",
    "scaled_valid[predictors] = sc1.transform(scaled_valid[predictors])"
   ]
  },
  {
   "cell_type": "code",
   "execution_count": 437,
   "metadata": {},
   "outputs": [
    {
     "data": {
      "text/plain": [
       "20"
      ]
     },
     "execution_count": 437,
     "metadata": {},
     "output_type": "execute_result"
    }
   ],
   "source": [
    "len(predictors)"
   ]
  },
  {
   "cell_type": "code",
   "execution_count": 508,
   "metadata": {},
   "outputs": [],
   "source": [
    "from regression_utils import MLP_Regressor\n",
    "\n",
    "mlp = MLP_Regressor(n_estimators=[20,40,20],dp=None,\n",
    "                    input_dim= len(predictors))"
   ]
  },
  {
   "cell_type": "code",
   "execution_count": 509,
   "metadata": {
    "scrolled": false
   },
   "outputs": [
    {
     "name": "stdout",
     "output_type": "stream",
     "text": [
      "_________________________________________________________________\n",
      "Layer (type)                 Output Shape              Param #   \n",
      "=================================================================\n",
      "dense_94 (Dense)             (None, 20)                420       \n",
      "_________________________________________________________________\n",
      "dense_95 (Dense)             (None, 40)                840       \n",
      "_________________________________________________________________\n",
      "dense_96 (Dense)             (None, 20)                820       \n",
      "_________________________________________________________________\n",
      "dense_97 (Dense)             (None, 1)                 21        \n",
      "=================================================================\n",
      "Total params: 2,101\n",
      "Trainable params: 2,101\n",
      "Non-trainable params: 0\n",
      "_________________________________________________________________\n"
     ]
    }
   ],
   "source": [
    "mlp.summary()"
   ]
  },
  {
   "cell_type": "code",
   "execution_count": 510,
   "metadata": {},
   "outputs": [],
   "source": [
    "from keras.optimizers import Adam,RMSprop\n",
    "\n",
    "opt = Adam(lr = 1e-3,decay=1e-5)\n",
    "mlp.compile(loss='mae',\n",
    "              optimizer=opt,)"
   ]
  },
  {
   "cell_type": "code",
   "execution_count": 511,
   "metadata": {},
   "outputs": [],
   "source": [
    "import os\n",
    "model_name = \"./Recruit_Visitors.hdf5\"\n",
    "reset=True\n",
    "if reset and os.path.exists(model_name):\n",
    "    os.remove(model_name)    "
   ]
  },
  {
   "cell_type": "code",
   "execution_count": 512,
   "metadata": {},
   "outputs": [],
   "source": [
    "from keras.callbacks import EarlyStopping,ModelCheckpoint,ReduceLROnPlateau\n",
    "from clr_callback import CyclicLR  # Cyclical Learning Rate #https://github.com/bckenstler/CLR"
   ]
  },
  {
   "cell_type": "code",
   "execution_count": 513,
   "metadata": {},
   "outputs": [
    {
     "data": {
      "text/plain": [
       "(201763, 21)"
      ]
     },
     "execution_count": 513,
     "metadata": {},
     "output_type": "execute_result"
    }
   ],
   "source": [
    "scaled.shape"
   ]
  },
  {
   "cell_type": "code",
   "execution_count": 514,
   "metadata": {},
   "outputs": [],
   "source": [
    "epochs= 500\n",
    "batch_size = 1500\n",
    "\n",
    "#Learning rate Policies:\n",
    "clr  = CyclicLR(base_lr=1e-3,max_lr=6e-3,mode=\"exp_range\",step_size= 270.0)\n",
    "\n",
    "stepLR = ReduceLROnPlateau(factor=0.75,patience=10,min_lr=1e-9,verbose=1)\n",
    "\n",
    "# Callbacks list\n",
    "cb = [EarlyStopping(monitor='val_loss',patience=30,verbose=1,mode='min'), \n",
    "      ModelCheckpoint(filepath=model_name, monitor='val_loss', verbose=0, save_best_only=True,save_weights_only=True),\n",
    "      stepLR]"
   ]
  },
  {
   "cell_type": "code",
   "execution_count": 515,
   "metadata": {},
   "outputs": [
    {
     "name": "stdout",
     "output_type": "stream",
     "text": [
      "Train on 201763 samples, validate on 50441 samples\n",
      "Epoch 1/500\n",
      "201763/201763 [==============================] - 2s 12us/step - loss: 1.0886 - val_loss: 0.8533\n",
      "Epoch 2/500\n",
      "201763/201763 [==============================] - 1s 5us/step - loss: 0.6594 - val_loss: 0.8083\n",
      "Epoch 3/500\n",
      "201763/201763 [==============================] - 1s 5us/step - loss: 0.6386 - val_loss: 0.8018\n",
      "Epoch 4/500\n",
      "201763/201763 [==============================] - 1s 5us/step - loss: 0.6313 - val_loss: 0.7452\n",
      "Epoch 5/500\n",
      "201763/201763 [==============================] - 1s 5us/step - loss: 0.6281 - val_loss: 0.7503\n",
      "Epoch 6/500\n",
      "201763/201763 [==============================] - 1s 5us/step - loss: 0.6257 - val_loss: 0.7776\n",
      "Epoch 7/500\n",
      "201763/201763 [==============================] - 1s 5us/step - loss: 0.6242 - val_loss: 0.7311\n",
      "Epoch 8/500\n",
      "201763/201763 [==============================] - 1s 5us/step - loss: 0.6230 - val_loss: 0.7036\n",
      "Epoch 9/500\n",
      "201763/201763 [==============================] - 1s 5us/step - loss: 0.6218 - val_loss: 0.7177\n",
      "Epoch 10/500\n",
      "201763/201763 [==============================] - 1s 6us/step - loss: 0.6210 - val_loss: 0.7137\n",
      "Epoch 11/500\n",
      "201763/201763 [==============================] - 1s 6us/step - loss: 0.6201 - val_loss: 0.7470\n",
      "Epoch 12/500\n",
      "201763/201763 [==============================] - 1s 5us/step - loss: 0.6191 - val_loss: 0.7146\n",
      "Epoch 13/500\n",
      "201763/201763 [==============================] - 1s 6us/step - loss: 0.6189 - val_loss: 0.7090\n",
      "Epoch 14/500\n",
      "201763/201763 [==============================] - 1s 6us/step - loss: 0.6183 - val_loss: 0.7439\n",
      "Epoch 15/500\n",
      "201763/201763 [==============================] - 1s 5us/step - loss: 0.6176 - val_loss: 0.6852\n",
      "Epoch 16/500\n",
      "201763/201763 [==============================] - 1s 5us/step - loss: 0.6171 - val_loss: 0.7090\n",
      "Epoch 17/500\n",
      "201763/201763 [==============================] - 1s 6us/step - loss: 0.6164 - val_loss: 0.7095\n",
      "Epoch 18/500\n",
      "201763/201763 [==============================] - 1s 5us/step - loss: 0.6158 - val_loss: 0.6892\n",
      "Epoch 19/500\n",
      "201763/201763 [==============================] - 1s 5us/step - loss: 0.6152 - val_loss: 0.7232\n",
      "Epoch 20/500\n",
      "201763/201763 [==============================] - 1s 5us/step - loss: 0.6146 - val_loss: 0.7249\n",
      "Epoch 21/500\n",
      "201763/201763 [==============================] - 1s 5us/step - loss: 0.6143 - val_loss: 0.7362\n",
      "Epoch 22/500\n",
      "201763/201763 [==============================] - 1s 5us/step - loss: 0.6138 - val_loss: 0.6825\n",
      "Epoch 23/500\n",
      "201763/201763 [==============================] - 1s 5us/step - loss: 0.6129 - val_loss: 0.6889\n",
      "Epoch 24/500\n",
      "201763/201763 [==============================] - 1s 6us/step - loss: 0.6129 - val_loss: 0.7039\n",
      "Epoch 25/500\n",
      "201763/201763 [==============================] - 1s 5us/step - loss: 0.6124 - val_loss: 0.6931\n",
      "Epoch 26/500\n",
      "201763/201763 [==============================] - 1s 6us/step - loss: 0.6116 - val_loss: 0.6826\n",
      "Epoch 27/500\n",
      "201763/201763 [==============================] - 1s 5us/step - loss: 0.6110 - val_loss: 0.7241\n",
      "Epoch 28/500\n",
      "201763/201763 [==============================] - 1s 6us/step - loss: 0.6102 - val_loss: 0.7072\n",
      "Epoch 29/500\n",
      "201763/201763 [==============================] - 1s 5us/step - loss: 0.6100 - val_loss: 0.6950\n",
      "Epoch 30/500\n",
      "201763/201763 [==============================] - 1s 5us/step - loss: 0.6087 - val_loss: 0.6950\n",
      "Epoch 31/500\n",
      "201763/201763 [==============================] - 1s 5us/step - loss: 0.6076 - val_loss: 0.6960\n",
      "Epoch 32/500\n",
      "201763/201763 [==============================] - 1s 6us/step - loss: 0.6070 - val_loss: 0.6828\n",
      "Epoch 33/500\n",
      "201763/201763 [==============================] - 1s 5us/step - loss: 0.6069 - val_loss: 0.6818\n",
      "Epoch 34/500\n",
      "201763/201763 [==============================] - 1s 5us/step - loss: 0.6058 - val_loss: 0.6801\n",
      "Epoch 35/500\n",
      "201763/201763 [==============================] - 1s 5us/step - loss: 0.6052 - val_loss: 0.6955\n",
      "Epoch 36/500\n",
      "201763/201763 [==============================] - 1s 5us/step - loss: 0.6046 - val_loss: 0.6900\n",
      "Epoch 37/500\n",
      "201763/201763 [==============================] - 1s 5us/step - loss: 0.6044 - val_loss: 0.7218\n",
      "Epoch 38/500\n",
      "201763/201763 [==============================] - 1s 5us/step - loss: 0.6039 - val_loss: 0.6981\n",
      "Epoch 39/500\n",
      "201763/201763 [==============================] - 1s 5us/step - loss: 0.6031 - val_loss: 0.6871\n",
      "Epoch 40/500\n",
      "201763/201763 [==============================] - 1s 6us/step - loss: 0.6026 - val_loss: 0.6835\n",
      "Epoch 41/500\n",
      "201763/201763 [==============================] - 1s 5us/step - loss: 0.6024 - val_loss: 0.6839\n",
      "Epoch 42/500\n",
      "201763/201763 [==============================] - 1s 5us/step - loss: 0.6020 - val_loss: 0.6795\n",
      "Epoch 43/500\n",
      "201763/201763 [==============================] - 1s 5us/step - loss: 0.6016 - val_loss: 0.6802\n",
      "Epoch 44/500\n",
      "201763/201763 [==============================] - 1s 5us/step - loss: 0.6012 - val_loss: 0.6913\n",
      "Epoch 45/500\n",
      "201763/201763 [==============================] - 1s 6us/step - loss: 0.6015 - val_loss: 0.6782\n",
      "Epoch 46/500\n",
      "201763/201763 [==============================] - 1s 5us/step - loss: 0.6006 - val_loss: 0.6834\n",
      "Epoch 47/500\n",
      "201763/201763 [==============================] - 1s 5us/step - loss: 0.6007 - val_loss: 0.6687\n",
      "Epoch 48/500\n",
      "201763/201763 [==============================] - 1s 5us/step - loss: 0.5997 - val_loss: 0.6815\n",
      "Epoch 49/500\n",
      "201763/201763 [==============================] - 1s 5us/step - loss: 0.5998 - val_loss: 0.6802\n",
      "Epoch 50/500\n",
      "201763/201763 [==============================] - 1s 5us/step - loss: 0.5994 - val_loss: 0.6823\n",
      "Epoch 51/500\n",
      "201763/201763 [==============================] - 1s 5us/step - loss: 0.5989 - val_loss: 0.6766\n",
      "Epoch 52/500\n",
      "201763/201763 [==============================] - 1s 5us/step - loss: 0.5986 - val_loss: 0.6948\n",
      "Epoch 53/500\n",
      "201763/201763 [==============================] - 1s 6us/step - loss: 0.5986 - val_loss: 0.6805\n",
      "Epoch 54/500\n",
      "201763/201763 [==============================] - 1s 5us/step - loss: 0.5977 - val_loss: 0.6819\n",
      "Epoch 55/500\n",
      "201763/201763 [==============================] - 1s 6us/step - loss: 0.5978 - val_loss: 0.6909\n",
      "Epoch 56/500\n",
      "201763/201763 [==============================] - 1s 6us/step - loss: 0.5971 - val_loss: 0.6804\n",
      "Epoch 57/500\n",
      "201763/201763 [==============================] - 1s 5us/step - loss: 0.5972 - val_loss: 0.6821\n",
      "Epoch 58/500\n",
      "195000/201763 [===========================>..] - ETA: 0s - loss: 0.5967\n",
      "Epoch 00058: reducing learning rate to 0.0007500000356230885.\n",
      "201763/201763 [==============================] - 2s 8us/step - loss: 0.5968 - val_loss: 0.7059\n",
      "Epoch 59/500\n",
      "201763/201763 [==============================] - 1s 6us/step - loss: 0.5962 - val_loss: 0.6857\n",
      "Epoch 60/500\n",
      "201763/201763 [==============================] - 1s 5us/step - loss: 0.5962 - val_loss: 0.6770\n",
      "Epoch 61/500\n",
      "201763/201763 [==============================] - 2s 12us/step - loss: 0.5958 - val_loss: 0.6797\n",
      "Epoch 62/500\n",
      "201763/201763 [==============================] - 2s 8us/step - loss: 0.5954 - val_loss: 0.6807\n",
      "Epoch 63/500\n",
      "201763/201763 [==============================] - 2s 7us/step - loss: 0.5955 - val_loss: 0.6842\n",
      "Epoch 64/500\n",
      "201763/201763 [==============================] - 1s 7us/step - loss: 0.5950 - val_loss: 0.6816\n",
      "Epoch 65/500\n",
      "201763/201763 [==============================] - 1s 7us/step - loss: 0.5947 - val_loss: 0.6804\n",
      "Epoch 66/500\n",
      "201763/201763 [==============================] - 2s 8us/step - loss: 0.5948 - val_loss: 0.6857\n",
      "Epoch 67/500\n",
      "201763/201763 [==============================] - 2s 8us/step - loss: 0.5947 - val_loss: 0.6886\n",
      "Epoch 68/500\n",
      "201000/201763 [============================>.] - ETA: 0s - loss: 0.5943\n",
      "Epoch 00068: reducing learning rate to 0.0005625000048894435.\n",
      "201763/201763 [==============================] - 1s 6us/step - loss: 0.5944 - val_loss: 0.7027\n",
      "Epoch 69/500\n",
      "201763/201763 [==============================] - 1s 7us/step - loss: 0.5941 - val_loss: 0.6774\n",
      "Epoch 70/500\n",
      "201763/201763 [==============================] - 2s 9us/step - loss: 0.5935 - val_loss: 0.6783\n",
      "Epoch 71/500\n",
      "201763/201763 [==============================] - 1s 6us/step - loss: 0.5935 - val_loss: 0.6867\n",
      "Epoch 72/500\n",
      "201763/201763 [==============================] - 1s 5us/step - loss: 0.5936 - val_loss: 0.6720\n",
      "Epoch 73/500\n",
      "201763/201763 [==============================] - 1s 5us/step - loss: 0.5935 - val_loss: 0.6704\n"
     ]
    },
    {
     "name": "stdout",
     "output_type": "stream",
     "text": [
      "Epoch 74/500\n",
      "201763/201763 [==============================] - 1s 5us/step - loss: 0.5933 - val_loss: 0.6847\n",
      "Epoch 75/500\n",
      "201763/201763 [==============================] - 1s 6us/step - loss: 0.5931 - val_loss: 0.6758\n",
      "Epoch 76/500\n",
      "201763/201763 [==============================] - 1s 6us/step - loss: 0.5927 - val_loss: 0.6795\n",
      "Epoch 77/500\n",
      "201763/201763 [==============================] - 1s 6us/step - loss: 0.5929 - val_loss: 0.6758\n",
      "Epoch 00077: early stopping\n"
     ]
    }
   ],
   "source": [
    "history = mlp.fit(scaled[predictors].values,scaled[target].values,\n",
    "                   epochs = epochs, batch_size = batch_size,\n",
    "                   verbose= 1, validation_data=(scaled_valid[predictors].values,scaled_valid[target].values),\n",
    "                   callbacks=cb)"
   ]
  },
  {
   "cell_type": "code",
   "execution_count": 516,
   "metadata": {},
   "outputs": [
    {
     "data": {
      "image/png": "[encoded data removed]",
      "text/plain": [
       "<matplotlib.figure.Figure at 0x1a57d36470>"
      ]
     },
     "metadata": {},
     "output_type": "display_data"
    }
   ],
   "source": [
    "fig = plt.figure(figsize=(15,6))\n",
    "plt.plot(history.history[\"loss\"],label=\"Train\") \n",
    "plt.plot(history.history[\"val_loss\"],label=\"Val\")\n",
    "#plt.ylim(0.6,1.2) \n",
    "plt.title('Mean Absolute error ANN')\n",
    "plt.ylabel(\"Loss\")\n",
    "plt.xlabel(\"Epochs\")\n",
    "plt.legend()\n",
    "plt.grid(True)\n",
    "\n",
    "plt.show()"
   ]
  },
  {
   "cell_type": "code",
   "execution_count": 517,
   "metadata": {},
   "outputs": [],
   "source": [
    "# Getting weights from best epoch\n",
    "mlp.load_weights(model_name)\n",
    "\n",
    "opt = Adam(lr = 1e-3)\n",
    "\n",
    "mlp.compile(loss='mae',\n",
    "              optimizer=opt)"
   ]
  },
  {
   "cell_type": "code",
   "execution_count": 518,
   "metadata": {},
   "outputs": [],
   "source": [
    "y_pred = mlp.predict(scaled[predictors].values,batch_size=batch_size,verbose=0)\n",
    "y_true = scaled[target].values.reshape(-1,1)"
   ]
  },
  {
   "cell_type": "code",
   "execution_count": 519,
   "metadata": {},
   "outputs": [
    {
     "data": {
      "text/plain": [
       "(0.59974286681328814, 0.76279143119271897)"
      ]
     },
     "execution_count": 519,
     "metadata": {},
     "output_type": "execute_result"
    }
   ],
   "source": [
    "mae(y_true,y_pred),rmse(y_true,y_pred)"
   ]
  },
  {
   "cell_type": "code",
   "execution_count": 520,
   "metadata": {},
   "outputs": [
    {
     "name": "stdout",
     "output_type": "stream",
     "text": [
      "50441/50441 [==============================] - 3s 66us/step\n"
     ]
    },
    {
     "data": {
      "text/plain": [
       "0.66873754354598192"
      ]
     },
     "execution_count": 520,
     "metadata": {},
     "output_type": "execute_result"
    }
   ],
   "source": [
    "#Validation\n",
    "mlp.evaluate(scaled_valid[predictors].values,scaled_valid[target].values,verbose=1)"
   ]
  },
  {
   "cell_type": "code",
   "execution_count": 521,
   "metadata": {},
   "outputs": [],
   "source": [
    "#mlp.save_weights('./MAE_0.6423_Recruit_log1p.hdf5')\n",
    "\n",
    "y_pred = mlp.predict(scaled_valid[predictors].values,batch_size=batch_size,verbose=0)\n",
    "y_true = scaled_valid[target].values.reshape(-1,1)"
   ]
  },
  {
   "cell_type": "code",
   "execution_count": 522,
   "metadata": {},
   "outputs": [
    {
     "data": {
      "text/plain": [
       "(0.66873754729291113, 0.84850662606376159)"
      ]
     },
     "execution_count": 522,
     "metadata": {},
     "output_type": "execute_result"
    }
   ],
   "source": [
    "mae(y_true,y_pred),rmse(y_true,y_pred)"
   ]
  },
  {
   "cell_type": "code",
   "execution_count": 523,
   "metadata": {},
   "outputs": [
    {
     "data": {
      "image/png": "[encoded data removed]",
      "text/plain": [
       "<matplotlib.figure.Figure at 0x1a57d18240>"
      ]
     },
     "metadata": {},
     "output_type": "display_data"
    }
   ],
   "source": [
    "n_samples = 300\n",
    "fig = plt.figure(figsize=(16,6))     \n",
    "\n",
    "plt.plot(y_true[:n_samples], c = 'blue',label='log(1+Idletime) - True')\n",
    "\n",
    "plt.plot(y_pred[:n_samples], c = 'red', label='log(1+Idletime) - Predicted')\n",
    "\n",
    "\n",
    "plt.xticks(rotation=90)\n",
    "#plt.xscale('log')\n",
    "plt.title('ANN test result')\n",
    "plt.xlabel('')\n",
    "plt.ylabel('')\n",
    "#plt.ylim([-25e-6,25e-6])\n",
    "plt.grid('on')\n",
    "plt.legend()\n",
    "plt.show()"
   ]
  },
  {
   "cell_type": "markdown",
   "metadata": {},
   "source": [
    "### Create and submit prediction"
   ]
  },
  {
   "cell_type": "code",
   "execution_count": null,
   "metadata": {},
   "outputs": [],
   "source": [
    "test[['id', 'visitors']].to_csv('xgboost_submission.csv', index=False, float_format='%.3f') "
   ]
  },
  {
   "cell_type": "code",
   "execution_count": null,
   "metadata": {},
   "outputs": [],
   "source": [
    "!kaggle competitions submit -c recruit-restaurant-visitor-forecasting -f xgboost_submission.csv -m \"xgboost model\""
   ]
  },
  {
   "cell_type": "code",
   "execution_count": null,
   "metadata": {},
   "outputs": [],
   "source": []
  }
 ],
 "metadata": {
  "kernelspec": {
   "display_name": "Python 3",
   "language": "python",
   "name": "python3"
  },
  "language_info": {
   "codemirror_mode": {
    "name": "ipython",
    "version": 3
   },
   "file_extension": ".py",
   "mimetype": "text/x-python",
   "name": "python",
   "nbconvert_exporter": "python",
   "pygments_lexer": "ipython3",
   "version": "3.6.4"
  },
  "varInspector": {
   "cols": {
    "lenName": 16,
    "lenType": 16,
    "lenVar": 40
   },
   "kernels_config": {
    "python": {
     "delete_cmd_postfix": "",
     "delete_cmd_prefix": "del ",
     "library": "var_list.py",
     "varRefreshCmd": "print(var_dic_list())"
    },
    "r": {
     "delete_cmd_postfix": ") ",
     "delete_cmd_prefix": "rm(",
     "library": "var_list.r",
     "varRefreshCmd": "cat(var_dic_list()) "
    }
   },
   "types_to_exclude": [
    "module",
    "function",
    "builtin_function_or_method",
    "instance",
    "_Feature"
   ],
   "window_display": false
  }
 },
 "nbformat": 4,
 "nbformat_minor": 2
}
